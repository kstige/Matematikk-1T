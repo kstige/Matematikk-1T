{
 "cells": [
  {
   "attachments": {},
   "cell_type": "markdown",
   "metadata": {},
   "source": [
    "# Eksponentialfunksjoner\n",
    "\n",
    "Eksponentialfunksjoner er en funksjonstype som viser størrelser som endrer seg med en fast prosentstørrelse for hver tidsperiode.\n",
    "\n",
    "```{admonition} Definisjon: Eksponentialfunksjoner\n",
    ":class: def\n",
    "Eksponentialfunksjoner kan skrives på formen $f(x)=a\\cdot b^x$, der $b>0$.\n",
    "\n",
    "Vi ser at $a$ er funksjonsverdien når $x=0$ (skjæringspunktet med $y$-aksen), mens $b$ er en vekstfaktor. Eksponentialfunksjonen viser en utvikling som endrer seg med en fast prosentstørrelse for hver periode. Det kalles en eksponentiell endring.\n",
    "\n",
    " * Om $0<b<1$ vil funksjonen være avtagende.\n",
    " * Om $b>1$ vil funksjonen være stigende.\n",
    "```\n",
    "\n",
    "Vekstfaktor er et begrep vi kjenner fra prosentregning.\n",
    "\n",
    "```{admonition} Definisjon: Vekstfaktor\n",
    ":class: def\n",
    "Dersom en størrelse øker eller minker med $p$ % vil vekstfaktoren være gitt ved $1\\pm \\frac{p}{100}$ der $+$ er ved økning og $-$ er ved nedang.\n",
    "\n",
    "Når vi kjenner vekstfaktoren kan vi finne ny verdi ved\n",
    "\n",
    "$$\n",
    "\\begin{align*} \n",
    "\\! N &= \\qquad G && \\cdot & V \\\\ \n",
    "\\textrm{ny verdi} &= \\textrm{gammel verdi} && \\cdot &\\textrm{vekstfaktor}\n",
    "\\end{align*}\n",
    "$$\n",
    "\n",
    "Når en størrelse endrer seg med samme prosent over flere perioder (f.eks. år) vil vi kunne regne ut ny verdi fra gammel verdi med:\n",
    "\n",
    "$$\n",
    "N = G\\cdot V^{\\text{antall perioder}}\n",
    "$$\n",
    "\n",
    "Dersom vi kaller ny verdi $f(x)$, gammel verdi $a$, vekstfaktor $b$ og antall perioder for $x$ ser vi at dette er akkurat formen til eksponentialfunksjonen.\n",
    "```"
   ]
  },
  {
   "attachments": {},
   "cell_type": "markdown",
   "metadata": {},
   "source": [
    "`````{admonition} Eksempel: Renteregning\n",
    ":class: eksempel, dropdown\n",
    "\n",
    "Du setter 20000 kr inn i banken til fastrente på 3,0 % for hvert år. Det her kan beskrives ved hjelp av en eksponentialfunksjon med startverdi 20000 og vekstfaktor $1+\\frac{3}{100}=1,03$. Eksponentialfunksjonen blir\n",
    "\n",
    "$$f(x)=20000\\cdot 1,03^x$$\n",
    "\n",
    "der $x$ er antall år etter at du setter inn pengene. Vi tegner grafen til funksjonen\n",
    "\n",
    "```{figure} ./bilder/renter.png\n",
    "---\n",
    "scale: 20%\n",
    "align: center\n",
    "---\n",
    "```\n",
    "\n",
    "Vi ser at funksjonen stiger raskere og raskere. Det er på grunn av at vi hele tiden også får renter av rentene. Penger du setter i banken gir altså et eksempel på eksponentiell vekst.\n",
    "`````"
   ]
  },
  {
   "attachments": {},
   "cell_type": "markdown",
   "metadata": {},
   "source": [
    "## Videoer\n",
    "Her kan du se videoer for en del av innholdet på denne siden:\n",
    "\n",
    "````{tab-set} \n",
    "```{tab-item} Introduksjon\n",
    "<iframe width=\"680\" height=\"350\" src=\"https://www.youtube.com/embed/_7Ioav29USE\" title=\"YouTube video player\" frameborder=\"0\" allow=\"accelerometer; autoplay; clipboard-write; encrypted-media; gyroscope; picture-in-picture; web-share\" allowfullscreen></iframe>\n",
    "```\n",
    "\n",
    "````"
   ]
  }
 ],
 "metadata": {
  "kernelspec": {
   "display_name": "Python37",
   "language": "python",
   "name": "python3"
  },
  "language_info": {
   "codemirror_mode": {
    "name": "ipython",
    "version": 3
   },
   "file_extension": ".py",
   "mimetype": "text/x-python",
   "name": "python",
   "nbconvert_exporter": "python",
   "pygments_lexer": "ipython3",
   "version": "3.7.15 (default, Nov 24 2022, 18:44:54) [MSC v.1916 64 bit (AMD64)]"
  },
  "vscode": {
   "interpreter": {
    "hash": "6fbbe1ff1dbaaf20226355198eb8fd50bda93b517708eea3a794f0f516b66309"
   }
  }
 },
 "nbformat": 4,
 "nbformat_minor": 2
}
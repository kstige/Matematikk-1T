{
 "cells": [
  {
   "attachments": {},
   "cell_type": "markdown",
   "metadata": {},
   "source": [
    "# Gjennomsnittlig vekstfart\n",
    "\n",
    "For lineære funksjoner har vi sett på stigningstallet. Det forteller hvor raskt funksjonen endrer seg. Det som er spesielt med lineære funksjoner er at de endrer seg med dette samme stigningstallet hele tiden. Stigningstallet kan også kalles vekstfarten til den lineære funksjoner.\n",
    "\n",
    "Andre funksjonstyper har ikke et stignignstall, men det kan allikevel være nyttig å se på vekstfarten til funksjonen. Vi tar utgangspunkt i definisjonen av vekstfarten (stigningstallet) til en lineær funksjon når vi definerer det vi vil kalle gjennomsnittlig vekstfart.\n",
    "\n",
    "```{admonition} Definisjon: Gjennomsnittlig vekstfart\n",
    "For å finne den gjennomsnittlige vekstfarten til funksjonen $f(x)$ på intervallet $[x_1, x_2]$ bruker vi\n",
    "\n",
    "$$\n",
    "\\frac{\\Delta f(x)}{\\Delta x} = \\frac{f(x_2)-f(x_1)}{x_2-x_1}\n",
    "$$\n",
    "\n",
    "Dette er det samme som stigningstallet til den rette linja gjennom punktene $(x_1, f(x_1))$ og $(x_2, f(x_2))$.\n",
    "\n",
    "Vekstfarten har en enhet som er gitt ved enheten til $f(x)$ delt på enheten til $x$.\n",
    "```"
   ]
  },
  {
   "cell_type": "code",
   "execution_count": 2,
   "metadata": {
    "tags": [
     "remove-input"
    ]
   },
   "outputs": [
    {
     "data": {
      "text/html": [
       "\n",
       "<!DOCTYPE html>\n",
       "<html>\n",
       "<head>\n",
       "<meta name=viewport content=\"width=device-width,initial-scale=1\">\n",
       "<meta charset=\"utf-8\"/>\n",
       "<script src=\"https://cdn.geogebra.org/apps/deployggb.js\"></script>\n",
       "\n",
       "</head>\n",
       "<body>\n",
       "\n",
       "<script>\n",
       "var views = {'is3D': 1,'AV': 0,'SV': 0,'CV': 0,'EV2': 1,'CP': 0,'PC': 0,'DA': 0,'FI': 0,'macro': 0};\n",
       "var parameters1 = {\"id\": \"app1\",\"width\":1550,\"height\":600,\"showMenuBar\":false, \"bordercolor\": \"#be8322\",\"showAlgebraInput\":false,\"showToolBar\":false,\"customToolBar\":\"0 73 62 | 1 501 67 , 5 19 , 72 75 76 | 2 15 45 , 18 65 , 7 37 | 4 3 8 9 , 13 44 , 58 , 47 | 16 51 64 , 70 | 10 34 53 11 , 24  20 22 , 21 23 | 55 56 57 , 12 | 36 46 , 38 49  50 , 71  14  68 | 30 29 54 32 31 33 | 25 17 26 60 52 61 | 40 41 42 , 27 28 35 , 6\",\"showToolBarHelp\":false,\"showResetIcon\":true,\"enableLabelDrags\":false,\"enableShiftDragZoom\":true,\"enableRightClick\":false,\"errorDialogsActive\":false,\"useBrowserForJS\":false,\"allowStyleBar\":false,\"preventFocus\":false,\"showZoomButtons\":true,\"capturingThreshold\":3,\"appletOnLoad\":function(api){ /* api.evalCommand('Segment((1,2),(3,4))');*/ },\"showFullscreenButton\":true,\"scale\":1,\"disableAutoScale\":false,\"allowUpscale\":false,\"clickToLoad\":false,\"appName\":\"classic\",\"buttonRounding\":0.7,\"buttonShadows\":false,\"language\":\"nb\",\"ggbBase64\":\"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\"};\n",
       "var applet1 = new GGBApplet(parameters1, '5.0', views);\n",
       "\n",
       "window.addEventListener(\"load\", function() { \n",
       "        applet.inject('ggb-element');\n",
       "                 });\n",
       "\n",
       "applet.setPreviewImage('data:image/gif;base64,R0lGODlhAQABAAAAADs=','https://www.geogebra.org/images/GeoGebra_loading.png','https://www.geogebra.org/images/applet_play.png');\n",
       "</script>\n",
       "\n",
       "</body>\n",
       "</html>\n"
      ],
      "text/plain": [
       "<IPython.core.display.HTML object>"
      ]
     },
     "metadata": {},
     "output_type": "display_data"
    }
   ],
   "source": [
    "%%html\n",
    "\n",
    "<!DOCTYPE html>\n",
    "<html>\n",
    "<head>\n",
    "<meta name=viewport content=\"width=device-width,initial-scale=1\">\n",
    "<meta charset=\"utf-8\"/>\n",
    "<script src=\"https://cdn.geogebra.org/apps/deployggb.js\"></script>\n",
    "\n",
    "</head>\n",
    "<body>\n",
    "\n",
    "<script>\n",
    "var views = {'is3D': 1,'AV': 0,'SV': 0,'CV': 0,'EV2': 1,'CP': 0,'PC': 0,'DA': 0,'FI': 0,'macro': 0};\n",
    "var parameters1 = {\"id\": \"app1\",\"width\":1550,\"height\":600,\"showMenuBar\":false, \"bordercolor\": \"#be8322\",\"showAlgebraInput\":false,\"showToolBar\":false,\"customToolBar\":\"0 73 62 | 1 501 67 , 5 19 , 72 75 76 | 2 15 45 , 18 65 , 7 37 | 4 3 8 9 , 13 44 , 58 , 47 | 16 51 64 , 70 | 10 34 53 11 , 24  20 22 , 21 23 | 55 56 57 , 12 | 36 46 , 38 49  50 , 71  14  68 | 30 29 54 32 31 33 | 25 17 26 60 52 61 | 40 41 42 , 27 28 35 , 6\",\"showToolBarHelp\":false,\"showResetIcon\":true,\"enableLabelDrags\":false,\"enableShiftDragZoom\":true,\"enableRightClick\":false,\"errorDialogsActive\":false,\"useBrowserForJS\":false,\"allowStyleBar\":false,\"preventFocus\":false,\"showZoomButtons\":true,\"capturingThreshold\":3,\"appletOnLoad\":function(api){ /* api.evalCommand('Segment((1,2),(3,4))');*/ },\"showFullscreenButton\":true,\"scale\":1,\"disableAutoScale\":false,\"allowUpscale\":false,\"clickToLoad\":false,\"appName\":\"classic\",\"buttonRounding\":0.7,\"buttonShadows\":false,\"language\":\"nb\",\"ggbBase64\":\"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\"};\n",
    "var applet1 = new GGBApplet(parameters1, '5.0', views);\n",
    "\n",
    "window.addEventListener(\"load\", function() { \n",
    "        applet.inject('ggb-element');\n",
    "                 });\n",
    "\n",
    "applet.setPreviewImage('data:image/gif;base64,R0lGODlhAQABAAAAADs=','https://www.geogebra.org/images/GeoGebra_loading.png','https://www.geogebra.org/images/applet_play.png');\n",
    "</script>\n",
    "\n",
    "<div id=\"ggb-element\"></div> \n",
    "\n",
    "</body>\n",
    "</html>\n"
   ]
  },
  {
   "attachments": {},
   "cell_type": "markdown",
   "metadata": {},
   "source": [
    "## Videoer\n",
    "Her kan du se videoer for en del av innholdet på denne siden:\n",
    "\n",
    "````{tab-set} \n",
    "```{tab-item} Introduksjon\n",
    "<iframe width=\"680\" height=\"350\" src=\"https://www.youtube.com/embed/arxmvGGeFdU\" title=\"YouTube video player\" frameborder=\"0\" allow=\"accelerometer; autoplay; clipboard-write; encrypted-media; gyroscope; picture-in-picture; web-share\" allowfullscreen></iframe>\n",
    "```\n",
    "\n",
    "```{tab-item} Eksempel i GeoGebra\n",
    "<iframe width=\"680\" height=\"350\" src=\"https://www.youtube.com/embed/CDjh7ENzTQs\" title=\"YouTube video player\" frameborder=\"0\" allow=\"accelerometer; autoplay; clipboard-write; encrypted-media; gyroscope; picture-in-picture; web-share\" allowfullscreen></iframe>\n",
    "```\n",
    "\n",
    "````"
   ]
  }
 ],
 "metadata": {
  "kernelspec": {
   "display_name": "Python37",
   "language": "python",
   "name": "python3"
  },
  "language_info": {
   "codemirror_mode": {
    "name": "ipython",
    "version": 3
   },
   "file_extension": ".py",
   "mimetype": "text/x-python",
   "name": "python",
   "nbconvert_exporter": "python",
   "pygments_lexer": "ipython3",
   "version": "3.7.15"
  },
  "vscode": {
   "interpreter": {
    "hash": "6fbbe1ff1dbaaf20226355198eb8fd50bda93b517708eea3a794f0f516b66309"
   }
  }
 },
 "nbformat": 4,
 "nbformat_minor": 2
}
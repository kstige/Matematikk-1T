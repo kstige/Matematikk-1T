{
 "cells": [
  {
   "attachments": {},
   "cell_type": "markdown",
   "metadata": {},
   "source": [
    "# Funksjonsbegrepet\n",
    "\n",
    "En funksjon er en regel som sier noe om to tall som hører sammen. Regelen, $f$, gir deg et tall $f(x)$ for hvert tall $x$ vi setter inn.\n",
    "\n",
    "```{admonition} Definisjon av funksjon\n",
    ":class: def\n",
    "Når hver verdi av $x$ vi putter inn gir oss en verdi for $f(x)$ ut, så sier vi at $f$ er en funksjon av $x$.\n",
    "```\n",
    "\n",
    "```{admonition} Eksempel: Funksjoner\n",
    ":class: eksempel, dropdown\n",
    "\n",
    "$$\n",
    "f(x)=3x+2 \\\\\n",
    "g(x)=\\sqrt{2x+4} \\\\\n",
    "g(x)=\\frac{2}{x}\n",
    "$$\n",
    "\n",
    "I alle tilfellene over har vi funksjoner siden vi for hver verdi av $x$ vil få ut en verdi for $f(x)$.\n",
    "```\n",
    "\n",
    "## Representasjonsmetoder\n",
    "Alle funksjoner kan representeres på tre måter:\n",
    "\n",
    "-   Funksjonsuttrykk\n",
    "-   Verditabell\n",
    "-   Graf\n",
    "\n",
    "Et funksjonsuttrykk kan være $f(x) = 3x + 2$. For denne funksjonen kan vi lage en verditabell:\n",
    "| **x**    | -1 | 0 | 1 | 2 |\n",
    "|----------|----|---|---|---|\n",
    "| **f(x)** | -1 | 2 | 5 | 8 |\n",
    "\n",
    "Og vi kan ha en graf:\n"
   ]
  },
  {
   "cell_type": "code",
   "execution_count": 17,
   "metadata": {
    "tags": [
     "remove-input"
    ]
   },
   "outputs": [
    {
     "data": {
      "image/png": "[encoded data removed]",
      "text/plain": [
       "<Figure size 432x288 with 1 Axes>"
      ]
     },
     "metadata": {
      "filenames": {
       "image/png": "C:\\Users\\krstig\\OneDrive\\Dokumenter\\Python\\Matematikk1T\\_build\\jupyter_execute\\docs\\funksjoner\\funksjonsbegrepet_1_0.png"
      },
      "needs_background": "light"
     },
     "output_type": "display_data"
    }
   ],
   "source": [
    "import matplotlib.pyplot as plt\n",
    "import numpy as np\n",
    "\n",
    "x = np.linspace(-2, 2, 50)\n",
    "y = 3*x +2\n",
    "\n",
    "plt.plot(x, y)\n",
    "plt.xlabel(\"x\")\n",
    "plt.ylabel(\"f(x)\")\n",
    "plt.ylim(-4, 8)\n",
    "plt.xticks(np.arange(-2, 3, 0.5))\n",
    "plt.yticks(np.arange(-4, 8))\n",
    "plt.axvline(x=0, c=\"black\", label=\"x=0\")\n",
    "plt.axhline(y=0, c=\"black\", label=\"y=0\")\n",
    "plt.grid()\n",
    "plt.show()"
   ]
  },
  {
   "attachments": {},
   "cell_type": "markdown",
   "metadata": {},
   "source": [
    "\n",
    "## Definisjonsmengde\n",
    "Definisjosmengden til en funksjon er alle verdier for $x$ som vi kan sette inn i variabelen. \n",
    "\n",
    "```{admonition} Eksempler på definisjonsmengde\n",
    ":class: eksempel, dropdown\n",
    "Funksjonen $f(x)= 3x + 2$ har definisjonsmengde $D_f = \\mathbf{R}$ siden vi kan sette inn alle reelle tall for $x$.\n",
    "\n",
    "Funksjonen $g(x) = \\sqrt{2x+4}$ har definisjonsmengde $D_g = \\left[-2, \\rightarrow\\right>$ siden vi ikke kan ta kvadratrota av et negativt tall.\n",
    "\n",
    "Funksjonen $h(x)=\\frac{2}{x}$ har definisjonsmengde $D_h = \\mathbf{R} \\, \\backslash \\, \\{0\\}$ siden vi kan sette inn alle reelle tall utenom $0$.\n",
    "```\n",
    "\n",
    "Vi kan velge en definisjonsmengde som er mindre enn den vi finner ved å se på lovlige verdier for $x$. Dersom funksjonen $f(x)=80x$ viser hvor langt en bil har kjørt etter $x$ timer vil definisjonsmengden starte ved $x=0$ selv om det fint går an å sette negative verdier inn i funksjonen.\n",
    "\n",
    "## Verdimengde\n",
    "Verdimengden til en funksjon er alle verdier vi kan få ut av funksjonen.\n",
    "\n",
    "```{admonition} Eksempler på verdimengde\n",
    ":class: eksempel, dropdown\n",
    "Funksjonen $f(x)= 3x + 2$ har verdimengde $V_f = \\mathbf{R}$ siden vi kan få ut alle reelle tall fra funksjonen.\n",
    "\n",
    "Funksjonen $g(x) = \\sqrt{2x+4}$ har verdimengde $V_g = \\left[0, \\rightarrow\\right>$ siden kvadratrota ikke kan være negativ.\n",
    "\n",
    "Funksjonen $h(x)=\\frac{2}{x}$ har verdimengde $D_h = \\mathbf{R} \\, \\backslash \\, \\{0\\}$ siden vi kan få ut alle reelle tall utenom $0$.\n",
    "```\n",
    "\n"
   ]
  },
  {
   "attachments": {},
   "cell_type": "markdown",
   "metadata": {},
   "source": [
    "## Videoer\n",
    "Her kan du se videoer for en del av innholdet på denne siden:\n",
    "\n",
    "````{tab-set} \n",
    "```{tab-item} Funksjonsbegrepet\n",
    "<iframe width=\"680\" height=\"350\" src=\"https://www.youtube.com/embed/ajiYu0oFwJo\" title=\"YouTube video player\" frameborder=\"0\" allow=\"accelerometer; autoplay; clipboard-write; encrypted-media; gyroscope; picture-in-picture; web-share\" allowfullscreen></iframe>\n",
    "```\n",
    "\n",
    "```{tab-item} Definisjons- og verdimengde\n",
    "<iframe width=\"680\" height=\"350\" src=\"https://www.youtube.com/embed/tuw28VOvGO4\" title=\"YouTube video player\" frameborder=\"0\" allow=\"accelerometer; autoplay; clipboard-write; encrypted-media; gyroscope; picture-in-picture; web-share\" allowfullscreen></iframe>\n",
    "```\n",
    "\n",
    "````"
   ]
  }
 ],
 "metadata": {
  "kernelspec": {
   "display_name": "base",
   "language": "python",
   "name": "python3"
  },
  "language_info": {
   "codemirror_mode": {
    "name": "ipython",
    "version": 3
   },
   "file_extension": ".py",
   "mimetype": "text/x-python",
   "name": "python",
   "nbconvert_exporter": "python",
   "pygments_lexer": "ipython3",
   "version": "3.9.12 (main, Apr  4 2022, 05:22:27) [MSC v.1916 64 bit (AMD64)]"
  },
  "vscode": {
   "interpreter": {
    "hash": "ad2bdc8ecc057115af97d19610ffacc2b4e99fae6737bb82f5d7fb13d2f2c186"
   }
  }
 },
 "nbformat": 4,
 "nbformat_minor": 2
}
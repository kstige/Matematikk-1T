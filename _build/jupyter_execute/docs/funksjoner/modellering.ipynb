{
 "cells": [
  {
   "attachments": {},
   "cell_type": "markdown",
   "metadata": {},
   "source": [
    "# Modellering\n",
    "\n",
    "Matematikken vi bruker på skolen vil ofte føles virkelighetsfjern. Den skal imidlertid gi oss et grunnlag for å beskrive noe virkelig. For at matematikken skal bli nyttig for en lege, ingeniør, arkitekt eller en annen yrkesgruppe trengs det matematiske modeller som kan beskrive virkeligheten. En matematisk modell gir en forenklet beskrivelse av virkeligheten ved hjelp av matematikk. Modellene kan for eksempel være formler, funksjoner grafer eller tabeller. Her skal vi fokusere på funksjoner som matematiske modeller.\n",
    "\n",
    "Fram til nå har vi sett på mange vilkårlige funksjoner for å undersøke egenskaper til de ulike funksjonstypene. Når vi arbeider med funksjoner i \"det virkelige liv\" skal funksjonene være en modell for noe reellt. Det kan være en funksjon som beskriver innbyggertallet i en kommune, posisjonen til en bil, havnivå, inntjening for en bedrift, eller noe helt annet.\n",
    "\n",
    "Først tar vi for oss noen viktige ord. Ordene og forklaringene vil gi mer mening etter at vi har tatt noen eksempler. Gå derfor tilbake til disse definisjonene når du møter ord du ikke forstår.\n",
    "\n",
    "```{admonition} Gyldighetsområde\n",
    ":class: dropdown\n",
    "Dersom modellen vår er gitt ved en funksjon, så vil gyldighetsområdet være verdiene av variabelen som modellen gjelder for. Det her henger tett sammen med begrepet definisjonsmengde.\n",
    "```\n",
    "\n",
    "```{admonition} Regresjon\n",
    ":class: dropdown\n",
    "Regresjon er en matematisk metode for å lage den funksjonen som passer best til målinger vi har gjort.\n",
    "```\n",
    "\n",
    "```{admonition} Parametre\n",
    ":class: dropdown\n",
    "Antall størrelser som bestemmes for å tilpasse målte data til en gitt modell.\n",
    "\n",
    " * Til en lineær modell $ax+b$ må vi bestemme to parametre $a$ og $b$.\n",
    " * Til en andregradsmodell $ax^2+bx+c$ må vi bestemme tre parametre $ax^2+bx+c$.\n",
    "\n",
    "Vi renger minst like mange målepunkt som vi har parametre for å kunne lage en modell. Om vi har flere målepunkt enn antall parametre vil vi se at funksjonen vår ikke går nøyaktig gjennom alle målepunktene.\n",
    "```\n",
    "\n",
    "```{admonition} Interpolere og ekstrapolere\n",
    ":class: dropdown\n",
    "Interpolasjon betyr å bruke en modell til å anslå verdier innenfor området til målepunktene.\n",
    "\n",
    "Ekstrapolasjon betyr å bruke en modell til å anslå verdier utenfor området til målepunktene.\n",
    "```"
   ]
  },
  {
   "attachments": {},
   "cell_type": "markdown",
   "metadata": {},
   "source": [
    "## Matematiske modeller for hånd\n",
    "\n",
    "I prinsippet kan vi lage de fleste matematiske modeller for hånd. Vi har også gjort det tidligere når vi har funnet funksjonsuttrykk for rette linjer gjennom to punkt eller andre funksjonstyper gjennom et gitt antall punkt.\n",
    "\n",
    "```{admonition} Eksempel: Modell - eksponentiell modell\n",
    ":class: eksempel\n",
    "Innbyggertallet i en kommune er 5000 i 2010. 10 år senere har innbyggertallet økt til 6400.\n",
    "\n",
    "Dersom innbyggertallet følger en lineær modell, så vil antall innbyggere stige med $\\frac{6400-5000}{10}=140$ personer i året. Dette tilsvarer stigningstallet til den lineære modellen. For enkelthetsskyld setter vi 2010 til å være $x=0$. Da vil konstantleddet være 5000.\n",
    "\n",
    "En lineær modell vil være $l(x)=140x+5000$, der $x$ er antall år etter 2010 og gyldighetsområdet er $x\\in [0,10]$.\n",
    "\n",
    "For å sette opp den lineære modellen brukte vi to punkt: $(0,5000)$ og $(10,6400)$. Det stemmer med at det er to parametre $a$ og $b$ i en lineær modell $ax+b$.\n",
    "```\n",
    "\n",
    "```{admonition} Eksempel: Modell - eksponentiell modell\n",
    ":class: eksempel\n",
    "Innbyggertallet i en kommune er 5000 i 2010. 10 år senere har innbyggertallet økt til 6400.\n",
    "\n",
    "Dersom innbyggertallet følger en eksponentiell modell, så vil antall innbyggere stige med en fast prosent i året. Den eksponentielle modellen er generelt gitt ved $e(x)=a\\cdot b^x$. Vi må altså bestemme de to parametrene $a$ og $b$ ved hjelp av punktene $(0,5000)$ og $(10,6400)$.\n",
    "\n",
    "Med det første punktet får vi at $e(0)=a=5000$ som bestemmer parameteren $a$.\n",
    "\n",
    "Med det andre punktet får vi at $l(10)=5000\\cdot b^10=6400$. Vi løser likningen med CAS og får at $b=1,025$.\n",
    "\n",
    "En eksponentiell modell blir da $e(x)=5000\\cdot 1,025^x$, er $x$ er antall år etter 2010 og gyldighetsområdet er $x\\in [0,10]$. Modellen tilsier at innbyggertallet øker med $2,5\\%$ i året.\n",
    "```\n",
    "\n",
    "Over ser vi at det går an å lage ulike modeller for de samme målingene.\n",
    "\n",
    "```{admonition} Valg av modell\n",
    "Ved valg av modell er det flere ting vi bør ta hensyn til, og det kan være flere modeller som passer med det vi skal beskrive. Noen punkt vi bør ta hensyn til er:\n",
    "\n",
    " * Modellen må ligge nær til målepunktene\n",
    " * Hvis flere modeller passer, så velger vi den enkleste (færrest parametre)\n",
    " * Vil modellen kunne gi fornuftige anslag utenfor målepunktene\n",
    " * Om modellen beskriver naturen bør vi se om den stemmer med naturlover\n",
    "\n",
    "Forventer vi at det vi måler skal ha jevn endring, så velger vi en lineær modell. Forventer vi en jevn prosentvis endring, så velger vi en eksponentiell modell.\n",
    "```\n",
    "\n",
    "Før vi går over på å lage modeller digitalt, så tar vi et eksempel som krever at vi har vært gjennom likningssett.\n",
    "\n",
    "`````{admonition} Andregradsmodell\n",
    ":class: eksempel, dropdown\n",
    "Finn en andregradsfunksjon som går gjennom punktene $(1,0)$, $(3,8)$ og $(4,18)$.\n",
    "\n",
    "Vi vet at andregradsfunksjoner er på formen $f(x)=ax^2+bx+c$. Det vil si at vi har tre parametre som vi kan finne ved hjelp av de tre punktene.\n",
    "\n",
    "$\n",
    "\\begin{align}\n",
    "f(1) &=a+b+c &=& 0 \\\\\n",
    "f(3) &=9a+3b+c &=& 8 \\\\\n",
    "f(4) &=16a+4b+c &=& 18\n",
    "\\end{align}\n",
    "$\n",
    "\n",
    "Løser likningssettet med CAS på følgende måte\n",
    "\n",
    "```{figure} ./bilder/andregradsmodellCAS.png\n",
    "---\n",
    "scale: 70%\n",
    "---\n",
    "```\n",
    "\n",
    "Det vil si at den andregradsfunksjonen som går gjennom punktene er $f(x)=2x^2-4x+2$.\n",
    "`````"
   ]
  },
  {
   "attachments": {},
   "cell_type": "markdown",
   "metadata": {},
   "source": [
    "## Regresjon\n",
    "\n",
    "Vanligvis bruker vi digitale verktøy for å finne matematiske modeller. Metoden som brukes kalles for regresjon. Vi skal ikke gå i detalj på hva som skjer, men essensen er at datamaskinen prøver mange funksjoner av valgt type og finner den som totalt sett har minst avvik fra målepunktene.\n",
    "\n",
    "Vi kommer stort sett til å bruke GeoGebra til å utføre regresjon, men viser også hvordan det kan gjøres ved programmering. I GeoGebra er det enkelt å utføre regresjon, men gjennom programmering har vi flere muligheter til å tilpasse modellene våre. \n",
    "\n",
    "Regresjon i GeoGebra viser vi enklest ved et eksempel.\n",
    "\n",
    "`````{admonition} Eksempel: regresjon\n",
    ":class: eksempel\n",
    "I tabellen under vise statistikk fra ssb.no over antall elbiler som ble solgt i Molde i perioden 2013-2017. Vi skal lage en eksponentialmodell som passer med dette. Vi lar $x$ være antall år etter 2013.\n",
    "\n",
    "```{figure} ./bilder/elbiltabell.png\n",
    "---\n",
    "scale: 70%\n",
    "---\n",
    "```\n",
    "\n",
    "Det første vi gjør er å legge tallene fra tabellen inn i regnearket i GeoGebra.\n",
    "\n",
    "```{figure} ./bilder/elbilregneark.png\n",
    "---\n",
    "scale: 70%\n",
    "---\n",
    "```\n",
    "\n",
    "Så markerer vi tallene og velger \"Regresjonsanalyse\" i menyen.\n",
    "\n",
    "```{figure} ./bilder/regresjonsmeny.png\n",
    "---\n",
    "scale: 70%\n",
    "---\n",
    "```\n",
    "\n",
    "Da får vi bildet under der vi har valgt \"Eksponentiell\" under menyen for regresjonsmodell.\n",
    "\n",
    "```{figure} ./bilder/elbilregresjon.png\n",
    "---\n",
    "scale: 50%\n",
    "---\n",
    "```\n",
    "\n",
    "Vi ser at den eksponentialmodellen som passer best er $f(x)=54\\cdot 1,63^x$. Det vil si at elbilsalget vokser med omtrent $63\\%$ i året.\n",
    "\n",
    "Dersom vi ønsker å jobbe videre med funksjonen vil det være praktisk å overføre den til grafikkfeltet. Det gjør vi ved å trykke på knappen på bildet under.\n",
    "\n",
    "```{figure} ./bilder/kopiertilgrafikkfelt.png\n",
    "---\n",
    "scale: 70%\n",
    "---\n",
    "```\n",
    "`````\n",
    "\n",
    "`````{admonition} Eksempel: Interpolasjon og ekstrapolasjon\n",
    ":class: eksempel\n",
    "\n",
    "Vi skal jobbe litt videre med eksempelet for å se på begrepene interpolasjon og ekstrapolasjon. Dersom vi henter ut flere tall fra ssb.no finner vi at antall solgte elbiler i Molde i 2015 og 2019 var:\n",
    "\n",
    "```{figure} ./bilder/elbiltabell2.png\n",
    "---\n",
    "scale: 30%\n",
    "---\n",
    "```\n",
    "\n",
    "Vi vil undersøke hvordan dette passer med modellen vi har funnet.\n",
    "\n",
    "**Interpolasjon**\n",
    "Interpolasjon betyr å bruke modellen innenfor området begrenset av målepunktene. Når vi skal bruke modellen for 2015 ($x=2$), så interpoler vi. Vi kan overføre funksjonen til grafikkfeltet og lese av den der, men det enkleste er å bruke feltet for \"Symbolsk inntasting\". Der skriver vi inn $x=2$ og får ut verdien til funksjonen.\n",
    "\n",
    "```{figure} ./bilder/symbolskutregning1.png\n",
    "---\n",
    "scale: 70%\n",
    "---\n",
    "```\n",
    "Vi får $143$ solgte elbiler som ligger noe under, men ikke så langt under den riktige verdien. At vi får en for lav verdi betyr at den virkelige veksten i starten av perioden var prosentvis større enn den var senere i perioden.\n",
    "\n",
    "**Ekstrapolasjon**\n",
    "Ekstrapolasjon betyr å bruke modellen utenfor området begrenset av målepunktene. Når vi skal bruke modellen for 2019 ($x=6$), så ekstrapolerer vi. \n",
    "\n",
    "```{figure} ./bilder/symbolskutregning2.png\n",
    "---\n",
    "scale: 70%\n",
    "---\n",
    "```\n",
    "\n",
    "Vi får $1008$ solgte elbiler som ligger langt over den riktige verdien.\n",
    "\n",
    "Det vi ser over stemmer med det vi vanligvis observerer. Verdier funnet ved interpolasjon vil passe bedre med modellen enn verdier funnet ved ekstrapolasjon.\n",
    "`````\n"
   ]
  },
  {
   "attachments": {},
   "cell_type": "markdown",
   "metadata": {},
   "source": [
    "## Regresjon med programmering\n",
    "\n",
    "Under er det gitt et program som utfører lineær regresjon på listene med $x$- og $y$-verdier. Programmet er delt opp med korte forklaringer før hele programmet (med mulighet for å endre) er gitt til slutt.\n",
    "\n",
    "Vi starter med å importere ekstra bibliotek som vi trenger."
   ]
  },
  {
   "cell_type": "code",
   "execution_count": 8,
   "metadata": {},
   "outputs": [],
   "source": [
    "from pylab import *\n",
    "from scipy.optimize import curve_fit"
   ]
  },
  {
   "attachments": {},
   "cell_type": "markdown",
   "metadata": {},
   "source": [
    "Så skriver vi inn listene med $x$- og $y$-verdier som vi skal utføre regresjonen på. Disse listene kommer fra datapunktene våre (målinger)."
   ]
  },
  {
   "cell_type": "code",
   "execution_count": 9,
   "metadata": {},
   "outputs": [],
   "source": [
    "x = [1, 2, 3, 4, 5]\n",
    "y = [1.9, 4.1, 6.3, 7.2, 10.8]"
   ]
  },
  {
   "attachments": {},
   "cell_type": "markdown",
   "metadata": {},
   "source": [
    "Videre lager vi en funksjon som viser hvilken modell vi ønsker å bruke. I dette eksempelet er det en lineær modell med variabel $x$ og parametre $a$ og $b$. Her kan vi lage akkurat den funksjonstypen vi ønsker, eller sette opp en kombinasjon av flere funksjonstyper. Under definisjonen av modellen bruker vi kommandoen curve_fit som utfører selve regresjonen og finner parametrene. De skrives så ut med to desimaler."
   ]
  },
  {
   "cell_type": "code",
   "execution_count": 11,
   "metadata": {},
   "outputs": [
    {
     "name": "stdout",
     "output_type": "stream",
     "text": [
      "a =  2.09\n",
      "b =  -0.21\n"
     ]
    }
   ],
   "source": [
    "def modell(x, a, b):\n",
    "    return a*x+b\n",
    "\n",
    "[a, b] = curve_fit(modell, x, y)[0]\n",
    "print(\"a = \", round(a, 2))\n",
    "print(\"b = \", round(b, 2))"
   ]
  },
  {
   "attachments": {},
   "cell_type": "markdown",
   "metadata": {},
   "source": [
    "Dersom vi ønsker å lage en graf av modellen kan vi bruke koden under. Den starter med å velge verdiene for $x$ som vi skal sette inn i modellen. Så beregner den $y$-verdiene for alle disse $x$-verdiene. Resten av koden er ulike kommandoer for å tilpasse grafen."
   ]
  },
  {
   "cell_type": "code",
   "execution_count": 12,
   "metadata": {},
   "outputs": [
    {
     "data": {
      "image/png": "[encoded data removed]",
      "text/plain": [
       "<Figure size 640x480 with 1 Axes>"
      ]
     },
     "metadata": {
      "filenames": {
       "image/png": "C:\\Users\\krstig\\OneDrive\\Dokumenter\\Python\\Matematikk1T\\_build\\jupyter_execute\\docs\\funksjoner\\modellering_10_0.png"
      }
     },
     "output_type": "display_data"
    }
   ],
   "source": [
    "x_akse = linspace(0, 10, 1000)\n",
    "y_modell = modell(x_akse, a, b)\n",
    "\n",
    "plot(x_akse, y_modell, color = \"blue\", label = \"Lineær modell\")\n",
    "scatter(x, y, color = \"red\", label = \"Datapunkter\")\n",
    "xlabel(\"x\")\n",
    "ylabel(\"y\")\n",
    "grid()\n",
    "legend()\n",
    "show()"
   ]
  },
  {
   "attachments": {},
   "cell_type": "markdown",
   "metadata": {},
   "source": [
    "Under er hele programmet satt sammen. Prøv å endre på listene med $x$- og $y$-verdier og se hvordan modellen endrer seg. Kanskje klarer du også å endre programmet slik at det kan bruke en andregradsmodell. Da må du innføre en ekstra parameter.\n",
    "\n",
    "<iframe src=\"https://trinket.io/embed/python3/3adb2590c6\" width=\"100%\" height=\"356\" frameborder=\"0\" marginwidth=\"0\" marginheight=\"0\" allowfullscreen></iframe>"
   ]
  }
 ],
 "metadata": {
  "kernelspec": {
   "display_name": "Python37",
   "language": "python",
   "name": "python3"
  },
  "language_info": {
   "codemirror_mode": {
    "name": "ipython",
    "version": 3
   },
   "file_extension": ".py",
   "mimetype": "text/x-python",
   "name": "python",
   "nbconvert_exporter": "python",
   "pygments_lexer": "ipython3",
   "version": "3.7.15"
  },
  "vscode": {
   "interpreter": {
    "hash": "6fbbe1ff1dbaaf20226355198eb8fd50bda93b517708eea3a794f0f516b66309"
   }
  }
 },
 "nbformat": 4,
 "nbformat_minor": 2
}
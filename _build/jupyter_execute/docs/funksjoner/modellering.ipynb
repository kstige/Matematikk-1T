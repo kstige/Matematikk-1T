{
 "cells": [
  {
   "attachments": {},
   "cell_type": "markdown",
   "metadata": {},
   "source": [
    "# Modellering\n",
    "\n",
    "Matematikken vi bruker på skolen vil ofte føles virkelighetsfjern. Den skal imidlertid gi oss et grunnlag for å beskrive noe virkelig. For at matematikken skal bli nyttig for en lege, ingeniør, arkitekt eller en annen yrkesgruppe trengs det matematiske modeller som kan beskrive virkeligheten. En matematisk modell gir en forenklet beskrivelse av virkeligheten ved hjelp av matematikk. Modellene kan for eksempel være formler, funksjoner grafer eller tabeller. Her skal vi fokusere på funksjoner som matematiske modeller.\n",
    "\n",
    "Fram til nå har vi sett på mange vilkårlige funksjoner for å undersøke egenskaper til de ulike funksjonstypene. Når vi arbeider med funksjoner i \"det virkelige liv\" skal funksjonene være en modell for noe reellt. Det kan være en funksjon som beskriver innbyggertallet i en kommune, posisjonen til en bil, havnivå, inntjening for en bedrift, eller noe helt annet.\n",
    "\n",
    "Først tar vi for oss noen viktige ord. Ordene og forklaringene vil gi mer mening etter at vi har tatt noen eksempler. Gå derfor tilbake til disse definisjonene når du møter ord du ikke forstår.\n",
    "\n",
    "```{admonition} Gyldighetsområde\n",
    "Dersom modellen vår er gitt ved en funksjon, så vil gyldighetsområdet være verdiene av variabelen som modellen gjelder for. Det her henger tett sammen med begrepet definisjonsmengde.\n",
    "```\n",
    "\n",
    "```{admonition} Regresjon\n",
    "Regresjon er en matematisk metode for å lage den funksjonen som passer best til målinger vi har gjort.\n",
    "```\n",
    "\n",
    "```{admonition} Parametre\n",
    "Antall størrelser som bestemmes for å tilpasse målte data til en gitt modell.\n",
    "\n",
    " * Til en lineær modell $ax+b$ må vi bestemme to parametre $a$ og $b$.\n",
    " * Til en andregradsmodell $ax^2+bx+c$ må vi bestemme tre parametre $ax^2+bx+c$.\n",
    "\n",
    "Vi renger minst like mange målepunkt som vi har parametre for å kunne lage en modell. Om vi har flere målepunkt enn antall parametre vil vi se at funksjonen vår ikke går nøyaktig gjennom alle målepunktene.\n",
    "```\n",
    "\n",
    "```{admonition} Interpolere og ekstrapolere\n",
    "Interpolasjon betyr å bruke en modell til å anslå verdier innenfor området til målepunktene.\n",
    "\n",
    "Ekstrapolasjon betyr å bruke en modell til å anslå verdier utenfor området til målepunktene.\n",
    "```\n",
    "\n"
   ]
  }
 ],
 "metadata": {
  "language_info": {
   "name": "python"
  }
 },
 "nbformat": 4,
 "nbformat_minor": 2
}
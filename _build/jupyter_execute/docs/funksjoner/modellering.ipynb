{
 "cells": [
  {
   "attachments": {},
   "cell_type": "markdown",
   "metadata": {},
   "source": [
    "# Modellering\n",
    "\n",
    "Matematikken vi bruker på skolen vil ofte føles virkelighetsfjern. Den skal imidlertid gi oss et grunnlag for å beskrive noe virkelig. For at matematikken skal bli nyttig for en lege, ingeniør, arkitekt eller en annen yrkesgruppe trengs det matematiske modeller som kan beskrive virkeligheten. En matematisk modell gir en forenklet beskrivelse av virkeligheten ved hjelp av matematikk. Modellene kan for eksempel være formler, funksjoner grafer eller tabeller. Her skal vi fokusere på funksjoner som matematiske modeller.\n",
    "\n",
    "Fram til nå har vi sett på mange vilkårlige funksjoner for å undersøke egenskaper til de ulike funksjonstypene. Når vi arbeider med funksjoner i \"det virkelige liv\" skal funksjonene være en modell for noe reellt. Det kan være en funksjon som beskriver innbyggertallet i en kommune, posisjonen til en bil, havnivå, inntjening for en bedrift, eller noe helt annet.\n",
    "\n",
    "Først tar vi for oss noen viktige ord. Ordene og forklaringene vil gi mer mening etter at vi har tatt noen eksempler. Gå derfor tilbake til disse definisjonene når du møter ord du ikke forstår.\n",
    "\n",
    "```{admonition} Gyldighetsområde\n",
    ":class: dropdown\n",
    "Dersom modellen vår er gitt ved en funksjon, så vil gyldighetsområdet være verdiene av variabelen som modellen gjelder for. Det her henger tett sammen med begrepet definisjonsmengde.\n",
    "```\n",
    "\n",
    "```{admonition} Regresjon\n",
    ":class: dropdown\n",
    "Regresjon er en matematisk metode for å lage den funksjonen som passer best til målinger vi har gjort.\n",
    "```\n",
    "\n",
    "```{admonition} Parametre\n",
    ":class: dropdown\n",
    "Antall størrelser som bestemmes for å tilpasse målte data til en gitt modell.\n",
    "\n",
    " * Til en lineær modell $ax+b$ må vi bestemme to parametre $a$ og $b$.\n",
    " * Til en andregradsmodell $ax^2+bx+c$ må vi bestemme tre parametre $ax^2+bx+c$.\n",
    "\n",
    "Vi renger minst like mange målepunkt som vi har parametre for å kunne lage en modell. Om vi har flere målepunkt enn antall parametre vil vi se at funksjonen vår ikke går nøyaktig gjennom alle målepunktene.\n",
    "```\n",
    "\n",
    "```{admonition} Interpolere og ekstrapolere\n",
    ":class: dropdown\n",
    "Interpolasjon betyr å bruke en modell til å anslå verdier innenfor området til målepunktene.\n",
    "\n",
    "Ekstrapolasjon betyr å bruke en modell til å anslå verdier utenfor området til målepunktene.\n",
    "```"
   ]
  },
  {
   "attachments": {},
   "cell_type": "markdown",
   "metadata": {},
   "source": [
    "## Matematiske modeller for hånd\n",
    "\n",
    "I prinsippet kan vi lage de fleste matematiske modeller for hånd. Vi har også gjort det tidligere når vi har funnet funksjonsuttrykk for rette linjer gjennom to punkt eller andre funksjonstyper gjennom et gitt antall punkt.\n",
    "\n",
    "```{admonition} Eksempel: Modell - eksponentiell modell\n",
    ":class: eksempel\n",
    "Innbyggertallet i en kommune er 5000 i 2010. 10 år senere har innbyggertallet økt til 6400.\n",
    "\n",
    "Dersom innbyggertallet følger en lineær modell, så vil antall innbyggere stige med $\\frac{6400-5000}{10}=140$ personer i året. Dette tilsvarer stigningstallet til den lineære modellen. For enkelthetsskyld setter vi 2010 til å være $x=0$. Da vil konstantleddet være 5000.\n",
    "\n",
    "En lineær modell vil være $l(x)=140x+5000$, der $x$ er antall år etter 2010 og gyldighetsområdet er $x\\in [0,10]$.\n",
    "\n",
    "For å sette opp den lineære modellen brukte vi to punkt: $(0,5000)$ og $(10,6400)$. Det stemmer med at det er to parametre $a$ og $b$ i en lineær modell $ax+b$.\n",
    "```\n",
    "\n",
    "```{admonition} Eksempel: Modell - eksponentiell modell\n",
    ":class: eksempel\n",
    "Innbyggertallet i en kommune er 5000 i 2010. 10 år senere har innbyggertallet økt til 6400.\n",
    "\n",
    "Dersom innbyggertallet følger en eksponentiell modell, så vil antall innbyggere stige med en fast prosent i året. Den eksponentielle modellen er generelt gitt ved $e(x)=a\\cdot b^x$. Vi må altså bestemme de to parametrene $a$ og $b$ ved hjelp av punktene $(0,5000)$ og $(10,6400)$.\n",
    "\n",
    "Med det første punktet får vi at $e(0)=a=5000$ som bestemmer parameteren $a$.\n",
    "\n",
    "Med det andre punktet får vi at $l(10)=5000\\cdot b^10=6400$. Vi løser likningen med CAS og får at $b=1,025$.\n",
    "\n",
    "En eksponentiell modell blir da $e(x)=5000\\cdot 1,025^x$, er $x$ er antall år etter 2010 og gyldighetsområdet er $x\\in [0,10]$. Modellen tilsier at innbyggertallet øker med $2,5\\%$ i året.\n",
    "```\n",
    "\n",
    "Over ser vi at det går an å lage ulike modeller for de samme målingene.\n",
    "\n",
    "```{admonition} Valg av modell\n",
    "Ved valg av modell er det flere ting vi bør ta hensyn til, og det kan være flere modeller som passer med det vi skal beskrive. Noen punkt vi bør ta hensyn til er:\n",
    "\n",
    " * Modellen må ligge nær til målepunktene\n",
    " * Hvis flere modeller passer, så velger vi den enkleste (færrest parametre)\n",
    " * Vil modellen kunne gi fornuftige anslag utenfor målepunktene\n",
    " * Om modellen beskriver naturen bør vi se om den stemmer med naturlover\n",
    "\n",
    "Forventer vi at det vi måler skal ha jevn endring, så velger vi en lineær modell. Forventer vi en jevn prosentvis endring, så velger vi en eksponentiell modell.\n",
    "```\n"
   ]
  },
  {
   "attachments": {},
   "cell_type": "markdown",
   "metadata": {},
   "source": [
    "## Regresjon"
   ]
  }
 ],
 "metadata": {
  "language_info": {
   "name": "python"
  }
 },
 "nbformat": 4,
 "nbformat_minor": 2
}
{
 "cells": [
  {
   "attachments": {},
   "cell_type": "markdown",
   "metadata": {},
   "source": [
    "# Funksjoner i programmering\n",
    "\n",
    "Funksjoner i programmering er ikke nødvendigvis det samme som funksjoner i matematikk, men vi kommer hovedsaklig til å programmere funksjoner som likner på de matematiske. Dersom vi skal jobbe med funksjonen $f(x)=x^2+2x-4$ lager vi den slik:"
   ]
  },
  {
   "cell_type": "code",
   "execution_count": 13,
   "metadata": {
    "tags": [
     "remove-input"
    ]
   },
   "outputs": [],
   "source": [
    "from pylab import *"
   ]
  },
  {
   "cell_type": "code",
   "execution_count": 14,
   "metadata": {},
   "outputs": [],
   "source": [
    "def f(x):\n",
    "    return x**2+2*x-4"
   ]
  },
  {
   "attachments": {},
   "cell_type": "markdown",
   "metadata": {},
   "source": [
    "\n",
    "Vi ser at funksjonen er bygd opp av ei linje som definerer (med bruk av **def**) navnet $f$ på funksjonen og variabelen $x$ som settes inn i funksjonen. Den linja avsluttes med kolon tilsvarende som ved for eksempel løkker. Alt som hører til funksjonen skal stå med innrykk på linjene under. Normalt sett avsluttes en funksjon med **return** og uttrykket som skal returneres. Når vi ser på en matematisk funksjon vil det være funksjonsuttrykket som står bak return. I prinsippet kan funksjonen returnere andre ting (som for eksempel tekst) også.\n",
    "\n",
    "Tilsvarende som når vi oppretter variabler, så blir det ikke skrevet ut noe når vi definerer en funksjon (med mindre funksjonen inneholder en print-setning). For å skrive ut funksjonsverdier fra funksjonen over kan vi for eksempel skrive:\n"
   ]
  },
  {
   "cell_type": "code",
   "execution_count": 3,
   "metadata": {},
   "outputs": [
    {
     "name": "stdout",
     "output_type": "stream",
     "text": [
      "11\n"
     ]
    }
   ],
   "source": [
    "print(f(3))"
   ]
  },
  {
   "attachments": {},
   "cell_type": "markdown",
   "metadata": {},
   "source": [
    "Vi kan også lagre resultatet av et **kall** til funksjonen til en variabel, og bruke det videre:"
   ]
  },
  {
   "cell_type": "code",
   "execution_count": 6,
   "metadata": {},
   "outputs": [
    {
     "name": "stdout",
     "output_type": "stream",
     "text": [
      "13\n"
     ]
    }
   ],
   "source": [
    "a = f(3)\n",
    "b = a + 2\n",
    "print(b)"
   ]
  },
  {
   "attachments": {},
   "cell_type": "markdown",
   "metadata": {},
   "source": [
    "Selv om vi ikke skal bruke det videre kan vi også se på en funksjon som returnerer tekst."
   ]
  },
  {
   "cell_type": "code",
   "execution_count": 5,
   "metadata": {},
   "outputs": [
    {
     "name": "stdout",
     "output_type": "stream",
     "text": [
      "Hei Per\n"
     ]
    }
   ],
   "source": [
    "def hei(navn):\n",
    "    print(\"Hei\", navn)\n",
    "\n",
    "hei(\"Per\")"
   ]
  },
  {
   "attachments": {},
   "cell_type": "markdown",
   "metadata": {},
   "source": [
    "I denne funksjonen har vi ikke brukt return, men ei print-setning. Da vil resultatet skrives ut direkte. Siden vi ved en matematisk funksjon vanligvis ønsker å bruke resultatet videre, så vil det være mest hensiktsmessig å bruke return."
   ]
  },
  {
   "attachments": {},
   "cell_type": "markdown",
   "metadata": {},
   "source": [
    "## Grafer\n",
    "\n",
    "For å tegne inn grafen til funksjonen må vi regne ut mange funksjonsverdier og sette punktene inn i et koordinatsystem. Dette kan gjøres veldig effektivt med disse linjene med kode."
   ]
  },
  {
   "cell_type": "code",
   "execution_count": 15,
   "metadata": {},
   "outputs": [],
   "source": [
    "x_verdier = linspace(-4, 4, 1000)\n",
    "y_verdier = f(x_verdier)"
   ]
  },
  {
   "attachments": {},
   "cell_type": "markdown",
   "metadata": {},
   "source": [
    "Her bruker vi kommandoen linspace (den krever at vi har importert pylab) for å lage en liste med 1000 $x$-verdier mellom -4 og 4. Alle disse $x$-verdiene settes inn i funksjonen og lagres i ei liste med $y$-verdier.\n",
    "\n",
    "Når vi skal plotte disse i en graf bruker vi."
   ]
  },
  {
   "cell_type": "code",
   "execution_count": 16,
   "metadata": {},
   "outputs": [
    {
     "data": {
      "image/png": "[encoded data removed]",
      "text/plain": [
       "<Figure size 640x480 with 1 Axes>"
      ]
     },
     "metadata": {
      "filenames": {
       "image/png": "C:\\Users\\krstig\\OneDrive\\Dokumenter\\Python\\Matematikk1t\\_build\\jupyter_execute\\docs\\funksjoner\\funksjoner_programmering_13_0.png"
      }
     },
     "output_type": "display_data"
    }
   ],
   "source": [
    "plot(x_verdier, y_verdier)\n",
    "show()"
   ]
  },
  {
   "attachments": {},
   "cell_type": "markdown",
   "metadata": {},
   "source": [
    "Det er store muligheter for tilpasninger av grafen. Noen av dem er vist i det fullstendige programmet under. Prøv å endre på dem for å se hvordan det påvirker resultatet.\n",
    "\n",
    "<iframe src=\"https://trinket.io/embed/python3/eac2d0e239\" width=\"100%\" height=\"356\" frameborder=\"0\" marginwidth=\"0\" marginheight=\"0\" allowfullscreen></iframe>"
   ]
  }
 ],
 "metadata": {
  "kernelspec": {
   "display_name": "Python37",
   "language": "python",
   "name": "python3"
  },
  "language_info": {
   "codemirror_mode": {
    "name": "ipython",
    "version": 3
   },
   "file_extension": ".py",
   "mimetype": "text/x-python",
   "name": "python",
   "nbconvert_exporter": "python",
   "pygments_lexer": "ipython3",
   "version": "3.7.15"
  },
  "vscode": {
   "interpreter": {
    "hash": "6fbbe1ff1dbaaf20226355198eb8fd50bda93b517708eea3a794f0f516b66309"
   }
  }
 },
 "nbformat": 4,
 "nbformat_minor": 2
}
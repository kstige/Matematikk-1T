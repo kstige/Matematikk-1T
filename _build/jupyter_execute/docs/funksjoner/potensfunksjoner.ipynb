{
 "cells": [
  {
   "attachments": {},
   "cell_type": "markdown",
   "metadata": {},
   "source": [
    "# Potensfunksjoner\n",
    "\n",
    "En funksjonstype som kan likne litt på eksponentialfunksjoner er potensfunksjoner. Det er imidlertid viktig å kunne skille de fra hverandre. Der variabelen $x$ i en eksponentialfunksjon er eksponenten i en potens, vil variabelen i en potensfunksjon være grunntallet.\n",
    "\n",
    "Potensfunksjonen vil derfor minne en del om polynomfunksjoner. Eksponenten i en polynomfunksjon kan kun være et heltall større eller lik 0. Det er imidlertid ingenting i veien for å ha negative tall eller desimaltall i en eksponent, og bruker vi det får vi en potensfunksjon\n",
    "\n",
    "```{admonition} Definisjon av potensfunksjoner\n",
    ":class: def\n",
    "Potensfunksjoner er funksjoner på formen $f(x) = a\\cdot x^b$, der $a$, $b \\in \\mathbf{R}\\backslash\\{0\\}$.\n",
    "\n",
    "Dersom $b$ ikke er et heltall, så vil potensfunksjonen kun være definert for positive verdier av $x$.\n",
    "\n",
    "Dersom $b$ er negativ, så vil potensfunksjonen ikke være definert $x=0$.\n",
    "```\n",
    "\n",
    "Det er viktig å legge merke til at potensfunksjoner i motsetning til polynomfunksjoner kun inneholder ett ledd. Polynomfunksjoner med ett ledd er også potensfunksjoner.\n",
    "\n",
    "```{admonition} Eksempel på potensfunksjoner\n",
    ":class: eksempel\n",
    "Formen på en potensfunksjon avhenger av størrelsene $a$ og $b$. Under er funksjonen $f(x)=2x^b$ tegnet inn (for positive $x$-verdier) for noen forskjellige verdier av $b$.\n",
    "\n",
    "```{figure} ./bilder/potensfunksjon.png\n",
    "---\n",
    "scale: 20%\n",
    "---\n",
    "```\n",
    "\n",
    "```{admonition} Eksempel: Ukjent rente\n",
    ":class: eksempel\n",
    "Tenk deg at du har 10.000 kr du skal sette av til sparing i 10 år. Det finnes forskjellige sparealternativer med ulik rente. Dersom vi lar $x$ være vekstfaktoren (se side om [eksponentialfunksjoner](eksponentialfunksjoner.ipynb)) renta gir, så vil funksjonen $f(x)=10000\\cdot x^10$ gi hva sparebeløpet har vokst til etter 10 år.\n",
    "```\n",
    "\n"
   ]
  },
  {
   "attachments": {},
   "cell_type": "markdown",
   "metadata": {},
   "source": [
    "## Utforsk\n",
    "Utforsk hvordan en potensfunksjon avhenger av størrelsene $a$ og $b$ ved å endre på de i vinduet under."
   ]
  },
  {
   "cell_type": "code",
   "execution_count": 1,
   "metadata": {
    "tags": [
     "remove-input"
    ]
   },
   "outputs": [
    {
     "data": {
      "text/html": [
       "\n",
       "<script src=\"https://www.geogebra.org/apps/deployggb.js\"></script>\n",
       "\n",
       "<script>  \n",
       "    var params = {\n",
       "        \"material_id\": \"nqwqdtps\", \n",
       "        \"appName\": \"graphing\", \n",
       "        \"width\": 800, \"height\": 600, \n",
       "        \"showToolBar\": false, \n",
       "        \"showAlgebraInput\": false, \n",
       "        \"showMenuBar\": false,\n",
       "        \"showResetIcon\": true \n",
       "        };\n",
       "    var applet = new GGBApplet(params, false);\n",
       "    window.addEventListener(\"load\", function() { \n",
       "        applet.inject('ggb-element');\n",
       "    });\n",
       "</script>\n",
       "\n",
       "<div id=\"ggb-element\"></div> \n"
      ],
      "text/plain": [
       "<IPython.core.display.HTML object>"
      ]
     },
     "metadata": {},
     "output_type": "display_data"
    }
   ],
   "source": [
    "%%html\n",
    "\n",
    "<script src=\"https://www.geogebra.org/apps/deployggb.js\"></script>\n",
    "\n",
    "<script>  \n",
    "    var params = {\n",
    "        \"material_id\": \"nqwqdtps\", \n",
    "        \"appName\": \"graphing\", \n",
    "        \"width\": 800, \"height\": 600, \n",
    "        \"showToolBar\": false, \n",
    "        \"showAlgebraInput\": false, \n",
    "        \"showMenuBar\": false,\n",
    "        \"showResetIcon\": true \n",
    "        };\n",
    "    var applet = new GGBApplet(params, false);\n",
    "    window.addEventListener(\"load\", function() { \n",
    "        applet.inject('ggb-element');\n",
    "    });\n",
    "</script>\n",
    "\n",
    "<div id=\"ggb-element\"></div> "
   ]
  },
  {
   "cell_type": "code",
   "execution_count": null,
   "metadata": {},
   "outputs": [],
   "source": []
  }
 ],
 "metadata": {
  "kernelspec": {
   "display_name": "Python37",
   "language": "python",
   "name": "python3"
  },
  "language_info": {
   "codemirror_mode": {
    "name": "ipython",
    "version": 3
   },
   "file_extension": ".py",
   "mimetype": "text/x-python",
   "name": "python",
   "nbconvert_exporter": "python",
   "pygments_lexer": "ipython3",
   "version": "3.7.15 (default, Nov 24 2022, 18:44:54) [MSC v.1916 64 bit (AMD64)]"
  },
  "vscode": {
   "interpreter": {
    "hash": "6fbbe1ff1dbaaf20226355198eb8fd50bda93b517708eea3a794f0f516b66309"
   }
  }
 },
 "nbformat": 4,
 "nbformat_minor": 2
}
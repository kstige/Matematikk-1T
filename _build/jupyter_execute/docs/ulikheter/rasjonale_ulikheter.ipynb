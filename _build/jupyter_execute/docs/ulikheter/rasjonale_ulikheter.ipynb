{
 "cells": [
  {
   "attachments": {},
   "cell_type": "markdown",
   "metadata": {},
   "source": [
    "# Rasjonale ulikheter\n",
    "\n",
    "Rasjonale ulikheter er ulikheter som inneholder rasjonale uttrykk (brøkuttrykk). Vi har tidligere sett på rasjonale likninger som:\n",
    "\n",
    "$$\n",
    "\\frac{x-3}{x}-2=-\\frac{3}{2}\n",
    "$$\n",
    "\n",
    "Vi kan sette opp en tilsvarende rasjonal ulikhet:\n",
    "\n",
    "$$\n",
    "\\frac{x-3}{x}-2\\geq-\\frac{3}{2}\n",
    "$$\n",
    "\n",
    "Vi husker at vi startet å løse rasjonale likninger med å gange med fellesnevner ($2x$) for å bli kvitt brøkene. Det virker naturlig å gjøre det samme når vi skal løse en rasjonal ulikhet. Problemet er at når vi ganger med $x$, så ganger vi med et tall med ukjent fortegn. Vi vet derfor ikke om vi skal beholde ulikhetstegnet eller snu det. Derfor er vi avhengig av en annen metode for å løse rasjonale ulikheter.\n",
    "\n",
    "```{admonition} Metode for å løse rasjonale ulikheter\n",
    " 1) Flytt alt over til venstre side.\n",
    " 2) Sett alt på felles brøkstrek.\n",
    " 3) Faktoriser teller og nevner i brøken.\n",
    " 4) Sett opp fortegnslinje for hver faktor og for hele uttrykket.\n",
    " 5) Bruk fortegnslinja til å finne svar på ulikheten.\n",
    "\n",
    "Pass på eventuelle verdier for $x$ som gir null i nevneren.\n",
    "```\n",
    "\n",
    "Vi bruker ulikheten over som et eksempel."
   ]
  },
  {
   "attachments": {},
   "cell_type": "markdown",
   "metadata": {},
   "source": [
    "`````{admonition} Eksempel: Rasjonal ulikhet\n",
    ":class: eksempel\n",
    "\n",
    "$\n",
    "\\begin{align}\n",
    "\\frac{x-3}{x}-2 &\\geq-\\frac{3}{2} \\\\\n",
    "\\frac{x-3}{x}-2+\\frac{3}{2} &\\geq 0 \\quad \\quad \\quad \\text{Fellesnevner er } 2x \\\\\n",
    "\\frac{2(x-3)-2x\\cdot 2 +3x}{2(x-2)} &\\geq 0 \\\\\n",
    "\\frac{x-6}{2x} &\\geq 0\n",
    "\\end{align}\n",
    "$\n",
    "\n",
    "Ulikheten vi har endt opp med er ekvivalent med ulikheten vi startet med, så de har akkurat samme løsning. Uttrykket er ferdig faktorisert, så vi setter opp fortegnslinje på samme måte som når vi så på polynomulikheter. Siden vi ikke kan ha $x=0$ (gir null i nevner), så markerer vi det med et kryss på den endelige fortegnslinja.\n",
    "\n",
    "```{figure} ./bilder/eksempelrasjonalulikhet.png\n",
    "---\n",
    "scale: 50%\n",
    "---\n",
    "```\n",
    "Vi er interessert i området der uttrykket er større eller lik $0$. Løsninga blir $L=\\langle \\leftarrow ,0\\rangle \\cup [6,\\rightarrow\\rangle$.\n",
    "`````\n",
    "\n",
    "`````{admonition} Eksempel 2: Rasjonal ulikhet\n",
    ":class: eksempel\n",
    "\n",
    "$\n",
    "\\begin{align}\n",
    "\\frac{2x-2}{x+2} &\\leq\\frac{x-3}{2x+8} \\\\\n",
    "\\frac{2x-2}{x+2}-\\frac{x-3}{2(x+4)} &\\leq 0 \\quad \\quad \\text{Fellesnevner er }\\\\\n",
    "\\frac{(2x-2)\\cdot 2(x+4)-(x-3)(x+2)}{2(x+2)(x+4)} &\\leq0 \\quad \\quad 2(x+2)(x+4)\\\\\n",
    "\\frac{(4x^2+16x-4x-16)-(x^2+2x-3x-6)}{2(x+2)(x+4)} &\\leq0 \\\\\n",
    "\\frac{3x^2+13x-10}{2(x+2)(x+4)}&\\leq0 \\\\\n",
    "\\frac{3(x+5)(x-\\frac{2}{3})}{2(x+2)(x+4)} &\\leq0\n",
    "\\end{align}\n",
    "$\n",
    "\n",
    "Ulikheten vi har endt opp med er ekvivalent med ulikheten vi startet med, så de har akkurat samme løsning. Siden vi ikke kan ha $x=-2$ eller $x=-4$ (gir null i nevner), så markerer vi det med et kryss på den endelige fortegnslinja.\n",
    "\n",
    "```{figure} ./bilder/eksempelrasjonalulikhet2.png\n",
    "---\n",
    "scale: 30%\n",
    "---\n",
    "```\n",
    "Vi er interessert i området der uttrykket er mindre eller lik $0$. Løsninga blir $L=[-5, -4\\rangle \\cup \\langle -2,\\frac{2}{3}]$.\n",
    "`````"
   ]
  },
  {
   "attachments": {},
   "cell_type": "markdown",
   "metadata": {},
   "source": [
    "## Andre løsningsmetoder\n",
    "\n",
    "På samme måte som for andre typer ulikheter kan vi også løse rasjonale ulikheter enten grafisk eller med CAS. Framgangsmåten er den samme som for polynomulikheter."
   ]
  }
 ],
 "metadata": {
  "kernelspec": {
   "display_name": "Python37",
   "language": "python",
   "name": "python3"
  },
  "language_info": {
   "name": "python",
   "version": "3.7.15 (default, Nov 24 2022, 18:44:54) [MSC v.1916 64 bit (AMD64)]"
  },
  "vscode": {
   "interpreter": {
    "hash": "6fbbe1ff1dbaaf20226355198eb8fd50bda93b517708eea3a794f0f516b66309"
   }
  }
 },
 "nbformat": 4,
 "nbformat_minor": 2
}
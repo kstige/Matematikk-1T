{
 "cells": [
  {
   "attachments": {},
   "cell_type": "markdown",
   "metadata": {},
   "source": [
    "# Likningsett med flere ukjente\n",
    "\n",
    "På forrige side så vi på likningssett med to ukjente. Det er ingenting i veien for at likningssett kan ha mer enn to ukjente. Men på samme måte som vi måtte ha to likninger for å finne de to ukjente, så trenger vi alltid like mange liknigner som vi har ukjente.\n",
    "\n",
    "Her skal vi se på et likningssett med tre ukjente. \n",
    "\n",
    "$$\n",
    "x+y+z=8\\\\\n",
    "2x-y-3z=8\\\\\n",
    "x-y-z=-4\n",
    "$$\n",
    "\n",
    "Vi kan i utgangspunktet bruke de samme metodene som for likningssett med to ukjente, men grafisk metode kan bli litt uoversiktlig siden tre ukjente fører til at vi må ta i bruk tre dimensjonale koordinatsystem. Addisjonsmetoden fungerer godt, men kan være vanskelig å utføre med den matematikken vi lærer på videregående. Det enkleste blir nok derfor innsettingsmetoden, CAS eller programmering."
   ]
  },
  {
   "attachments": {},
   "cell_type": "markdown",
   "metadata": {},
   "source": [
    "## Innsettingsmetoden\n",
    "\n",
    "```{admonition} Innsettingsmetoden\n",
    ":class: eksempel\n",
    "\n",
    "På samme måte som for to ukjente, så starter vi å løse en av likningene for den ene ukjente. For eksempel kan vi løse likning tre for $z$, slik at vi får $z=x-y+4$. Det kan vi sette inn i likning en ogto:\n",
    "\n",
    "$$\n",
    "I) \\quad x+y+z = x+y+(x-y+4)=x+y+x-y+4=2x+4=8\\\\\n",
    "II) \\quad 2x-y-3z=2x-y-3(x-y+4)=2x-y-3x+3y-12=-x+2y-12=8\n",
    "$$\n",
    "Vi ser at vi ender opp med et likningssett med to ukjente som vi kan løse videre med bruk av innsettingsmetoden. I det tilfelle her er vi imidlertid litt heldige og ender opp med at den første likningen har kun $x$ som ukjent. Løser vi den får vi $x=2$. Så setter vi den inn i likning II) og får $-2+2y-12=8$.Løser vi den får vi $y=11$. Så kan vi sette inn $x$ og $y$ i uttrykket vi fant for $z$ slik at vi får $z=2-11+4=-5$\n",
    "```\n"
   ]
  },
  {
   "attachments": {},
   "cell_type": "markdown",
   "metadata": {},
   "source": [
    "## Løsning med CAS"
   ]
  }
 ],
 "metadata": {
  "kernelspec": {
   "display_name": "Python37",
   "language": "python",
   "name": "python3"
  },
  "language_info": {
   "name": "python",
   "version": "3.7.15 (default, Nov 24 2022, 18:44:54) [MSC v.1916 64 bit (AMD64)]"
  },
  "vscode": {
   "interpreter": {
    "hash": "6fbbe1ff1dbaaf20226355198eb8fd50bda93b517708eea3a794f0f516b66309"
   }
  }
 },
 "nbformat": 4,
 "nbformat_minor": 2
}
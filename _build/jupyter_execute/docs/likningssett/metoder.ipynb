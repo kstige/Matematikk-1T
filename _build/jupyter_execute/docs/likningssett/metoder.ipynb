{
 "cells": [
  {
   "attachments": {},
   "cell_type": "markdown",
   "metadata": {},
   "source": [
    "# Metoder for løsning av likningssett\n",
    "\n",
    "\n",
    "## Introduksjon\n",
    "\n",
    "Fram til nå har vi sett på likninger med en variabel. Eksempler på det er \n",
    "\n",
    " * $3x+6=0$\n",
    " * $x^2+x=6$\n",
    "\n",
    "og tilsvarende. \n",
    "\n",
    "Nå skal vi se på likninger med flere ukjente størrelser. Et eksempel kan være $2x - y = 4$. For å løse denne likningen må vi finne verdier både for $x$ og $y$ som gjør at høyre side blir lik venstre side. Vi kan tenke oss at vi prøver å løse for $y$ først. Da ender vi opp med $y=2x-4$. Det her er likningen for ei rett linje, og vi ser at det er mange (faktisk uendelig mange) løsninger. Lar vi $x=1$ får vi $y=-2$. Dersom $x=2,5$ får vi $y=1$, og slik kunne vi fortsatt. Alle par av verdier for $x$ og $y$ som passer i likningen er løsninger. Vi kan også tegne likningen som en graf i et koordinatsystem.\n",
    "\n",
    "```{figure} ./bilder/enlikning.png\n",
    "---\n",
    "scale: 20%\n",
    "---\n",
    "```\n",
    "\n",
    "Det her viser oss at en likning ikke er nok for å kunne bestemme verdiene av $x$ og $y$. For å kunne finne en bestemt verdi for de to ukjente størrelsene trenger vi to likninger. Generelt trenger vi like mange likninger som vi har ukjente størrelser for å kunne avgjøre en bestemt verdi for alle størrelsene.\n",
    "\n",
    "Vi skal her i innledningen se på metoder for å løse lineære likningssett med to ukjente. Det er et sett med to likninger der begge varibalene er av første grad. Metodene vi bruker her kan enkelt overføres til likningssett som er ikke-lineære eller som har flere variabler.\n",
    "\n",
    "I alle eksemplene under skal vi se på likningssettet\n",
    "\n",
    "$$\n",
    "2x - y = 4 \\\\\n",
    "x + y = 5\n",
    "$$\n",
    "\n",
    "Når vi skal løse likningssett må vi finne et par av verdier for $x$ og $y$ som passer med begge likningene. Løsningen av dette likningssettet viser seg å være $x=3 \\land y=2$. Symbolet $\\land$ kalles konjunksjon og betryr \"og\".\n",
    "\n",
    "```{admonition} Antall løsninger\n",
    ":class: dropdown\n",
    "Et likningssett med to likninger og to ukjente kan ha\n",
    " * ingen løsning\n",
    " * en løsning\n",
    " * uendelig mange løsninger\n",
    "Andre muligheter finnes ikke\n",
    "```"
   ]
  },
  {
   "attachments": {},
   "cell_type": "markdown",
   "metadata": {},
   "source": [
    "## Grafisk metode\n",
    "\n",
    "I innledningen tegnet vi opp likningen $2x-y=4$ i et koordinatsystem. Den grafiske metoden går ut på å tegne inn begge likningene i det samme koordinatystemet og finne skjæringspunktet mellom dem.\n",
    "\n",
    "`````{admonition} Grafisk metode\n",
    ":class: eksempel\n",
    "Skriver inn begge likningene i GeoGebra. Vi ser at begge likningene hver for seg har uendelig mange løsninger, men en av løsningene passer i begge likningene. Det er den vi er ute etter. Vi bruker \"Skjæring mellom to objekt\" for å finne skjæringspunktet $(3,2)$.\n",
    "\n",
    "```{figure} ./bilder/grafiskmetode.png\n",
    "---\n",
    "scale: 20%\n",
    "---\n",
    "```\n",
    "\n",
    "Det betyr at løsningen av likningssettet er $x=3 \\wedge y = 2$. Siden løsningen er et par av verdier som tilsvarer et punkt i et koordinatsystem kan vi også skrive løsningen som $L=\\{(3,2)\\}$.\n",
    "`````\n",
    "\n",
    "```{admonition} Sammenheng med vanlige likninger\n",
    ":class: dropdown\n",
    "Vanlige likninger som $2x-4=x-5$ har vi sett kan løses på en tilsvarende måte grafisk. Da setter vi opp hver side som en rett linje (eller funksjon):\n",
    "\n",
    "$$\n",
    "y=2x-4\\\\\n",
    "y=5-x\n",
    "$$\n",
    "\n",
    "Så tegner vi grafene og finner skjæringspunktet. Likningssett med to ukjente og vanlige likninger har derfor en nær sammenheng.\n",
    "```"
   ]
  },
  {
   "attachments": {},
   "cell_type": "markdown",
   "metadata": {},
   "source": [
    "## Løsning med CAS\n",
    "Med CAS har vi den enkleste metoden for å løse likningssett.\n",
    "\n",
    "`````{admonition} Løsning med CAS\n",
    ":class: eksempel\n",
    "Vi skriver inn likningene i hver sin linje i CAS. Så merker vi begge linjene og trykker på løs-knappen.\n",
    "\n",
    "```{figure} ./bilder/CASmetode.png\n",
    "---\n",
    "scale: 60%\n",
    "---\n",
    "```\n",
    "Løsningen av likningssettet er $x=3 \\wedge y = 2$, eller $L=\\{(3,2)\\}$.\n",
    "`````"
   ]
  },
  {
   "attachments": {},
   "cell_type": "markdown",
   "metadata": {},
   "source": [
    "## Innsettingsmetoden\n",
    "Den neste metoden kommer vi fram til ved å ta utgangspunkt i vanlig likningsløsning. Vi starter med å løse den ene likningen for en av variablene. Så setter vi denne inn den andre likninge for å ende opp med en likning i en variabel.\n",
    "\n",
    "```{admonition} Innsettingsmetoden\n",
    ":class: eksempel\n",
    "Skriver den andre likningen som $y=5-x$ og setter det inn i den første likningen.\n",
    "\n",
    "$$\n",
    "2x-y=4 \\\\\n",
    "2x-(5-x)= 4\\\\\n",
    "3x-5=4\\\\\n",
    "3x=9\\\\\n",
    "x=3\n",
    "$$\n",
    "\n",
    "Så setter vi det tilbake i den andre likninge og får\n",
    "\n",
    "$$\n",
    "y=5-x=5-3=2\n",
    "$$\n",
    "\n",
    "Løsningen av likningssettet er $x=3 \\wedge y = 2$, eller $L=\\{(3,2)\\}$.\n",
    "```"
   ]
  },
  {
   "attachments": {},
   "cell_type": "markdown",
   "metadata": {},
   "source": [
    "## Addisjonsmetoden\n",
    "\n",
    "Addisjonsmetoden er en effektiv metode for løsning av likningssett, men den kan være noe vanskeligere å forstå. Hovedessensen i løsningsmetoden er å legge sammen likningene på en \"lur\" måte slik at den ene ukjente forsvinner.\n",
    "\n",
    "```{admonition} Addisjonsmetoden 1\n",
    ":class: eksempel\n",
    "\n",
    "Vi legger sammen likningene våre. Det vil si at vi legger sammen alt på venstre side for seg og alt på høyre side for seg. Likningen vi ender opp med må fortsatt stemme.\n",
    "\n",
    "VS: $(2x-y)+(x+y)=3x$\n",
    "\n",
    "HS: $4+5=9$\n",
    "\n",
    "Vi ender da opp med likningen $3x=9$ som vi løser og får $x=3$. Vi setter $x=3$ inn i den andre likningen og får $3+y=5$ som gir $y=2$.\n",
    "\n",
    "Løsningen av likningssettet er $x=3 \\wedge y = 2$, eller $L=\\{(3,2)\\}$.\n",
    "```\n",
    "\n",
    "I eksempelet over viste vi den enkleste varianten av addisjonsmetoden der den ene variabelen forsvinner bare ved å legge sammen likningene. Det er ikke alltid det er mulig og derfor skal vi løse likningssettet på nytt ved å prøve å få vekk $x$ i stedet for $y$.\n",
    "\n",
    "```{admonition} Addisjonsmetoden 2\n",
    "Vi ser at vi har $2x$ i den første likningen og $1x$ i den andre, så det vil ikke fungere å bare legge dem sammen. Men om vi ganger den andre likningen med -2 før vi legger sammen, så får vi:\n",
    "\n",
    "VS: $(2x+y)-2(x+y)=-y$\n",
    "HS: $4+(-2)\\cdot 5= -2$\n",
    "\n",
    "Vi ender altså opp med likningen $-y=-2$ som gir $y=2$. Vi setter inn i den andre likningen og får $2x+(-2)=4$ som gir $x=3$.\n",
    "\n",
    "Løsningen av likningssettet er $x=3 \\wedge y = 2$, eller $L=\\{(3,2)\\}$.\n",
    "```"
   ]
  },
  {
   "attachments": {},
   "cell_type": "markdown",
   "metadata": {},
   "source": [
    "## Løsning med programmering\n",
    "\n",
    "Det er mange metoder som kan brukes for å løse med programmering. For å forstå disse metodene er det stort sett nødvendig med kunnskap innenfor et område av matematikk som kalles \"Lineær algebra\". Her nøyer vi oss med å vise hvordan vi kan bruke en ferdig implementert løsningsmetode for lineære likningssett i python. \n",
    "\n",
    "Vi ser fortsatt på likningssettet\n",
    "\n",
    "$$\n",
    "2x - y = 4 \\\\\n",
    "x + y = 5\n",
    "$$\n",
    "\n",
    "Datamaskinen vil se på problemet på formen $Ax=b$, der $A$ består av koeffisientene (tallene foran de ukjente) på venstre side, mens $b$ er tallene på høyre side.\n",
    "\n",
    "$$\n",
    "A=\n",
    "\\begin{bmatrix}\n",
    "    2& -1\\\\\n",
    "    1 & 1 \\\\\n",
    "\\end{bmatrix}\n",
    ",\\quad\n",
    "x=\n",
    "\\begin{bmatrix}\n",
    "    x \\\\\n",
    "    y \\\\\n",
    "\\end{bmatrix}\n",
    ",\\quad\n",
    "b=\\begin{bmatrix}\n",
    "    4 \\\\\n",
    "    5 \\\\\n",
    "\\end{bmatrix}\n",
    "$$\n",
    "\n",
    "Dette er noe som kalles matriser, men det trenger vi ikke bry oss om før på matematikk på universitetet. Det viktige er at første linje i $A$ er tallene foran henholdsvis $x$ og $y$ i den første likningen, mens den andre linjen er tallene fra den andre likningen. Vi må skrive inn $A$ og $b$ i programmet vårt som noe som kalles \"array\" i python-språket.\n",
    "\n",
    "```{code-block} text\n",
    "A = array([[2,-1],[1,1]])\n",
    "b = array([4,5])\n",
    "```\n",
    "Videre bruker vi en kommando som løser likningssystemet for oss.\n",
    "\n",
    "```{code-block} text\n",
    "x =linalg.solve(A,b)\n",
    "```\n",
    "\n",
    "Det fullstendige programmet blir"
   ]
  },
  {
   "cell_type": "code",
   "execution_count": 1,
   "metadata": {},
   "outputs": [
    {
     "name": "stdout",
     "output_type": "stream",
     "text": [
      "[3. 2.]\n"
     ]
    }
   ],
   "source": [
    "from pylab import *\n",
    "\n",
    "A = array([[2,-1],[1,1]])\n",
    "b = array([4,5])\n",
    "\n",
    "x = linalg.solve(A,b)\n",
    "print(x)"
   ]
  },
  {
   "attachments": {},
   "cell_type": "markdown",
   "metadata": {},
   "source": [
    "Vi ser at vi får ut en løsning som betyr at $x=3$ og $y=2$ som vi forventet.\n",
    "\n",
    "Under kan du kjøre programmet og prøve å endre på det for å løse andre likningssett. Hva tror du at du må gjøre for å løse et likningssett med tre ukjente?\n",
    "\n",
    "<iframe src=\"https://trinket.io/embed/python3/8878d4ed7a\" width=\"100%\" height=\"356\" frameborder=\"0\" marginwidth=\"0\" marginheight=\"0\" allowfullscreen></iframe>"
   ]
  },
  {
   "cell_type": "markdown",
   "metadata": {},
   "source": []
  },
  {
   "cell_type": "markdown",
   "metadata": {},
   "source": []
  }
 ],
 "metadata": {
  "kernelspec": {
   "display_name": "Python37",
   "language": "python",
   "name": "python3"
  },
  "language_info": {
   "codemirror_mode": {
    "name": "ipython",
    "version": 3
   },
   "file_extension": ".py",
   "mimetype": "text/x-python",
   "name": "python",
   "nbconvert_exporter": "python",
   "pygments_lexer": "ipython3",
   "version": "3.7.15"
  },
  "vscode": {
   "interpreter": {
    "hash": "6fbbe1ff1dbaaf20226355198eb8fd50bda93b517708eea3a794f0f516b66309"
   }
  }
 },
 "nbformat": 4,
 "nbformat_minor": 2
}
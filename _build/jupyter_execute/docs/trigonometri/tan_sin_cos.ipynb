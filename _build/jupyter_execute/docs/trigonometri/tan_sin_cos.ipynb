{
 "cells": [
  {
   "attachments": {},
   "cell_type": "markdown",
   "metadata": {},
   "source": [
    "# Tangens, sinus og cosinus\n",
    "\n",
    "```{figure} ./bilder/formlik.png\n",
    "---\n",
    "scale: 30%\n",
    "align: right\n",
    "---\n",
    "```\n",
    "\n",
    "I formlike trekanter er alle vinklene parvis like store. Vi har sett at i slike trekanter så vil forholdet mellom samsvarende sider være konstant. La oss se på trekantene til høyre som et eksempel.\n",
    "\n",
    "Fra formlikhet vet vi at $\\frac{AB}{DE}=\\frac{BC}{EF}$. Sett inn tall og sjekk at det stemmer. Hvis vi deler begge sider av denne likningen (proporsjonen) med $BC$ og multipliserer med $DE$, så får vi:\n",
    "\n",
    "$$\\frac{AB}{BC}=\\frac{DE}{EF}$$\n",
    "\n",
    "Vi ser at forholdet mellom to sider i $\\bigtriangleup ABC$ er likt forholdet mellom de to samsvarende i $\\bigtriangleup DEF$. \n",
    "\n",
    "\n"
   ]
  }
 ],
 "metadata": {
  "kernelspec": {
   "display_name": "Python37",
   "language": "python",
   "name": "python3"
  },
  "language_info": {
   "name": "python",
   "version": "3.7.15 (default, Nov 24 2022, 18:44:54) [MSC v.1916 64 bit (AMD64)]"
  },
  "vscode": {
   "interpreter": {
    "hash": "6fbbe1ff1dbaaf20226355198eb8fd50bda93b517708eea3a794f0f516b66309"
   }
  }
 },
 "nbformat": 4,
 "nbformat_minor": 2
}
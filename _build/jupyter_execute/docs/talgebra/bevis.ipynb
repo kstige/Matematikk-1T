{
 "cells": [
  {
   "attachments": {},
   "cell_type": "markdown",
   "metadata": {},
   "source": [
    "# Bevis\n",
    "\n",
    "Matematikk er det vi kaller for en aksiomatisk vitenskap. Det betyr at all matematikk baserer seg på noen grunnleggende askiomer (påstander/prinsipp). All annen matematikk kan via bevisrekker føres tilbake til disse aksiomene."
   ]
  }
 ],
 "metadata": {
  "language_info": {
   "name": "python"
  }
 },
 "nbformat": 4,
 "nbformat_minor": 2
}
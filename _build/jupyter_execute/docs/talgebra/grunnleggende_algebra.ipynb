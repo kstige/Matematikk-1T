{
 "cells": [
  {
   "attachments": {},
   "cell_type": "markdown",
   "metadata": {},
   "source": [
    "# Grunnleggende algebra\n",
    "\n",
    "Når vi går lenger og lenger inn i matematikken så møter vi færre og færre tall. Behovet for generalisering gjør at vi i stor grad kommer til å arbeide med bokstavuttrykk. Her repeterer vi de mest grunnleggende elementene fra algebra.\n",
    "\n",
    "```{admonition} Regneregler for algebra\n",
    ":class: dropdown\n",
    "\n",
    "Vi lar $a, b \\in \\mathbf{R}$.\n",
    "\n",
    " 1) $a+b=b+a$\n",
    " 2) $a\\cdot b = b\\cdot a$\n",
    " 3) $a+b+c= a + (b+c)= (a+b)+c$\n",
    " 4) $a\\cdot b\\cdot c = a\\cdot(b\\cdot c)=(a\\cdot b)\\cdot c$\n",
    " 5) $a\\cdot(b + c)= a\\cdot b + a\\cdot c$\n",
    " 6) $(a+b)(c+d) = ac + ad + bc +bd$\n",
    " 7) $(-a)\\cdot b = -a\\cdot b$\n",
    " 8) $(-a) \\cdot (-b) = a\\cdot b$\n",
    "\n",
    "1) og 2) er den *kommutative* egenskapen til addisjon og multiplikasjon. Vi kan addere og multiplisere i den rekkefølgen vi ønsker. Gjelder ikke for subtraksjon og divisjon.\n",
    "\n",
    "3) og 4) er den *assosiative* egenskapen til addisjon og multiplikasjon. Vi kan addere og multiplisere tre elementer ved å velge to vilkårlige av elementene først. Gjelder ikke for subtraksjon og divisjon.\n",
    "\n",
    "5) og 6) er den *distributive* egenskapen til multiplikasjon med en og to parenteser. Den gjelder også om vi bytter en eller begge addisjonene med subtraksjon. \n",
    "\n",
    "7) og 8) er de kjente reglemne om at multiplikasjon av to tall med samme fortegn gir positivt svar, mens multiplikasjon med ulike fortegn gir negativt svar. Gjelder også for divisjon.\n",
    "```\n",
    "\n",
    "Ellers gjelder reglene for potenser og kvadratrøtter som vi så på på siden om tallregning."
   ]
  }
 ],
 "metadata": {
  "kernelspec": {
   "display_name": "base",
   "language": "python",
   "name": "python3"
  },
  "language_info": {
   "name": "python",
   "version": "3.9.12 (main, Apr  4 2022, 05:22:27) [MSC v.1916 64 bit (AMD64)]"
  },
  "vscode": {
   "interpreter": {
    "hash": "ad2bdc8ecc057115af97d19610ffacc2b4e99fae6737bb82f5d7fb13d2f2c186"
   }
  }
 },
 "nbformat": 4,
 "nbformat_minor": 2
}
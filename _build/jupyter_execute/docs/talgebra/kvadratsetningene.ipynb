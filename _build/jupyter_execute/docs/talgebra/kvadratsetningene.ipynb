{
 "cells": [
  {
   "attachments": {},
   "cell_type": "markdown",
   "metadata": {},
   "source": [
    "# Kvadratsetningene\n",
    "\n",
    "Vi har nå sett på hvordan vi trekker sammen algebrauttrykk og hvordan vi multipliserer ut parenteser. Noen former for parentesuttrykk dukker opp så ofte at vi har gitt dem egne navn.\n",
    "\n",
    "```{admonition} Kvadratsetningene\n",
    "\n",
    "**Første kvadratsetning:** $(a+b)^2=a^2+2ab+b^2$\n",
    "\n",
    "**Andre kvadratsetning:** $(a-b)^2=a^2-2ab+b^2$\n",
    "\n",
    "**Konjugatsetningen:** $(a+b)(a-b)=a^2-b^2$\n",
    "\n",
    "Konjugatsetningen blir av og til også kalt for *tredje kvadratsetning*.\n",
    "```\n",
    "\n",
    "Sammenhengene over kan enkelt bevises ved å skrive ut kvadratene og multiplisere sammen parentesene. Det viser vi for første kvadratsetning i eksempelet under.\n",
    "\n",
    "```{admonition} Eksempel: Første kvadratsetning\n",
    ":class: eksempel\n",
    "\n",
    "Vi skal regne ut $(x+4)^2$ med og uten første kvadratsetning.\n",
    "\n",
    "**Uten**\n",
    "\n",
    "$(x+4)^2=(x+4)\\cdot (x+4)=x^2+4x+4x+16=x^2+8x+16$\n",
    "\n",
    "**Med**\n",
    "\n",
    "$(x+4)^2=x^2+2\\cdot 4x +4^2=x^2+8x+16$\n",
    "```\n",
    "\n",
    "Eksempelet over viser at det i enkle tilfeller ikke er så mye tid å spare på å bruke kvadratsetningene. Fordelen kommer når uttrykkene i parentesene blir mer sammensatte. I tillegg vil den største nytten komme i å bruke kvadratsetningene baklengs, det vil si til faktorisering.\n",
    "\n",
    "```{admonition} Eksempel: Sammensatte kvadrater\n",
    ":class: eksempel\n",
    "\n",
    "$(2a+3)^2=(2a)^2+2\\cdot 2a\\cdot 3+3^2=4a^2+12a+9$\n",
    "\n",
    "$\\displaystyle{\\left(\\frac{x}{3}-3y\\right)^2 = \\left(\\frac{x}{3}\\right)^2-2\\cdot\\frac{x}{3}\\cdot 3y+(3y)^2=\\frac{x^2}{9}-2xy+9y^2}$\n",
    "\n",
    "$(\\sqrt{5}+2)(\\sqrt{5}-2)=(\\sqrt{5})^2-2^2=5-4=1$\n",
    "```"
   ]
  },
  {
   "attachments": {},
   "cell_type": "markdown",
   "metadata": {},
   "source": [
    "## Illustrasjon av første kvadratsetning\n",
    "\n",
    "Vi kan bruke figuren under for å både bevise og illustrere første kvadratsetning.\n",
    "\n",
    "```{figure} ./bilder/1kvadratsetning.png\n",
    "---\n",
    "scale: 50%\n",
    "---\n",
    "```\n",
    "\n",
    "Sidene i kvadratet er $a+b$, så arealet av kvadratet er $(a+b)^2$. Vi kan imidlertid også skrive arealet ved hjelp av firkantene som den er delt opp i.\n",
    "\n",
    "Blå firkant: $a^2$\n",
    "\n",
    "Grønne firkatner: $2ab$\n",
    "\n",
    "Rødbrun firkant: $b^2$\n",
    "\n",
    "Vi ser da at $(a+b)^2=a^2+2ab+b^2$.\n",
    "\n",
    "Tilsvarende illustrasjoner og bevis kan gjøres også for andre kvadratsetning og konjugatsetningen."
   ]
  }
 ],
 "metadata": {
  "kernelspec": {
   "display_name": "Python37",
   "language": "python",
   "name": "python3"
  },
  "language_info": {
   "name": "python",
   "version": "3.7.15 (default, Nov 24 2022, 18:44:54) [MSC v.1916 64 bit (AMD64)]"
  },
  "vscode": {
   "interpreter": {
    "hash": "6fbbe1ff1dbaaf20226355198eb8fd50bda93b517708eea3a794f0f516b66309"
   }
  }
 },
 "nbformat": 4,
 "nbformat_minor": 2
}
{
 "cells": [
  {
   "attachments": {},
   "cell_type": "markdown",
   "metadata": {},
   "source": [
    "# Faktorisering\n",
    "\n",
    "## Primtall og faktorisering\n",
    "\n",
    "Et primtall er et tall som kun kan divideres på seg selv og $1$. De første primtallene er $2, 3, 5, 7, 11$ og $13$. Det kan bevises at det finnes uendelig antall primtall. \n",
    "\n",
    "Alle tall som ikke er primtall (bortsett fra $1$) kaller vi for sammensatte tall. Sammensatte tall kan vi skrive som et produkt av andre tall. Det kalles å faktorisere tallet. Et fundamentalt teorem i matematikken sier at alle tall kan skrives som et produkt av primtall på en unik måte. En slik faktorisering kalles *primtallsfaktorisering*. Vi kan for eksempel primtallsfaktorisere $84=2\\cdot 2\\cdot 3\\cdot 7$.\n",
    "\n",
    "Faktorisering blir et viktig redskap når vi skal arbeide med likninger. Her nøyer vi oss med å se et eksempel på hvordan vi kan bruke faktorisering til å forenkle uttrykk med kvadratrøtter.\n",
    "\n",
    "```{admonition} Eksempel: Forenkling av kvadratrøtter\n",
    ":class: eksempel\n",
    "$$\n",
    "\\begin{align}\n",
    "\\sqrt{250}-\\sqrt{40} &=\\sqrt{25\\cdot 10}-\\sqrt{4\\cdot 10}\\\\\n",
    "&= \\sqrt{25}\\cdot\\sqrt{10}-\\sqrt{4}\\cdot\\sqrt{10} \\\\\n",
    "&=5\\cdot\\sqrt{10}-2\\cdot\\sqrt{10} \\\\\n",
    "&=3\\sqrt{10}\n",
    "\\end{align}\n",
    "$$\n",
    "```\n",
    "\n"
   ]
  }
 ],
 "metadata": {
  "kernelspec": {
   "display_name": "Python37",
   "language": "python",
   "name": "python3"
  },
  "language_info": {
   "name": "python",
   "version": "3.7.15 (default, Nov 24 2022, 18:44:54) [MSC v.1916 64 bit (AMD64)]"
  },
  "vscode": {
   "interpreter": {
    "hash": "6fbbe1ff1dbaaf20226355198eb8fd50bda93b517708eea3a794f0f516b66309"
   }
  }
 },
 "nbformat": 4,
 "nbformat_minor": 2
}
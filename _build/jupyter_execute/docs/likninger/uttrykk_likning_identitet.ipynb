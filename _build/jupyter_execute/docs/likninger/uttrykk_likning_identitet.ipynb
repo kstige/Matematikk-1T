{
 "cells": [
  {
   "attachments": {},
   "cell_type": "markdown",
   "metadata": {},
   "source": [
    "# Uttrykk, likning og identitet\n",
    "\n",
    "I arbeidet med algebra og likninger er det viktig å skille mellom innholdet i begrepene *uttrykk, likning og identitet*. Mange misforståelser i matematikk på dette nivået bunner i at man behandler algebraiske uttrykk som ei likning og/eller motsatt. Vi starter derfor med å definere begrepene før vi viser viktige forskjeller.\n",
    "\n",
    "```{admonition} Algebraisk uttrykk\n",
    "Et algebraisk uttrykk er bygd opp av tall og variabler og inneholder ikke likhetstegn.\n",
    "\n",
    "Eksempler:\n",
    " * $3x+4$\n",
    " * $4b^2-3a^2b+8$\n",
    "\n",
    "Det er også verdt å merke seg at en formel inneholder et uttrykk. For eksempel vil formelen for arealet av en sirkel, $A=\\pi r^2$, si at arealet er gitt ved uttrykket $\\pi r^2$.\n",
    "```\n",
    "\n",
    "```{admonition} Likning\n",
    "Dersom vi setter to algebraiske uttrykk lik hverandre, så har vi en likning. Likningen består av en høyre side og en venstre side med et likhetstegn mellom.\n",
    "\n",
    "Eksempler:\n",
    " * $3x + 4 = 2x +1$\n",
    " * $x^2+6x+9=0$\n",
    "\n",
    "En likning kan være sann for ingen, en eller flere verdier for den ukjente variabelen.\n",
    "\n",
    "Når vi setter inn kjente størrelser i en formel, så vil vi i mange tilfeller ende opp med en likning. Får vi vite at arealet av en sirkel er 8, så kan vi sette opp likningen $8=\\pi r^2$ som kan løses for å finne radien i sirkelen.\n",
    "```\n",
    "\n",
    "```{admonition} Identitet\n",
    "En identitet er er en likning med uendelig mange løsninger. Det vil si at det er to algebraiske uttrykk som er lik for alle verdier av variablene.\n",
    "\n",
    "Eksempler:\n",
    " * $2(x+3)=2x+6$\n",
    " * kvadratsetningnene ($(a+b)^2=a^2+2ab+b^2$)\n",
    "```\n",
    "\n",
    "Det kan virke unaturlig og undøvendig å skille mellom disse tre. Forskjellen er imidlertid viktig fordi vi må behandle uttrykk og likninger på forskjellige måter.\n",
    "\n",
    "I en likning kan vi (men noen begrensninger) utføre samme matematiske operasjon på begge sider av likhetstegnet uten at likningen endres. Vi kan for eksempel multiplisere med et tall for å få vekk brøker. Ved å multiplisere med 5 i en likning gjør vi både venstre og høyre side av likningen 5 ganger så stor. Det endrer ikke likningen.\n",
    "\n",
    "Dersom vi gjøre det samme i et uttrykk, så endrer vi hele uttrykket. Dersom vi multipliserer uttrykket av arealet til en sirkel med 5, så får vi $5\\pi r^2$. Da har vi gjort arealet 5 ganger så stort. Det kan vi derfor ikke gjøre. Vi kan allikevel forenkle eller omskrive uttrykk. Da er det imidlertid viktig at hvert ledd i omskrivingen er en identitet. Eksempler på dette er når vi har laget fullstendige kvadrat (og faktorisert). Da legger vi til og trekker fra like mye slik at vi ikke endrer verdien på uttrykket.\n",
    "\n",
    "Senere i faget skal vi arbeide med funksjoner. Det kan være verdt å merke seg at en funksjon er en likning som viser sammenhengen mellom to størrelser. Høyresiden i en funksjon vil være et uttrykk som viser verdien til venstre siden. Dette er på mange måter det samme som en formel.\n",
    "\n",
    "`````{admonition} Avgjøre om en likning er en identitet\n",
    ":class: eksempel\n",
    "Vi skal avgjøre om $x^2+6x+8=(x+2)(x+4)$ er en identitet.\n",
    "\n",
    "**For hånd**\n",
    "\n",
    "Vi kan gå fram på to måter:\n",
    " * faktorisere venstre side med fullstendig kvadrat metoden\n",
    " * multiplisere ut høyre side\n",
    "\n",
    "Det siste alternativet er enklest: $(x+2)(x+4)=x^2+4x+2x+8=x^2+6x+8$. Vi ser at uttrykkene er eksakt like. Det er derfor en identitet.\n",
    "\n",
    "**Med CAS**\n",
    "\n",
    "Vi skriver inn uttrykket i CAS med dobbelt likhetstegn \"==\" mellom. Da får vi symbolet vist i utklippet under. Dersom likningen er en identitet får vi resultatet *true*. Dersom det ikke er en identitet får vi *false*.\n",
    "\n",
    "```{figure} ./bilder/identitet.png\n",
    "---\n",
    "scale: 70%\n",
    "---\n",
    "```\n",
    "\n",
    "Vi ser at likningen er en identitet. Det vil si at den stemmer for alle verdier av $x$.\n",
    "`````\n"
   ]
  }
 ],
 "metadata": {
  "kernelspec": {
   "display_name": "base",
   "language": "python",
   "name": "python3"
  },
  "language_info": {
   "codemirror_mode": {
    "name": "ipython",
    "version": 3
   },
   "file_extension": ".py",
   "mimetype": "text/x-python",
   "name": "python",
   "nbconvert_exporter": "python",
   "pygments_lexer": "ipython3",
   "version": "3.9.12 (main, Apr  4 2022, 05:22:27) [MSC v.1916 64 bit (AMD64)]"
  },
  "vscode": {
   "interpreter": {
    "hash": "ad2bdc8ecc057115af97d19610ffacc2b4e99fae6737bb82f5d7fb13d2f2c186"
   }
  }
 },
 "nbformat": 4,
 "nbformat_minor": 2
}
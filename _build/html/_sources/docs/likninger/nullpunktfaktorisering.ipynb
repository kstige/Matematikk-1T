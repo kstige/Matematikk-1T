{
 "cells": [
  {
   "attachments": {},
   "cell_type": "markdown",
   "metadata": {},
   "source": [
    "# Nullpunktfaktorisering\n",
    "\n",
    "Vi har sett hvordan uttrykk kan faktoriseres ved:\n",
    "\n",
    " * å trekke ut felles faktor\n",
    " * kvadratsetningene\n",
    " * fullstendig-kvadratmetoden\n",
    "\n",
    "Vi har også sett på hvordan vi kan løse andregradslikninger på formen $ax^2+bx+c=0$. Når vi løser denne likningen finner vi nullpunktene til andregradspolynomet $ax^2+bx+c$. Vi skal her se på hvordan vi kan bruke nullpunkt til å faktorisere generelle andregradsuttrykk uten å bruke fullstendig-kvadratmetoden, men først definerer vi begrepene andregradspolynom og nullpunkt.\n",
    "\n",
    "```{admonition} Andregradspolynom\n",
    "Et uttrykk som kan skrives på formen\n",
    "\n",
    "$P(x)=ax^2+bx+c$ der $a$, $b$, $c \\in \\mathbf{R}$ og $a\\neq 0$\n",
    "\n",
    "kalles et andregradspolynom.\n",
    "\n",
    "Ordet polynom består av ordene\n",
    "\n",
    " * poly - mange\n",
    " * nom - ledd\n",
    "\n",
    "og er altså et uttrykk som består av flere ledd.\n",
    "\n",
    "Ved å legge til ledd med $x^3$ vil vi få et tredjegradspolynom og så videre.\n",
    "```\n",
    "\n",
    "```{admonition} Nullpunkt\n",
    "Når vi løser en likning $P(x)=0$ finner vi nullpunktene til uttrykket $P(x)$. Nullpunktene er de $x$-verdiene som gjør at uttrykket blir lik null.\n",
    "\n",
    "Dersom $a$ er et nullpunkt for $P(x)$, så vil $P(a)=0$.\n",
    "```\n",
    "\n",
    "```{admonition} Eksempel: Andregradspolynom og nullpunkt\n",
    ":class: eksempel\n",
    "\n",
    "$P(x)=x^2-x-6$ er et andregradspolynom. $x=-2$ og $x=3$ er nullpunkt til andregradspolynomet siden\n",
    "\n",
    "$P(-2)=(-2)^2-(-2)-6=4+2-6=0$\n",
    "\n",
    "$P(3)=3^2-3-6=9-3-6=0$\n",
    "```\n"
   ]
  }
 ],
 "metadata": {
  "kernelspec": {
   "display_name": "Python37",
   "language": "python",
   "name": "python3"
  },
  "language_info": {
   "name": "python",
   "version": "3.7.15 (default, Nov 24 2022, 18:44:54) [MSC v.1916 64 bit (AMD64)]"
  },
  "orig_nbformat": 4,
  "vscode": {
   "interpreter": {
    "hash": "6fbbe1ff1dbaaf20226355198eb8fd50bda93b517708eea3a794f0f516b66309"
   }
  }
 },
 "nbformat": 4,
 "nbformat_minor": 2
}

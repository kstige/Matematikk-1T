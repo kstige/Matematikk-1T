{
 "cells": [
  {
   "attachments": {},
   "cell_type": "markdown",
   "metadata": {},
   "source": [
    "# Andregradslikninger\n",
    "\n",
    "Fram til nå har vi arbeidet med lineære likninger. Det er likninger der den ukjente kun er i første potens. Skal vi bruke likninger til å løse problemstillinger innenfor andre fagfelt, så vil vi imidlertid ende opp med likninger der den ukjente er opphøyd i andre. Eksempler på slike likninger er\n",
    "\n",
    " * $x^2=36$\n",
    " * $2x^2-8=0$\n",
    " * $x^2-12x=0$\n",
    " * $x^2+6x+9=4$\n",
    " * $x^2-12x+20=0$\n",
    "\n",
    "Vi skal \n",
    "\n",
    "```{admonition} Andregradslikninger\n",
    "I en andregradslikning vil den ukjente størrelsen være i andre potens. Alle andregradslikninger kan skrives på formen\n",
    "\n",
    "$$ax^2+bx+c=0$$\n",
    "\n",
    "der $a, b, c \\in \\mathbf{R}$ og $a\\neq 0$.\n",
    "```\n",
    "\n",
    "\n",
    "\n"
   ]
  }
 ],
 "metadata": {
  "kernelspec": {
   "display_name": "Python37",
   "language": "python",
   "name": "python3"
  },
  "language_info": {
   "name": "python",
   "version": "3.7.15 (default, Nov 24 2022, 18:44:54) [MSC v.1916 64 bit (AMD64)]"
  },
  "orig_nbformat": 4,
  "vscode": {
   "interpreter": {
    "hash": "6fbbe1ff1dbaaf20226355198eb8fd50bda93b517708eea3a794f0f516b66309"
   }
  }
 },
 "nbformat": 4,
 "nbformat_minor": 2
}

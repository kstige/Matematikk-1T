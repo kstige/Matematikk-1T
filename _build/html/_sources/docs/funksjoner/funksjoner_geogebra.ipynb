{
 "cells": [
  {
   "attachments": {},
   "cell_type": "markdown",
   "metadata": {},
   "source": [
    "# Funksjoner i GeoGebra\n",
    "\n",
    "I mange oppgaver knyttet til funksjoner vil det være praktisk å bruke digitale hjelpemidler for å undersøke funksjonen. Med GeoGebra kan vi tegne grafen og undersøke den visuelt. Det er også mulig å bruke CAS til å undersøke både spesielle og generelle funksjonsuttrykk. Vi starter med å se på de viktigste funksjonene i grafvinduet.\n",
    "\n",
    "## Graftegning i GeoGebra\n",
    "\n",
    " - Skrive inn funksjonsuttrykket\n",
    " - Lese av funksjonen langs $x$-aksen\n",
    " - Lese av funksjonen langs $y$-aksen\n",
    " - Finne eventuelle nullpunkt\n",
    " - Finne eventuelle ekstremalpunkt\n",
    "\n",
    "I tillegg tar vi for oss\n",
    "\n",
    " - Finne asymptoter (rasjonale funksjoner)\n",
    " - Finne gjennomsnittlig og momentan vekstfart\n",
    "\n",
    "`````{admonition} Eksempel: Graftegning i GeoGebra\n",
    ":class: eksempel\n",
    "Vi ser på funksjonen $f(x)=2x^3 -4x^2-10x+12$ og skal tegne funksjonen, lese av funksjonen, finne nullpunkt og finne ekstremalpunkt.\n",
    "\n",
    "```{admonition} Tegne funksjonen\n",
    ":class: losning, dropdown\n",
    "\n",
    "Skriver inn $f(x)=2x^3-4x^2-10 +12$ i algebrafeltet. Om vi ønsker å begrense definisjonsmengden til å være for eksempel $D_f = [-5, 6]$ kan vi putte på $, -5<=x<=6 bak funksjonsuttrykket$ som vist i bildet under. Om funksjonen vår s\n",
    "\n",
    "```\n",
    "\n",
    "\n",
    "```{admonition} Lese av langs $x$-aksen\n",
    ":class: losning, dropdown\n",
    "\n",
    "```\n",
    "\n",
    "\n",
    "`````\n",
    "\n",
    "\n",
    "`````{admonition} Oppgave: Antall turister\n",
    ":class: oppgave\n",
    "\n",
    "Antall turister som besøker en bestemt by i løpet av sommerferien kan beskrives ved tredjegradsfunksjonen\n",
    "\n",
    "$$T(x) = -4x^3 + 66x^2 - 288x + 978$$\n",
    "\n",
    "der $x$ er antall uker etter at ferien startet.\n",
    "\n",
    "**a)** Tegn grafen til $T(x)$ når $0\\leq x\\leq 10$.\n",
    "**b)** Hvor mange turister er det i uke 2?\n",
    "**c)** Hva er det høyeste og laveste antall turister i løpet av de 10 ukene?\n",
    "**d)** Finn den gjennomsnittlige vekstfarten i tallet på turister mellom uke 3 og uke 8. Hva betyr svaret?\n",
    "\n",
    "```{figure} ./bilder/tredjegradsfunksjon.png\n",
    "---\n",
    "scale: 30%\n",
    "align: center\n",
    "---\n",
    "```\n",
    "`````"
   ]
  }
 ],
 "metadata": {
  "kernelspec": {
   "display_name": "Python37",
   "language": "python",
   "name": "python3"
  },
  "language_info": {
   "name": "python",
   "version": "3.7.15 (default, Nov 24 2022, 18:44:54) [MSC v.1916 64 bit (AMD64)]"
  },
  "orig_nbformat": 4,
  "vscode": {
   "interpreter": {
    "hash": "6fbbe1ff1dbaaf20226355198eb8fd50bda93b517708eea3a794f0f516b66309"
   }
  }
 },
 "nbformat": 4,
 "nbformat_minor": 2
}

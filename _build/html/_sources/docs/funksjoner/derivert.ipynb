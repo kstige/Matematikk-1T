{
 "cells": [
  {
   "attachments": {},
   "cell_type": "markdown",
   "metadata": {},
   "source": [
    "# Momentan vekstfart\n",
    "\n",
    "Vi har sett på hvordan vi kan finne gjennomsnittlig vekstfart for en funksjon $f(x)$ på intervallet $[x_1, x_2]$ ved å finne stigningstallet til den lineære funksjonen som går gjennom punktene $A = (x_1, f(x_1))$ og $B = (x_2, f(x_2))$. Det gir oss god informasjon om hvor raskt funksjonsgrafen endrer seg i ulike intervaller.\n",
    "\n",
    "Men hva gjør vi om vi vil finne ut hvor raskt funksjonsgrafen endrer seg i punktet $A$? Vi ønsker altså å finne vekstfarten for en bestemt $x$-verdi og ikke for et intervall. Formelen for vekstfart som vi har brukt krever to punkt, så den vil ikke være mulig å bruke når vi kun ser på et punkt. Vi får derfor et problem.\n",
    "\n",
    "Når vi støter på slike problem i matematikken vil løsningen ofte være å nærme oss problemet ved noe som er kjent. Vi tar derfor utgangspunkt i den gjennomsnittlige vekstfarten og lar intervallet $[x_1, x_2]$ bli mindre. Det betyr at vi lar punktet $B$ nærme seg punktet $A$. Prøv det i figuren under."
   ]
  }
 ],
 "metadata": {
  "kernelspec": {
   "display_name": "Python37",
   "language": "python",
   "name": "python3"
  },
  "language_info": {
   "name": "python",
   "version": "3.7.15 (default, Nov 24 2022, 18:44:54) [MSC v.1916 64 bit (AMD64)]"
  },
  "orig_nbformat": 4,
  "vscode": {
   "interpreter": {
    "hash": "6fbbe1ff1dbaaf20226355198eb8fd50bda93b517708eea3a794f0f516b66309"
   }
  }
 },
 "nbformat": 4,
 "nbformat_minor": 2
}

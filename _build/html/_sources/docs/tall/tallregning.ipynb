{
 "cells": [
  {
   "attachments": {},
   "cell_type": "markdown",
   "metadata": {},
   "source": [
    "# Tallregning\n",
    "\n",
    "Vi skal her raskt repetere litt om grunnleggende tallregning.\n",
    "\n",
    "## Regnerekkefølge\n",
    "\n",
    "De fire grunnleggende regneoperasjonene er:\n",
    " * addisjon\n",
    " * subtraksjon\n",
    " * multiplikasjon\n",
    " * divisjon\n",
    "\n",
    "I tillegg kommer vi til å ha bruk for:\n",
    " * potenser\n",
    " * røtter (kvadratrøtter)\n",
    "\n",
    "Når vi skal utføre et sammensatt regnestykke, så benytter vi oss av denne regnerekkefølgen\n",
    "\n",
    "```{admonition} Regnerekkefølgen\n",
    "\n",
    " 1) Parenteser\n",
    " 2) Potenser og røtter\n",
    " 3) Multiplikasjon og divisjon\n",
    " 4) Addisjon og subtraksjon\n",
    "\n",
    "```\n",
    "\n",
    "## Potenser\n",
    "En potens er en gjentatt multiplikasjon.\n",
    "\n",
    "```{admonition} Definisjon av potens\n",
    "$a^n$ betyr at vi skal multiplisere $a$ med seg selv $n$ ganger.\n",
    "\n",
    "$$a^n=\\underbrace{a\\cdot a \\cdots a}_{n \\text{ganger}}$$\n",
    "```\n",
    "\n"
   ]
  }
 ],
 "metadata": {
  "kernelspec": {
   "display_name": "Python37",
   "language": "python",
   "name": "python3"
  },
  "language_info": {
   "name": "python",
   "version": "3.7.15 (default, Nov 24 2022, 18:44:54) [MSC v.1916 64 bit (AMD64)]"
  },
  "orig_nbformat": 4,
  "vscode": {
   "interpreter": {
    "hash": "6fbbe1ff1dbaaf20226355198eb8fd50bda93b517708eea3a794f0f516b66309"
   }
  }
 },
 "nbformat": 4,
 "nbformat_minor": 2
}

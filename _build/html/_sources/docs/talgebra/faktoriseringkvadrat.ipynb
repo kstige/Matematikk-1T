{
 "cells": [
  {
   "attachments": {},
   "cell_type": "markdown",
   "metadata": {},
   "source": [
    "# Faktorisering med kvadratsetningene"
   ]
  }
 ],
 "metadata": {
  "language_info": {
   "name": "python"
  },
  "orig_nbformat": 4
 },
 "nbformat": 4,
 "nbformat_minor": 2
}

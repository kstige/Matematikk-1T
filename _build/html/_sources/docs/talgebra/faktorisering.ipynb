{
 "cells": [
  {
   "attachments": {},
   "cell_type": "markdown",
   "metadata": {},
   "source": [
    "# Faktorisering\n",
    "\n",
    "Mye av algebraen vi har arbeidet med til nå vil vi i stor grad benytte baklengs. Som oftest er vi nemlig interessert i å skrive uttrykk på det vi kaller faktorisert form.\n",
    "\n",
    "```{admonition} Faktorisere\n",
    "Å faktorisere et tall eller uttrykk betyr at vi skriver tallet eller uttrykket som et produkt av flere faktorer.\n",
    "\n",
    "I faktorisert form av et uttrykk vil eventuelle $+$ og $-$ kun befinne seg inne i parenteser. Parentesen er da en faktor i uttrykket.\n",
    "```\n",
    "\n",
    "\n",
    "## Primtall og faktorisering\n",
    "\n",
    "Vi starter med å repetere faktorisering av tall. Mange tall kan faktoriseres og de kan ofte faktoriseres på flere måter. For eksemel kan vi skrive $84=2\\cdot 42$ eller $84=4\\cdot 21$. Alle tall som kan faktoriseres kaller vi for *sammensatte tall*. Alle andre tall (bortsett fra $1$) kaller vi for *primtall*. Et primtall er et tall som kun kan divideres på seg selv og $1$. De første primtallene er $2, 3, 5, 7, 11$ og $13$. Det kan bevises at det finnes uendelig antall primtall. \n",
    "\n",
    "Et fundamentalt teorem i matematikken sier at alle tall kan skrives som et produkt av primtall på en unik måte. En slik faktorisering kalles *primtallsfaktorisering*. Vi kan for eksempel primtallsfaktorisere $84=2\\cdot 2\\cdot 3\\cdot 7$.\n",
    "\n",
    "`````{admonition} Eksempel: Primtallsfaktorisering\n",
    ":class: eksempel\n",
    "\n",
    "```{figure} ./bilder/primtallsfaktorisering.png\n",
    "---\n",
    "scale: 40%\n",
    "align: right\n",
    "---\n",
    "```\n",
    "\n",
    "Når vi skal primtallsfaktorisere $84$, så starter vi med å sjekke hva som er det minste primtallet vi kan dele $84$ på. Det er $2$. Etter å ha utført divisjonen ender vi opp med $42$. Så gjennomfører vi samme prosedyren til vi ender opp med $1$. Vi kan holde oversikt ved for eksempel å skrive det opp som figuren til høyre. Primtallsfaktoriseringen får vi ved å multiplisere sammen alle faktorene på høyre side.\n",
    "\n",
    "$84=2\\cdot 2\\cdot 3\\cdot 7=2^2\\cdot 3\\cdot 7$\n",
    "`````\n",
    "\n",
    "I appen under kan du enkelt utforske primtallsfaktorisering av andre tall."
   ]
  },
  {
   "cell_type": "code",
   "execution_count": 14,
   "metadata": {
    "tags": [
     "remove-input"
    ]
   },
   "outputs": [
    {
     "data": {
      "text/html": [
       "\n",
       "<meta name=viewport content=\"width=device-width,initial-scale=1\">\n",
       "<meta charset=\"utf-8\"/>\n",
       "<script src=\"https://cdn.geogebra.org/apps/deployggb.js\"></script>\n",
       "\n",
       "<script>\n",
       "var views = {'is3D': 1,'AV': 0,'SV': 0,'CV': 0,'EV2': 1,'CP': 0,'PC': 0,'DA': 0,'FI': 0,'macro': 0};\n",
       "var parameters1 = {\n",
       "   \"width\":800, \"height\":658, \n",
       "   \"bordercolor\": \"#be8322\", \n",
       "   \"showResetIcon\":true,\n",
       "   \"enableLabelDrags\":false,\n",
       "   \"enableRightClick\":false,\n",
       "   \"errorDialogsActive\":false,\n",
       "   \"useBrowserForJS\":false,\n",
       "   \"showZoomButtons\":true,\n",
       "   \"appletOnLoad\":function(api){ /* api.evalCommand('Segment((1,2),(3,4))');*/ },\n",
       "   \"showFullscreenButton\":true,  \n",
       "   \"disableAutoScale\":false,\n",
       "   \"allowUpscale\":false,\n",
       "   \"clickToLoad\":false,\n",
       "   \"appName\":\"classic\",\n",
       "   \"buttonRounding\":0.7,\n",
       "   \"buttonShadows\":false,\n",
       "   \"language\":\"nb\",\n",
       "   \"ggbBase64\":\"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\",\n",
       "   };\n",
       "var applet1 = new GGBApplet(parameters1, '5.0', views);\n",
       "var parameters2 = {\n",
       "   \"width\":1000, \"height\":658, \n",
       "   \"bordercolor\": \"#be8322\", \n",
       "   \"showResetIcon\":true,\n",
       "   \"enableLabelDrags\":false,\n",
       "   \"enableShiftDragZoom\": false,\n",
       "   \"enableRightClick\":false,\n",
       "   \"errorDialogsActive\":false,\n",
       "   \"useBrowserForJS\":false,\n",
       "   \"showZoomButtons\":false,\n",
       "   \"appletOnLoad\":function(api){ /* api.evalCommand('Segment((1,2),(3,4))');*/ },\n",
       "   \"showFullscreenButton\":true,  \n",
       "   \"disableAutoScale\":false,\n",
       "   \"allowUpscale\":false,\n",
       "   \"clickToLoad\":false,\n",
       "   \"appName\":\"classic\",\n",
       "   \"buttonRounding\":0.7,\n",
       "   \"buttonShadows\":false,\n",
       "   \"language\":\"nb\",\n",
       "   \"ggbBase64\":\"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\",\n",
       "   };\n",
       "var applet2 = new GGBApplet(parameters2, '5.0', views);\n",
       "\n",
       "var parameters3 = {\n",
       "   \"width\":1000, \"height\":658, \n",
       "   \"bordercolor\": \"#be8322\", \n",
       "   \"showResetIcon\":true,\n",
       "   \"enableLabelDrags\":false,\n",
       "   \"enableShiftDragZoom\": false,\n",
       "   \"enableRightClick\":false,\n",
       "   \"errorDialogsActive\":false,\n",
       "   \"useBrowserForJS\":false,\n",
       "   \"showZoomButtons\":false,\n",
       "   \"appletOnLoad\":function(api){ /* api.evalCommand('Segment((1,2),(3,4))');*/ },\n",
       "   \"showFullscreenButton\":true,  \n",
       "   \"disableAutoScale\":false,\n",
       "   \"allowUpscale\":false,\n",
       "   \"clickToLoad\":false,\n",
       "   \"appName\":\"classic\",\n",
       "   \"buttonRounding\":0.7,\n",
       "   \"buttonShadows\":false,\n",
       "   \"language\":\"nb\",\n",
       "   \"ggbBase64\":\"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\",\n",
       "   };\n",
       "var applet3 = new GGBApplet(parameters3, '5.0', views);\n",
       "\n",
       "window.addEventListener(\"load\", function() {\n",
       "                    applet1.inject('applet_container1');\n",
       "                    applet2.inject('applet_container2');\n",
       "                    applet3.inject('applet_container3');\n",
       "                 });\n",
       "\n",
       "applet.setPreviewImage('data:image/gif;base64,R0lGODlhAQABAAAAADs=','https://www.geogebra.org/images/GeoGebra_loading.png','https://www.geogebra.org/images/applet_play.png');\n",
       "</script>\n",
       "\n",
       "<div id=\"applet_container1\"></div>\n"
      ],
      "text/plain": [
       "<IPython.core.display.HTML object>"
      ]
     },
     "metadata": {},
     "output_type": "display_data"
    }
   ],
   "source": [
    "%%html\n",
    "\n",
    "<meta name=viewport content=\"width=device-width,initial-scale=1\">\n",
    "<meta charset=\"utf-8\"/>\n",
    "<script src=\"https://cdn.geogebra.org/apps/deployggb.js\"></script>\n",
    "\n",
    "<script>\n",
    "var views = {'is3D': 1,'AV': 0,'SV': 0,'CV': 0,'EV2': 1,'CP': 0,'PC': 0,'DA': 0,'FI': 0,'macro': 0};\n",
    "var parameters1 = {\n",
    "   \"width\":800, \"height\":658, \n",
    "   \"bordercolor\": \"#be8322\", \n",
    "   \"showResetIcon\":true,\n",
    "   \"enableLabelDrags\":false,\n",
    "   \"enableRightClick\":false,\n",
    "   \"errorDialogsActive\":false,\n",
    "   \"useBrowserForJS\":false,\n",
    "   \"showZoomButtons\":true,\n",
    "   \"appletOnLoad\":function(api){ /* api.evalCommand('Segment((1,2),(3,4))');*/ },\n",
    "   \"showFullscreenButton\":true,  \n",
    "   \"disableAutoScale\":false,\n",
    "   \"allowUpscale\":false,\n",
    "   \"clickToLoad\":false,\n",
    "   \"appName\":\"classic\",\n",
    "   \"buttonRounding\":0.7,\n",
    "   \"buttonShadows\":false,\n",
    "   \"language\":\"nb\",\n",
    "   \"ggbBase64\":\"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\",\n",
    "   };\n",
    "var applet1 = new GGBApplet(parameters1, '5.0', views);\n",
    "var parameters2 = {\n",
    "   \"width\":1000, \"height\":658, \n",
    "   \"bordercolor\": \"#be8322\", \n",
    "   \"showResetIcon\":true,\n",
    "   \"enableLabelDrags\":false,\n",
    "   \"enableShiftDragZoom\": false,\n",
    "   \"enableRightClick\":false,\n",
    "   \"errorDialogsActive\":false,\n",
    "   \"useBrowserForJS\":false,\n",
    "   \"showZoomButtons\":false,\n",
    "   \"appletOnLoad\":function(api){ /* api.evalCommand('Segment((1,2),(3,4))');*/ },\n",
    "   \"showFullscreenButton\":true,  \n",
    "   \"disableAutoScale\":false,\n",
    "   \"allowUpscale\":false,\n",
    "   \"clickToLoad\":false,\n",
    "   \"appName\":\"classic\",\n",
    "   \"buttonRounding\":0.7,\n",
    "   \"buttonShadows\":false,\n",
    "   \"language\":\"nb\",\n",
    "   \"ggbBase64\":\"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\",\n",
    "   };\n",
    "var applet2 = new GGBApplet(parameters2, '5.0', views);\n",
    "\n",
    "var parameters3 = {\n",
    "   \"width\":1000, \"height\":658, \n",
    "   \"bordercolor\": \"#be8322\", \n",
    "   \"showResetIcon\":true,\n",
    "   \"enableLabelDrags\":false,\n",
    "   \"enableShiftDragZoom\": false,\n",
    "   \"enableRightClick\":false,\n",
    "   \"errorDialogsActive\":false,\n",
    "   \"useBrowserForJS\":false,\n",
    "   \"showZoomButtons\":false,\n",
    "   \"appletOnLoad\":function(api){ /* api.evalCommand('Segment((1,2),(3,4))');*/ },\n",
    "   \"showFullscreenButton\":true,  \n",
    "   \"disableAutoScale\":false,\n",
    "   \"allowUpscale\":false,\n",
    "   \"clickToLoad\":false,\n",
    "   \"appName\":\"classic\",\n",
    "   \"buttonRounding\":0.7,\n",
    "   \"buttonShadows\":false,\n",
    "   \"language\":\"nb\",\n",
    "   \"ggbBase64\":\"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\",\n",
    "   };\n",
    "var applet3 = new GGBApplet(parameters3, '5.0', views);\n",
    "\n",
    "window.addEventListener(\"load\", function() {\n",
    "                    applet1.inject('applet_container1');\n",
    "                    applet2.inject('applet_container2');\n",
    "                    applet3.inject('applet_container3');\n",
    "                 });\n",
    "\n",
    "applet.setPreviewImage('data:image/gif;base64,R0lGODlhAQABAAAAADs=','https://www.geogebra.org/images/GeoGebra_loading.png','https://www.geogebra.org/images/applet_play.png');\n",
    "</script>\n",
    "\n",
    "<div id=\"applet_container1\"></div>"
   ]
  },
  {
   "attachments": {},
   "cell_type": "markdown",
   "metadata": {},
   "source": [
    "Faktorisering blir et viktig redskap når vi skal arbeide med likninger, men vi kan også bruke det til å forenkle uttrykk med kvadratrøtter. Da må vi huske på følgende egenskap til kvadratrøtter $\\sqrt{a\\cdot b} = \\sqrt{a}\\cdot \\sqrt{b}$. I eksempelet viser vi det først med primtallsfaktorisering, og så med en annen faktorisering. Fordelen med primtallsfaktorisering er at det blir enklere å se hvilke faktorer som gir et kvadrat.\n",
    "\n",
    "```{admonition} Eksempel: Forenkling av kvadratrøtter\n",
    ":class: eksempel, dropdown\n",
    "\n",
    "**Med primtallsfaktorisering**\n",
    "\n",
    "$$\n",
    "\\begin{align}\n",
    "\\sqrt{250}-\\sqrt{40} &=\\sqrt{2\\cdot 5\\cdot 5\\cdot 5}-\\sqrt{2\\cdot 2\\cdot 2\\cdot 5}\\\\\n",
    "&= \\sqrt{5^2}\\cdot\\sqrt{2\\cdot 5}-\\sqrt{2^2}\\cdot\\sqrt{2\\cdot 5} \\\\\n",
    "&=5\\cdot\\sqrt{10}-2\\cdot\\sqrt{10} \\\\\n",
    "&=3\\sqrt{10}\n",
    "\\end{align}\n",
    "$$\n",
    "\n",
    "**Annen faktorisering**\n",
    "\n",
    "$$\n",
    "\\begin{align}\n",
    "\\sqrt{250}-\\sqrt{40} &=\\sqrt{25\\cdot 10}-\\sqrt{4\\cdot 10}\\\\\n",
    "&= \\sqrt{25}\\cdot\\sqrt{10}-\\sqrt{4}\\cdot\\sqrt{10} \\\\\n",
    "&=5\\cdot\\sqrt{10}-2\\cdot\\sqrt{10} \\\\\n",
    "&=3\\sqrt{10}\n",
    "\\end{align}\n",
    "$$\n",
    "\n",
    "\n",
    "```"
   ]
  },
  {
   "attachments": {},
   "cell_type": "markdown",
   "metadata": {},
   "source": [
    "## Trekke ut felles faktor\n",
    "\n",
    "Når vi skal faktorisere et algebrauttrykk er det flere ting å ta hensyn til enn ved primtallsfaktorisering. Prinsippene bak primtallsfaktorisering kan imidlertid hjelpe oss med første steg i faktorisering av algebraiske uttrykk.\n",
    "\n",
    "Vi kan faktorisere et uttrykk med et ledd på tilsvarende måte som med primtallsfaktorisering.\n",
    "\n",
    "$84x^3y^2=2\\cdot 2\\cdot 3\\cdot 7\\cdot x\\cdot x\\cdot x\\cdot y\\cdot y$\n",
    "\n",
    "Dersom uttrykket inneholder mer enn et ledd må vi lete etter felles faktorer i uttrykket som kan trekkes utenfor en parentes. Det vi gjør da er det motsatte av å multiplisere ut parenteser. Det ser vi på i eksempelet under.\n",
    "\n",
    "```{admonition} Eksempel: Felles faktor 1\n",
    ":class: eksempel\n",
    "\n",
    "$12-4x={\\color{red} 2\\cdot 2} \\cdot 3-{\\color{red} 2\\cdot 2} \\cdot x ={\\color{red} 2\\cdot 2}(3-x)=4(3-x)$\n",
    "\n",
    "Her starter vi med fullstendig faktorisering av hvert ledd i uttrykket. Så ser vi etter hva som er felles i leddene. Det er $2\\cdot 2$. Faktorene som er felles trekker vi utenfor en parentes. Det som står igjen etter at felles faktor er trukket ut blir stående igjen inne i parentesen.\n",
    "\n",
    "Det er ikke nødvendig å starte med å faktorisere hvert ledd. Vi kan skrive direkte at $12-4x=4(3-x)$. Fordelen med å faktorisere hvert ledd er at det blir lettere å se hva som er felles og hva som står igjen (spesielt om uttrykkene blir større og mer sammensatte).\n",
    "\n",
    "For å kontrollere om faktoriseringen stemmer kan vi multiplisere ut igjen parentesen.\n",
    "\n",
    "$4(3-x)=4\\cdot3+4\\cdot(-x)=12-4x$\n",
    "```\n",
    "\n",
    "```{admonition} Eksempel: Felles faktor 2\n",
    ":class: eksempel\n",
    "$\n",
    "\\begin{align}\n",
    "28x^2y+14xy&=2\\cdot {\\color{red} 2\\cdot 7\\cdot x}\\cdot x\\cdot {\\color{red}y}+{\\color{red}2\\cdot 7\\cdot x\\cdot y}{\\color{blue}\\cdot 1} \\\\\n",
    "&={\\color{red}2\\cdot 7\\cdot x\\cdot y}(2x+{\\color{blue}1}) \\\\\n",
    "&=14xy(2x+1)\n",
    "\\end{align}\n",
    "$\n",
    "\n",
    "Her ser vi et eksempel på at hele det andre leddet er en del av den felles faktoren. Da er det lett å tenke at vi står igjen med $0$ når felles faktor er trukket ut. Det blir imidlertid feil. Grunnen ser vi enklest dersom vi prøver å mutliplisere tilbake inn i parentesen. Da må det stå $1$ der for å komme tilbake til det opprinnelige uttrykket. Over har vi tydeliggjort dette ved å skrive opp $\\cdot\\color{blue} 1$ i faktoriseringen av det andre leddet. Vi kan alltid multiplisere med $1$ uten å endre uttrykket. Derfor blir vi også stående igjen med $1$ inne i parentesen.\n",
    "```\n",
    "\n",
    "Under kan du øve på å trekke ut felles faktor fra uttrykk."
   ]
  },
  {
   "cell_type": "code",
   "execution_count": 6,
   "metadata": {
    "tags": [
     "remove-input"
    ]
   },
   "outputs": [
    {
     "data": {
      "text/html": [
       "\n",
       "<div id=\"applet_container2\"></div>\n"
      ],
      "text/plain": [
       "<IPython.core.display.HTML object>"
      ]
     },
     "metadata": {},
     "output_type": "display_data"
    }
   ],
   "source": [
    "%%html\n",
    "\n",
    "<div id=\"applet_container2\"></div>"
   ]
  },
  {
   "attachments": {},
   "cell_type": "markdown",
   "metadata": {},
   "source": [
    "Vi kan også ha felles faktor som et parentesuttrykk. Det kan du øve på her."
   ]
  },
  {
   "cell_type": "code",
   "execution_count": 12,
   "metadata": {
    "tags": [
     "remove-input"
    ]
   },
   "outputs": [
    {
     "data": {
      "text/html": [
       "\n",
       "<div id=\"applet_container3\"></div>\n"
      ],
      "text/plain": [
       "<IPython.core.display.HTML object>"
      ]
     },
     "metadata": {},
     "output_type": "display_data"
    }
   ],
   "source": [
    "%%html\n",
    "\n",
    "<div id=\"applet_container3\"></div>"
   ]
  },
  {
   "attachments": {},
   "cell_type": "markdown",
   "metadata": {},
   "source": [
    "## Faktorisering med kvadratsetningene\n",
    "\n",
    "Etter at vi har trukket ut eventuelle felles faktorer må vi sjekke om faktorer som ikke er lineære kan faktoriseres videre. Det første vi sjekker er om eventuelle andregradsuttrykk er på en form som gjør at vi kan bruke kvadratsetningene baklengs."
   ]
  }
 ],
 "metadata": {
  "kernelspec": {
   "display_name": "Python37",
   "language": "python",
   "name": "python3"
  },
  "language_info": {
   "codemirror_mode": {
    "name": "ipython",
    "version": 3
   },
   "file_extension": ".py",
   "mimetype": "text/x-python",
   "name": "python",
   "nbconvert_exporter": "python",
   "pygments_lexer": "ipython3",
   "version": "3.7.15 (default, Nov 24 2022, 18:44:54) [MSC v.1916 64 bit (AMD64)]"
  },
  "orig_nbformat": 4,
  "vscode": {
   "interpreter": {
    "hash": "6fbbe1ff1dbaaf20226355198eb8fd50bda93b517708eea3a794f0f516b66309"
   }
  }
 },
 "nbformat": 4,
 "nbformat_minor": 2
}

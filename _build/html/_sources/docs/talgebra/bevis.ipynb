{
 "cells": [
  {
   "attachments": {},
   "cell_type": "markdown",
   "metadata": {},
   "source": [
    "# Bevis\n",
    "\n",
    "Matematikk er det vi kaller for en aksiomatisk vitenskap. Det betyr at all matematikk baserer seg på noen grunnleggende askiomer (påstander/prinsipp). All annen matematikk kan via bevisrekker føres tilbake til disse aksiomene. Vi kommer ikke til å bygge opp matematikken fra disse aksiomene her, men vi skal vise hvordan vi kan utføre noen enkle matematiske bevis. Det finnes flere matematiske bevisteknikker. Her kommer vi til å se på direkte bevis, men vi nevner også det som kalles indirekte bevis.\n",
    "\n",
    "## Direkte bevis\n",
    "\n",
    "```{admonition} Direkte bevis\n",
    "Et direkte bevis er en rekke av implikasjoner. Vi kan si at hvis vi vi vet at A er sant, så kan vi vise at B er sant som kan vise at C er sant.\n",
    "\n",
    "$A\\Rightarrow B \\Rightarrow C$\n",
    "\n",
    "Hvis vi vet at A stemmer, så har vi altså vist at også C må stemme.\n",
    "```\n",
    "\n",
    "```{admonition} Eksempel: Sum av oddetall\n",
    ":class: eksempel\n",
    "Vi skal bevise at summen av to oddetall er et partall. Fra før vet vi at alle partall kan skrives på formen $2n+1, n\\in\\matbf{Z}$. De to tallene våre kan altså skrives som\n",
    "\n",
    "$\\text{Tall 1: } 2n+1$\n",
    "$\\text{Tall 2: } 2m + 1$\n",
    "\n",
    "der $m, n \\in mathbf{Z}$.\n",
    "\n",
    "Det gir at tall 1 + tall 2 $= 2n+1+2m+1=2n+2m+2=2\\underbrace{(n+m+1)}_{k}=2k$\n",
    "\n",
    "Siden $n$, $m$ og $1$ er hele tall, så må også $k=n+m+1$ være et heltall. Vi ser at summen blir på formen $2k, k\\in\\mathbf{Z}$ som er formen for et partall.\n",
    "\n",
    "*Det er viktig å merke seg at vi her har en rekke med implikasjoner fra start til slutt. Vi har derfor bevist at summen av to oddetall er et partall. Siden det er implikasjoner har vi imidlertid ikke bevist noe den andre veien. Fra dette beviset kan vi derfor ikke si at alle partall kan skrives som summen av to oddetall (men det kan også bevises).*\n",
    "```\n",
    "\n",
    "```{admoniton} Eksempel: Sum av tre etterfølgende tall\n",
    ":class: eksempel\n",
    "Vi skal bevise at summen av tre etterfølgende tall alltid kan deles på tre. Det kan gjøres på mange måter (f.eks. ved å tegne), men vi velger her å gjøre det ved algebra. Tre etterfølgende tall kan vi skrive som $n-1$, $n$ og $n+1$ der $n\\in\\mathbf{Z}$.\n",
    "\n",
    "$(n-1)+n+(n+1)=n-1+n+n+1=3n$\n",
    "\n",
    "$3n$ kan deles på tre, så da har vi fullført beviset.\n",
    "```\n",
    "\n",
    "## Indirekte bevis\n",
    "Indirekte bevis kan være vanskeligere å forstå da de snur det meste opp ned i forhold til hva vi er vant med.\n",
    "\n",
    "```{admonition} Indirekte bevis\n",
    "Indirekte bevis følger også av en rekke implikasjoner. Vi starter imidlertid med å prøve og bevise det motsatte av det vi ønsker. Dersom vi ønsker å bevise påstand A, så starter vi med å prøve og bevise det motsatte av A. Hvis vi da ender opp med noe vi vet at ikke er sant, så har vi bevist at A må være sant.\n",
    "```\n",
    "\n",
    "Et kjent indirekte bevis er Euklid (gresk matematiker omtrent 300 f.Kr.) sitt bevis for at det finnes uendelig mange primtall.\n",
    "\n",
    "```{admonition} Eksempel: uendelig mange primtall\n",
    ":class: eksempel\n",
    "\n",
    "Vi ønsker å bevise at det finnes uendelig mange primtall. Vi starter imidlertid med å anta det motsatte og sier at det største primtallet er $p$.\n",
    "\n",
    "Så lager vi oss et tall $n$ som er produktet av alle primtallene pluss 1.\n",
    "\n",
    "$n = 2\\cdot 3\\cdot 5\\cdot 7 \\cdot \\ldots \\cdot p +1$\n",
    "\n",
    "Siden $n$ er større enn $p$, så må $n$ være et sammensatt tall. Det vil si at $n$ har en primtallsfaktor $q>1$ som er mindre enn $p$. Siden $n$ inneholder et produkt av alle primtall må $q$ være en del av det venstre leddet i $n$. For at $n$ skal kunne deles på $q$ må $q$ også være en faktor i det andre leddet til $n$. Det vil si at $q$ må være en faktor i $1$. Men det er umulig siden $q>1$. Antakelsen vår om at det finnes et største primtall $p$ fører derfor til noe som ikke stemmer.\n",
    "\n",
    "Det må derfor finnes uendelig mange primtall.\n",
    "```"
   ]
  }
 ],
 "metadata": {
  "kernelspec": {
   "display_name": "Python37",
   "language": "python",
   "name": "python3"
  },
  "language_info": {
   "name": "python",
   "version": "3.7.15 (default, Nov 24 2022, 18:44:54) [MSC v.1916 64 bit (AMD64)]"
  },
  "orig_nbformat": 4,
  "vscode": {
   "interpreter": {
    "hash": "6fbbe1ff1dbaaf20226355198eb8fd50bda93b517708eea3a794f0f516b66309"
   }
  }
 },
 "nbformat": 4,
 "nbformat_minor": 2
}

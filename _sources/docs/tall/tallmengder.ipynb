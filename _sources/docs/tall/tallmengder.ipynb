{
 "cells": [
  {
   "attachments": {},
   "cell_type": "markdown",
   "metadata": {},
   "source": [
    "# Tallmengder\n",
    "\n",
    "I matematikk arbeider vi mye med tall og ofte vil vi være interessert i å se på ulike grupper av tall. Vi starter derfor med å definere noen viktige tallmengder som vi kommer til å arbeide med.\n",
    "\n",
    "De første tallene vi lærer oss er de naturlige tallene, eller telletallene. Videre kan vi utvide dem ved å legge til negative heltall. Det neste naturlige steget er å lage brøker, såkalte rasjonale tall. Når vi i tillegg tar med alle de irrasjonale tallene som ikke kan skrives som brøker, så har vi fylt opp hele tallinja av reelle tall.\n",
    "\n",
    "`````{admonition} Noen viktige tallmengder\n",
    "\n",
    " * $\\mathbf{N}$: Naturlige tall - Hele positive tall - $1,2,3,\\ldots$\n",
    " * $\\mathbf{Z}$: Hele tall - Alle hele tall - $\\ldots, -2, -1, 0, 1, 2,\\ldots$\n",
    " * $\\mathbf{Q}$: Rasjonale tall - Alle tall som kan skrives som brøker av hele tall\n",
    " * Irrasjonale tall - Alle tall som ikke er rasjonale - $\\pi, \\sqrt{2}$\n",
    " * $\\mathbf{R}$: Reelle tall - Alle tall på tallinja - Rasjonale + irrasjonale\n",
    "\n",
    "Vi ser at rasjonale tall er en delmengde av de reelle tallene, de hele tallene er en delmengde av de rasjonale og at de naturlige tallene er en delmengde av de hele tallene. Dette kan vi illustrere med figuren under.\n",
    "\n",
    "```{figure} ./bilder/tallmengder.png\n",
    "---\n",
    "scale: 30%\n",
    "---\n",
    "```\n",
    "`````\n",
    "\n",
    "For å skrive at et tall hører til i en mengde bruker vi elementtegnet $\\in$. Vi kan for eksempel skrive at $-2\\in \\mathbf{Z}$ som betyr at $-2$ hører til i de hele tallene. Dersom vi ønsker å skrive at et tall ikke er i en gitt mengde kan vi bruke $\\notin$.\n",
    "\n",
    "## Lister og intervaller\n",
    "\n",
    "Ofte vil svarene på oppgaver være konkrete lister av tall, eller intervaller på tallinjene. Da trenger vi symboler for å spesifisere disse.\n",
    "\n",
    " * {} - brukes for lister av tall\n",
    " * [] - brukes for intervaller der endepunkt er med\n",
    " * $\\langle \\rangle$ - brukes for intervaller der endepunktene ikke er med\n",
    " * $\\setminus$ - bortsett fra\n",
    " * $\\cup$ - kalles union i matematikken og betyr omtrent det samme som *og*\n",
    "\n",
    "```{admonition} Eksempel: Lister og intervaller\n",
    ":class: eksempel\n",
    "\n",
    " * $x\\in \\{2,4,6\\}$ - $x$ er i mengden av tallene 2, 4 og 6\n",
    " * $x\\in [2,6]$ - $x$ er fra og med 2 til og med 6\n",
    " * $x\\in \\langle 2,6\\rangle$ - $x$ er mellom 2 og 6\n",
    " * $x\\in [2, 4\\rangle\\cup[6,\\rightarrow\\rangle$ - $x$ er fra og med 2, til men ikke med 4 og fra og med 6 til uendelig\n",
    " * $x\\in \\mathbf{R} \\setminus \\mathbf{Z}$ - $x$ er et reelt tall, men ikke et heltall\n",
    "\n",
    "```\n",
    "\n",
    "## Bruk av tallmengder\n",
    "\n",
    "Vi kommer til å bruke symbolene over når vi skal skrive svar på likninger og ulikheter, når vi skal spesifisere intervaller for definisjonsmengde og verdimengde for funksjoner og ved definisjon av ulike sammenhenger og mønster. Alt det her kommer vi tilbake til senere, men vi gir et kort eksempel her.\n",
    "\n",
    "```{admonition} Partall og oddetall\n",
    ":class: eksempel\n",
    "\n",
    "Partall er tall som kan skrives på formen $2n$ der $n\\in\\mathbf{N}$.\n",
    "\n",
    "Oddetall er tall som kan skrives på formen $2n-1$ der $n\\in\\mathbf{N}$.\n",
    "\n",
    "Om vi ønsker å ta med de negative par- og oddetallene, så kan vi bytte ut $\\mathbf{N}$ med $\\mathbf{Z}$.\n",
    "```"
   ]
  }
 ],
 "metadata": {
  "kernelspec": {
   "display_name": "Python37",
   "language": "python",
   "name": "python3"
  },
  "language_info": {
   "name": "python",
   "version": "3.7.15 (default, Nov 24 2022, 18:44:54) [MSC v.1916 64 bit (AMD64)]"
  },
  "orig_nbformat": 4,
  "vscode": {
   "interpreter": {
    "hash": "6fbbe1ff1dbaaf20226355198eb8fd50bda93b517708eea3a794f0f516b66309"
   }
  }
 },
 "nbformat": 4,
 "nbformat_minor": 2
}

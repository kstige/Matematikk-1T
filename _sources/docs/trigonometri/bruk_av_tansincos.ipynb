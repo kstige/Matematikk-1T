{
 "cells": [
  {
   "attachments": {},
   "cell_type": "markdown",
   "metadata": {},
   "source": [
    "# Bruk av tangens, sinus og cosinus\n",
    "\n",
    "`````{admonition} Eksempel: En kjent side og en kjent vinkel\n",
    ":class: eksempel\n",
    "Vi skal finne de to ukjente sidene i trekanten under.\n",
    "```{figure} ./bilder/eksempeltrig.png\n",
    "---\n",
    "scale: 50%\n",
    "---\n",
    "```\n",
    "Vi starter med å se at vi kjenner en vinkel og den hosliggende kateten. Hvis vi settet opp de tre trigonometriske forholdene, så får vi:\n",
    "\n",
    "$\n",
    "\\begin{align}\n",
    "\\tan (26,6^{\\circ}) &= \\frac{\\text{motstående katet}}{4} \\\\\n",
    "\\sin (26,6^{\\circ}) &= \\frac{\\text{motstående katet}}{\\text{hypotenus}} \\\\\n",
    "\\cos (26,6^{\\circ}) &= \\frac{4}{\\text{hypotenus}}\n",
    "\\end{align}\n",
    "$\n",
    "\n",
    "Vi ser da at vi kan bruke tangens for å finne motstående katet og cosinus for å finne hypotenus.\n",
    "\n",
    "Fra likninga for tangens får vi\n",
    "\n",
    "$\\text{motstående katet} = 4\\cdot \\tan (26,6^{\\circ}) \\approx 2$\n",
    "\n",
    "Fra likninga for cosinus får vi\n",
    "\n",
    "$\\text{hypotenus} = \\frac{4}{\\cos (26,6^{\\circ}) } \\approx 4,5$\n",
    "\n",
    "`````"
   ]
  },
  {
   "attachments": {},
   "cell_type": "markdown",
   "metadata": {},
   "source": [
    "`````{admonition} Eksempel: To kjente sider\n",
    ":class: eksempel\n",
    "```{figure} ./bilder/eksempeltrig2.png\n",
    "---\n",
    "scale: 50%\n",
    "---\n",
    "```\n",
    "\n",
    "Vi ser at vi kjenner motstående katet til $v$ og hypotenusen. Da kan vi bruke sinus.\n",
    "\n",
    "$\n",
    "\\begin{align}\n",
    "\\sin v &= \\frac{\\text{motstående katet}}{\\text{hypotenus}}=\\frac{2,8}{4} \\\\\n",
    "v &=\\sin^{-1}\\frac{2,8}{4}\\approx 44,4^{\\circ}\n",
    "\\end{align}\n",
    "$\n",
    "`````"
   ]
  },
  {
   "attachments": {},
   "cell_type": "markdown",
   "metadata": {},
   "source": [
    "`````{admonition} Eksempel: Bevise eksakt verdi\n",
    ":class: eksempel\n",
    "\n",
    "Vi skal bruke en 30-60-90 trekant og Pytagoras til å bevise de eksakte verdiene for sinus, cosinus og tangens til en vinkel på $30^{\\circ}$.\n",
    "\n",
    "```{figure} ./bilder/beviseksakt30.png\n",
    "---\n",
    "scale: 50%\n",
    "---\n",
    "```\n",
    "\n",
    "Vi vet at den korteste kateten er halvparten så lang som hypotenusen i en 30-60-90 trekant. Det betyr at:\n",
    "\n",
    "$\\sin 30^{\\circ} = \\frac{BC}{AC}=\\frac{BC}{2BC}=\\frac{1}{2}$\n",
    "\n",
    "Pytagoras sier at AB^2+BC^2=AC^2 som gir:\n",
    "\n",
    "$\n",
    "\\begin{align}\n",
    "AB = \\sqrt{AC^2-BC^2} &= \\sqrt{(2BC)^2-BC^2}  \\\\\n",
    "&= \\sqrt{3BC^2}=\\sqrt{3}BC\n",
    "\\end{align}\n",
    "$\n",
    "\n",
    "Da blir:\n",
    "\n",
    "$\n",
    "\\cos 30^{\\circ}=\\frac{AB}{AC}=\\frac{\\sqrt{3}BC}{2BC}=\\frac{\\sqrt{3}}{2}\n",
    "$\n",
    "\n",
    "Til slutt får vi:\n",
    "\n",
    "$\n",
    "\\tan 30^{\\circ}=\\frac{BC}{AB}=\\frac{BC}{\\sqrt{3}BC}=\\frac{1}{\\sqrt{3}}\n",
    "$\n",
    "`````"
   ]
  }
 ],
 "metadata": {
  "kernelspec": {
   "display_name": "Python37",
   "language": "python",
   "name": "python3"
  },
  "language_info": {
   "name": "python",
   "version": "3.7.15 (default, Nov 24 2022, 18:44:54) [MSC v.1916 64 bit (AMD64)]"
  },
  "orig_nbformat": 4,
  "vscode": {
   "interpreter": {
    "hash": "6fbbe1ff1dbaaf20226355198eb8fd50bda93b517708eea3a794f0f516b66309"
   }
  }
 },
 "nbformat": 4,
 "nbformat_minor": 2
}

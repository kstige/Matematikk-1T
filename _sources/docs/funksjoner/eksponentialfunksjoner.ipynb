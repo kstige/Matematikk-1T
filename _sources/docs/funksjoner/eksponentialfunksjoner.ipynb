{
 "cells": [
  {
   "attachments": {},
   "cell_type": "markdown",
   "metadata": {},
   "source": [
    "# Eksponentialfunksjoner\n",
    "\n",
    "En funksjonstype som kan likne litt på potensfunksjoner er eksponentialfunksjoner. Det er imidlertid viktig å kunne skille de fra hverandre. Der variabelen $x$ i potensfunksjoner er grunntallet i en potens, vil variabelen i en eksponentialfunksjon befinne seg i eksponenten.\n",
    "\n",
    "```{admonition} Definisjon av potensfunksjoner\n",
    ":class: def\n",
    "Eksponentialfunksjoner kan skrives på formen $f(x)=a\\cdot b^x$, der $b>0$.\n",
    "\n",
    "Vi ser at $a$ er funksjonsverdien når $x=0$, mens $b$ er en vekstfaktor. Eksponentialfunksjonen viser ern utvikling som endrer seg med en fast prosentstørrelse fo hver periode. Vi sier at funksjonen $f$ endrer seg eksponentielt.\n",
    "```\n",
    "\n",
    "Vekstfaktor er et begrep vi kjenner fra prosentregning.\n",
    "\n",
    "```{admonition} Definisjon av vekstfaktor\n",
    ":class: def\n",
    "Dersom en størrelse øker eller minker med $p$ % vil vekstfaktoren være gitt ved $1\\pm \\frac{p}{100}$ der $+$ er ved økning og $-$ er ved nedang.\n",
    "\n",
    "Når vi kjenner vekstfaktoren kan vi finne ny verdi ved\n",
    "\n",
    "$$\n",
    "\\begin{align*} \n",
    "\\! N &= \\qquad G && \\cdot & V \\\\ \n",
    "\\textrm{ny verdi} &= \\textrm{gammel verdi} && \\cdot &\\textrm{vekstfaktor}\n",
    "\\end{align*}\n",
    "$$\n",
    "\n",
    "Når en størrelse endrer seg med samme prosent over flere perioder (f.eks. år) vil vi kunne regne ut ny verdi fra gammel verdi med:\n",
    "\n",
    "$$\n",
    "N = G\\cdot V^{\\text{antall perioder}}\n",
    "$$\n",
    "\n",
    "```\n",
    "\n"
   ]
  }
 ],
 "metadata": {
  "kernelspec": {
   "display_name": "Python37",
   "language": "python",
   "name": "python3"
  },
  "language_info": {
   "name": "python",
   "version": "3.7.15 (default, Nov 24 2022, 18:44:54) [MSC v.1916 64 bit (AMD64)]"
  },
  "orig_nbformat": 4,
  "vscode": {
   "interpreter": {
    "hash": "6fbbe1ff1dbaaf20226355198eb8fd50bda93b517708eea3a794f0f516b66309"
   }
  }
 },
 "nbformat": 4,
 "nbformat_minor": 2
}

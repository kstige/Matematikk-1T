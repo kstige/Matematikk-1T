{
 "cells": [
  {
   "attachments": {},
   "cell_type": "markdown",
   "metadata": {},
   "source": [
    "# Oppgaver om rasjonale funksjoner og asymptoter\n",
    "\n",
    "```{admonition} Oppgave 1: Finn asymptotene\n",
    ":class: oppgave\n",
    "\n",
    "**1)** Kan du finne den loddrette asymptoten kun ved å se på funksjonsuttrykket?\n",
    "\n",
    "**2)** Kan du finne den vannrette asymptoten kun ved å se på funksjonsuttrykket?\n",
    "\n",
    "Huk av for \"Vis graf\" eller \"Vis asymptoter\" om du trenger hjelp.\n",
    "```"
   ]
  },
  {
   "cell_type": "code",
   "execution_count": 23,
   "metadata": {
    "tags": [
     "remove-input"
    ]
   },
   "outputs": [
    {
     "data": {
      "text/html": [
       "\n",
       "<!DOCTYPE html>\n",
       "<html>\n",
       "<head>\n",
       "<meta name=viewport content=\"width=device-width,initial-scale=1\">\n",
       "<meta charset=\"utf-8\"/>\n",
       "<script src=\"https://cdn.geogebra.org/apps/deployggb.js\"></script>\n",
       "\n",
       "</head>\n",
       "<body>\n",
       "\n",
       "<script>\n",
       "var views = {'is3D': 1,'AV': 0,'SV': 0,'CV': 0,'EV2': 1,'CP': 0,'PC': 0,'DA': 0,'FI': 0,'macro': 0};\n",
       "var parameters1 = {\"id\": \"app1\",\"width\":1550,\"height\":800,\"showMenuBar\":false, \"bordercolor\": \"#be8322\",\"showAlgebraInput\":false,\"showToolBar\":false,\"customToolBar\":\"0 73 62 | 1 501 67 , 5 19 , 72 75 76 | 2 15 45 , 18 65 , 7 37 | 4 3 8 9 , 13 44 , 58 , 47 | 16 51 64 , 70 | 10 34 53 11 , 24  20 22 , 21 23 | 55 56 57 , 12 | 36 46 , 38 49  50 , 71  14  68 | 30 29 54 32 31 33 | 25 17 26 60 52 61 | 40 41 42 , 27 28 35 , 6\",\"showToolBarHelp\":false,\"showResetIcon\":true,\"enableLabelDrags\":false,\"enableShiftDragZoom\":true,\"enableRightClick\":false,\"errorDialogsActive\":false,\"useBrowserForJS\":false,\"allowStyleBar\":false,\"preventFocus\":false,\"showZoomButtons\":true,\"capturingThreshold\":3,\"appletOnLoad\":function(api){ /* api.evalCommand('Segment((1,2),(3,4))');*/ },\"showFullscreenButton\":true,\"scale\":1,\"disableAutoScale\":false,\"allowUpscale\":false,\"clickToLoad\":false,\"appName\":\"classic\",\"buttonRounding\":0.7,\"buttonShadows\":false,\"language\":\"nb\",\"ggbBase64\":\"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\"};\n",
       "var applet1 = new GGBApplet(parameters1, '5.0', views);\n",
       "var parameters2 = {\"id\": \"app1\",\"width\":1550,\"height\":800,\"showMenuBar\":false, \"bordercolor\": \"#be8322\",\"showAlgebraInput\":false,\"showToolBar\":false,\"customToolBar\":\"0 73 62 | 1 501 67 , 5 19 , 72 75 76 | 2 15 45 , 18 65 , 7 37 | 4 3 8 9 , 13 44 , 58 , 47 | 16 51 64 , 70 | 10 34 53 11 , 24  20 22 , 21 23 | 55 56 57 , 12 | 36 46 , 38 49  50 , 71  14  68 | 30 29 54 32 31 33 | 25 17 26 60 52 61 | 40 41 42 , 27 28 35 , 6\",\"showToolBarHelp\":false,\"showResetIcon\":true,\"enableLabelDrags\":false,\"enableShiftDragZoom\":true,\"enableRightClick\":false,\"errorDialogsActive\":false,\"useBrowserForJS\":false,\"allowStyleBar\":false,\"preventFocus\":false,\"showZoomButtons\":true,\"capturingThreshold\":3,\"appletOnLoad\":function(api){ /* api.evalCommand('Segment((1,2),(3,4))');*/ },\"showFullscreenButton\":true,\"scale\":1,\"disableAutoScale\":false,\"allowUpscale\":false,\"clickToLoad\":false,\"appName\":\"classic\",\"buttonRounding\":0.7,\"buttonShadows\":false,\"language\":\"nb\",\"ggbBase64\":\"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\"};\n",
       "var applet2 = new GGBApplet(parameters2, '5.0', views);\n",
       "\n",
       "window.addEventListener(\"load\", function() {\n",
       "                    applet1.inject('applet_container1');\n",
       "                    applet2.inject('applet_container2');\n",
       "                 });\n",
       "\n",
       "applet.setPreviewImage('data:image/gif;base64,R0lGODlhAQABAAAAADs=','https://www.geogebra.org/images/GeoGebra_loading.png','https://www.geogebra.org/images/applet_play.png');\n",
       "</script>\n",
       "\n",
       "</body>\n",
       "</html>\n",
       "\n"
      ],
      "text/plain": [
       "<IPython.core.display.HTML object>"
      ]
     },
     "metadata": {},
     "output_type": "display_data"
    }
   ],
   "source": [
    "%%html\n",
    "\n",
    "<!DOCTYPE html>\n",
    "<html>\n",
    "<head>\n",
    "<meta name=viewport content=\"width=device-width,initial-scale=1\">\n",
    "<meta charset=\"utf-8\"/>\n",
    "<script src=\"https://cdn.geogebra.org/apps/deployggb.js\"></script>\n",
    "\n",
    "</head>\n",
    "<body>\n",
    "\n",
    "<script>\n",
    "var views = {'is3D': 1,'AV': 0,'SV': 0,'CV': 0,'EV2': 1,'CP': 0,'PC': 0,'DA': 0,'FI': 0,'macro': 0};\n",
    "var parameters1 = {\"id\": \"app1\",\"width\":1550,\"height\":800,\"showMenuBar\":false, \"bordercolor\": \"#be8322\",\"showAlgebraInput\":false,\"showToolBar\":false,\"customToolBar\":\"0 73 62 | 1 501 67 , 5 19 , 72 75 76 | 2 15 45 , 18 65 , 7 37 | 4 3 8 9 , 13 44 , 58 , 47 | 16 51 64 , 70 | 10 34 53 11 , 24  20 22 , 21 23 | 55 56 57 , 12 | 36 46 , 38 49  50 , 71  14  68 | 30 29 54 32 31 33 | 25 17 26 60 52 61 | 40 41 42 , 27 28 35 , 6\",\"showToolBarHelp\":false,\"showResetIcon\":true,\"enableLabelDrags\":false,\"enableShiftDragZoom\":true,\"enableRightClick\":false,\"errorDialogsActive\":false,\"useBrowserForJS\":false,\"allowStyleBar\":false,\"preventFocus\":false,\"showZoomButtons\":true,\"capturingThreshold\":3,\"appletOnLoad\":function(api){ /* api.evalCommand('Segment((1,2),(3,4))');*/ },\"showFullscreenButton\":true,\"scale\":1,\"disableAutoScale\":false,\"allowUpscale\":false,\"clickToLoad\":false,\"appName\":\"classic\",\"buttonRounding\":0.7,\"buttonShadows\":false,\"language\":\"nb\",\"ggbBase64\":\"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\"};\n",
    "var applet1 = new GGBApplet(parameters1, '5.0', views);\n",
    "var parameters2 = {\"id\": \"app1\",\"width\":1550,\"height\":800,\"showMenuBar\":false, \"bordercolor\": \"#be8322\",\"showAlgebraInput\":false,\"showToolBar\":false,\"customToolBar\":\"0 73 62 | 1 501 67 , 5 19 , 72 75 76 | 2 15 45 , 18 65 , 7 37 | 4 3 8 9 , 13 44 , 58 , 47 | 16 51 64 , 70 | 10 34 53 11 , 24  20 22 , 21 23 | 55 56 57 , 12 | 36 46 , 38 49  50 , 71  14  68 | 30 29 54 32 31 33 | 25 17 26 60 52 61 | 40 41 42 , 27 28 35 , 6\",\"showToolBarHelp\":false,\"showResetIcon\":true,\"enableLabelDrags\":false,\"enableShiftDragZoom\":true,\"enableRightClick\":false,\"errorDialogsActive\":false,\"useBrowserForJS\":false,\"allowStyleBar\":false,\"preventFocus\":false,\"showZoomButtons\":true,\"capturingThreshold\":3,\"appletOnLoad\":function(api){ /* api.evalCommand('Segment((1,2),(3,4))');*/ },\"showFullscreenButton\":true,\"scale\":1,\"disableAutoScale\":false,\"allowUpscale\":false,\"clickToLoad\":false,\"appName\":\"classic\",\"buttonRounding\":0.7,\"buttonShadows\":false,\"language\":\"nb\",\"ggbBase64\":\"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\"};\n",
    "var applet2 = new GGBApplet(parameters2, '5.0', views);\n",
    "\n",
    "window.addEventListener(\"load\", function() {\n",
    "                    applet1.inject('applet_container1');\n",
    "                    applet2.inject('applet_container2');\n",
    "                 });\n",
    "\n",
    "applet.setPreviewImage('data:image/gif;base64,R0lGODlhAQABAAAAADs=','https://www.geogebra.org/images/GeoGebra_loading.png','https://www.geogebra.org/images/applet_play.png');\n",
    "</script>\n",
    "\n",
    "</body>\n",
    "</html>\n",
    "\n"
   ]
  },
  {
   "cell_type": "code",
   "execution_count": 18,
   "metadata": {
    "tags": [
     "remove-input"
    ]
   },
   "outputs": [
    {
     "data": {
      "text/html": [
       "\n",
       "<div id=\"applet_container1\"></div>\n"
      ],
      "text/plain": [
       "<IPython.core.display.HTML object>"
      ]
     },
     "metadata": {},
     "output_type": "display_data"
    }
   ],
   "source": [
    "%%html\n",
    "\n",
    "<div id=\"applet_container1\"></div>"
   ]
  },
  {
   "attachments": {},
   "cell_type": "markdown",
   "metadata": {},
   "source": [
    "```{admonition} Oppgave 2: Finn koeffisientene\n",
    ":class: oppgave\n",
    "Endre på koeffisienten $a$, $b$, $c$ og $d$ for å se hvordan den rasjonale funksjonen $f(x)=\\frac{ax+b}{cx+d}$ endrer seg.\n",
    "\n",
    "Prøv å svare på følgende oppgaver:\n",
    "\n",
    " * Kan du få den loddrette asymptoten til å bli $x=2$ på forskjellige måter?\n",
    " * Kan du finne en funksjon som har asymptoter $x=1$ og $y=2$?\n",
    " * Hvordan kan du få loddrett asymptote lik $x=0$?\n",
    " * Kan du få vannrett asymptote $y=0$? Hvorfor/hvorfor ikke?\n",
    " * Hvilke av koeffisientene påvirker den loddrette asymptoten?\n",
    " * Hvilke av koeffisientene påvirker den vannrette asymptoten?\n",
    "\n",
    "```"
   ]
  },
  {
   "cell_type": "code",
   "execution_count": 19,
   "metadata": {
    "tags": [
     "remove-input"
    ]
   },
   "outputs": [
    {
     "data": {
      "text/html": [
       "\n",
       "<div id=\"applet_container2\"></div>\n"
      ],
      "text/plain": [
       "<IPython.core.display.HTML object>"
      ]
     },
     "metadata": {},
     "output_type": "display_data"
    }
   ],
   "source": [
    "%%html\n",
    "\n",
    "<div id=\"applet_container2\"></div>"
   ]
  },
  {
   "attachments": {},
   "cell_type": "markdown",
   "metadata": {},
   "source": [
    "`````{admonition} Oppgave 3: Rasjonal funksjon med andregradsuttrykk\n",
    ":class: oppgave\n",
    "Funksjonen $f$ er gitt ved $f(x)=\\frac{x^2+4x+4}{x^2-x-2}$\n",
    "\n",
    "**a)** Finn asymptotene til funksjonen.\\\n",
    "**b)** Skisser funksjonen. \\\n",
    "**c)** Finn definisjonsmengden og verdimengden til funksjonen.\n",
    "\n",
    "````{admonition} Løsningsforslag\n",
    ":class: losning, dropdown\n",
    "**a)** Starter med å finne loddrette asymptoter. Det er nullpunktene til nevneren. Må da løse likningen:\n",
    "\n",
    "$$x^2-x-2=0$$\n",
    "\n",
    "Med abc-formelen får vi $x=-2 \\vee x=1$ som også er likningene for de loddrette asymptotene.\n",
    "\n",
    "Neste steg er å finne eventuelle vannrette asymptoter. Lar $x$ bli veldig stor. Da vil $x^2$-leddene dominere slik at: $f(x) \\approx \\frac{x^2}{x^2} = 1$\n",
    "\n",
    "Vi har altså en vannrett asymptote for $y=1$.\n",
    "\n",
    "**b)** Lager en enkel verditabell for noen verdier av funksjonen.\n",
    "\n",
    "```{figure} ./bilder/rasjonaltabell2.png\n",
    "---\n",
    "scale: 40%\n",
    "---\n",
    "```\n",
    "\n",
    "Merker av punktene og asymptotene. Det gir følgende skisse av grafen:\n",
    "```{figure} ./bilder/rasjonalfunksjon2.png\n",
    "---\n",
    "scale: 20%\n",
    "---\n",
    "```\n",
    "\n",
    "**c)** Definisjonsmengden er alle tillatte verider for $x$. Vi kan bruke alle reelle tall utenom $x=-2$ og $x=1$. Det gir\n",
    "\n",
    "$$D_f = \\mathbf{R} \\backslash \\{-2, 1\\}$$\n",
    "\n",
    "Vi ser at funksjonsgrafen krysser den vannrette asymptoten. Den er derfor med i verdimengden. Vi ser imidlertid at det er et område funksjonen ikke dekker. Dette området ligger mellom punktene $A$ og $B$ markert i figuren under.\n",
    "\n",
    "```{figure} ./bilder/rasjonalverdimengde.png\n",
    "---\n",
    "scale: 40%\n",
    "---\n",
    "```\n",
    "\n",
    "Verdimengden blir derfor $V_f = \\mathbf{R}\\backslash \\langle -1.78, 0 \\rangle$\n",
    "\n",
    "````\n",
    "\n",
    "`````"
   ]
  }
 ],
 "metadata": {
  "kernelspec": {
   "display_name": "Python37",
   "language": "python",
   "name": "python3"
  },
  "language_info": {
   "codemirror_mode": {
    "name": "ipython",
    "version": 3
   },
   "file_extension": ".py",
   "mimetype": "text/x-python",
   "name": "python",
   "nbconvert_exporter": "python",
   "pygments_lexer": "ipython3",
   "version": "3.7.15"
  },
  "orig_nbformat": 4,
  "vscode": {
   "interpreter": {
    "hash": "6fbbe1ff1dbaaf20226355198eb8fd50bda93b517708eea3a794f0f516b66309"
   }
  }
 },
 "nbformat": 4,
 "nbformat_minor": 2
}

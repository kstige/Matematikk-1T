{
 "cells": [
  {
   "attachments": {},
   "cell_type": "markdown",
   "metadata": {},
   "source": [
    "# Interaktiv oppgave om asymptoter\n",
    "\n",
    "```{admonition} Oppgave: Asymptoter\n",
    ":class: oppgave\n",
    "\n",
    "**1)** Kan du finne den loddrette asymptoten kun ved å se på funksjonsuttrykket?\n",
    "\n",
    "**2)** Kan du finne den vannrette asymptoten kun ved å se på funksjonsuttrykket?\n",
    "\n",
    "Huk av for \"Vis graf\" eller \"Vis asymptoter\" om du trenger hjelp.\n",
    "```"
   ]
  },
  {
   "cell_type": "code",
   "execution_count": 10,
   "metadata": {
    "tags": [
     "remove-input"
    ]
   },
   "outputs": [
    {
     "data": {
      "text/html": [
       "\n",
       "<!DOCTYPE html>\n",
       "<html>\n",
       "<head>\n",
       "<meta name=viewport content=\"width=device-width,initial-scale=1\">\n",
       "<meta charset=\"utf-8\"/>\n",
       "<script src=\"https://cdn.geogebra.org/apps/deployggb.js\"></script>\n",
       "\n",
       "</head>\n",
       "<body>\n",
       "<div id=\"ggbApplet\"></div>\n",
       "\n",
       "<script>\n",
       "var parameters = {\n",
       "\"id\": \"ggbApplet\",\n",
       "\"width\":1550,\n",
       "\"height\":800,\n",
       "\"showMenuBar\":false,\n",
       "\"showAlgebraInput\":false,\n",
       "\"showToolBar\":false,\n",
       "\"customToolBar\":\"0 73 62 | 1 501 67 , 5 19 , 72 75 76 | 2 15 45 , 18 65 , 7 37 | 4 3 8 9 , 13 44 , 58 , 47 | 16 51 64 , 70 | 10 34 53 11 , 24  20 22 , 21 23 | 55 56 57 , 12 | 36 46 , 38 49  50 , 71  14  68 | 30 29 54 32 31 33 | 25 17 26 60 52 61 | 40 41 42 , 27 28 35 , 6\",\n",
       "\"showToolBarHelp\":false,\n",
       "\"showResetIcon\":true,\n",
       "\"enableLabelDrags\":false,\n",
       "\"enableShiftDragZoom\":true,\n",
       "\"enableRightClick\":false,\n",
       "\"errorDialogsActive\":false,\n",
       "\"useBrowserForJS\":false,\n",
       "\"allowStyleBar\":false,\n",
       "\"preventFocus\":false,\n",
       "\"showZoomButtons\":true,\n",
       "\"capturingThreshold\":3,\n",
       "// add code here to run when the applet starts\n",
       "\"appletOnLoad\":function(api){ /* api.evalCommand('Segment((1,2),(3,4))');*/ },\n",
       "\"showFullscreenButton\":true,\n",
       "\"scale\":1,\n",
       "\"disableAutoScale\":false,\n",
       "\"allowUpscale\":false,\n",
       "\"clickToLoad\":false,\n",
       "\"appName\":\"classic\",\n",
       "\"buttonRounding\":0.7,\n",
       "\"buttonShadows\":false,\n",
       "\"language\":\"nb\",\n",
       "// use this instead of ggbBase64 to load a material from geogebra.org\n",
       "// \"material_id\":\"RHYH3UQ8\",\n",
       "// use this instead of ggbBase64 to load a .ggb file\n",
       "// \"filename\":\"myfile.ggb\",\n",
       "\"ggbBase64\":\"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\",\n",
       "};\n",
       "// is3D=is 3D applet using 3D view, AV=Algebra View, SV=Spreadsheet View, CV=CAS View, EV2=Graphics View 2, CP=Construction Protocol, PC=Probability Calculator DA=Data Analysis, FI=Function Inspector, macro=Macros\n",
       "var views = {'is3D': 1,'AV': 0,'SV': 0,'CV': 0,'EV2': 1,'CP': 0,'PC': 0,'DA': 0,'FI': 0,'macro': 0};\n",
       "var applet = new GGBApplet(parameters, '5.0', views);\n",
       "window.onload = function() {applet.inject('ggbApplet')};\n",
       "applet.setPreviewImage('data:image/gif;base64,R0lGODlhAQABAAAAADs=','https://www.geogebra.org/images/GeoGebra_loading.png','https://www.geogebra.org/images/applet_play.png');\n",
       "</script>\n",
       "</body>\n",
       "</html>\n",
       "\n"
      ],
      "text/plain": [
       "<IPython.core.display.HTML object>"
      ]
     },
     "metadata": {},
     "output_type": "display_data"
    }
   ],
   "source": [
    "%%html\n",
    "\n",
    "<!DOCTYPE html>\n",
    "<html>\n",
    "<head>\n",
    "<meta name=viewport content=\"width=device-width,initial-scale=1\">\n",
    "<meta charset=\"utf-8\"/>\n",
    "<script src=\"https://cdn.geogebra.org/apps/deployggb.js\"></script>\n",
    "\n",
    "</head>\n",
    "<body>\n",
    "<div id=\"ggbApplet\"></div>\n",
    "\n",
    "<script>\n",
    "var parameters = {\n",
    "\"id\": \"ggbApplet\",\n",
    "\"width\":1550,\n",
    "\"height\":800,\n",
    "\"showMenuBar\":false,\n",
    "\"showAlgebraInput\":false,\n",
    "\"showToolBar\":false,\n",
    "\"customToolBar\":\"0 73 62 | 1 501 67 , 5 19 , 72 75 76 | 2 15 45 , 18 65 , 7 37 | 4 3 8 9 , 13 44 , 58 , 47 | 16 51 64 , 70 | 10 34 53 11 , 24  20 22 , 21 23 | 55 56 57 , 12 | 36 46 , 38 49  50 , 71  14  68 | 30 29 54 32 31 33 | 25 17 26 60 52 61 | 40 41 42 , 27 28 35 , 6\",\n",
    "\"showToolBarHelp\":false,\n",
    "\"showResetIcon\":true,\n",
    "\"enableLabelDrags\":false,\n",
    "\"enableShiftDragZoom\":true,\n",
    "\"enableRightClick\":false,\n",
    "\"errorDialogsActive\":false,\n",
    "\"useBrowserForJS\":false,\n",
    "\"allowStyleBar\":false,\n",
    "\"preventFocus\":false,\n",
    "\"showZoomButtons\":true,\n",
    "\"capturingThreshold\":3,\n",
    "// add code here to run when the applet starts\n",
    "\"appletOnLoad\":function(api){ /* api.evalCommand('Segment((1,2),(3,4))');*/ },\n",
    "\"showFullscreenButton\":true,\n",
    "\"scale\":1,\n",
    "\"disableAutoScale\":false,\n",
    "\"allowUpscale\":false,\n",
    "\"clickToLoad\":false,\n",
    "\"appName\":\"classic\",\n",
    "\"buttonRounding\":0.7,\n",
    "\"buttonShadows\":false,\n",
    "\"language\":\"nb\",\n",
    "// use this instead of ggbBase64 to load a material from geogebra.org\n",
    "// \"material_id\":\"RHYH3UQ8\",\n",
    "// use this instead of ggbBase64 to load a .ggb file\n",
    "// \"filename\":\"myfile.ggb\",\n",
    "\"ggbBase64\":\"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\",\n",
    "};\n",
    "// is3D=is 3D applet using 3D view, AV=Algebra View, SV=Spreadsheet View, CV=CAS View, EV2=Graphics View 2, CP=Construction Protocol, PC=Probability Calculator DA=Data Analysis, FI=Function Inspector, macro=Macros\n",
    "var views = {'is3D': 1,'AV': 0,'SV': 0,'CV': 0,'EV2': 1,'CP': 0,'PC': 0,'DA': 0,'FI': 0,'macro': 0};\n",
    "var applet = new GGBApplet(parameters, '5.0', views);\n",
    "window.onload = function() {applet.inject('ggbApplet')};\n",
    "applet.setPreviewImage('data:image/gif;base64,R0lGODlhAQABAAAAADs=','https://www.geogebra.org/images/GeoGebra_loading.png','https://www.geogebra.org/images/applet_play.png');\n",
    "</script>\n",
    "</body>\n",
    "</html>\n",
    "\n"
   ]
  }
 ],
 "metadata": {
  "kernelspec": {
   "display_name": "Python37",
   "language": "python",
   "name": "python3"
  },
  "language_info": {
   "codemirror_mode": {
    "name": "ipython",
    "version": 3
   },
   "file_extension": ".py",
   "mimetype": "text/x-python",
   "name": "python",
   "nbconvert_exporter": "python",
   "pygments_lexer": "ipython3",
   "version": "3.7.15"
  },
  "orig_nbformat": 4,
  "vscode": {
   "interpreter": {
    "hash": "6fbbe1ff1dbaaf20226355198eb8fd50bda93b517708eea3a794f0f516b66309"
   }
  }
 },
 "nbformat": 4,
 "nbformat_minor": 2
}

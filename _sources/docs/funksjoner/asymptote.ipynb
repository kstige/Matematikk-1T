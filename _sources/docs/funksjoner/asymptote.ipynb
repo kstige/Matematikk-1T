{
 "cells": [
  {
   "attachments": {},
   "cell_type": "markdown",
   "metadata": {},
   "source": [
    "# Interaktiv oppgave om asymptoter\n",
    "\n",
    "```{admonition} Oppgave: Asymptoter\n",
    ":class: oppgave\n",
    "\n",
    "**1)** Kan du finne den loddrette asymptoten kun ved å se på funksjonsuttrykket?\n",
    "\n",
    "**2)** Kan du finne den vannrette asymptoten kun ved å se på funksjonsuttrykket?\n",
    "\n",
    "Huk av for \"Vis graf\" eller \"Vis asymptoter\" om du trenger hjelp.\n",
    "```"
   ]
  },
  {
   "cell_type": "code",
   "execution_count": 9,
   "metadata": {
    "tags": [
     "remove-input"
    ]
   },
   "outputs": [
    {
     "data": {
      "text/html": [
       "\n",
       "<!DOCTYPE html>\n",
       "<html>\n",
       "<head>\n",
       "<meta name=viewport content=\"width=device-width,initial-scale=1\">\n",
       "<meta charset=\"utf-8\"/>\n",
       "<script src=\"https://cdn.geogebra.org/apps/deployggb.js\"></script>\n",
       "\n",
       "</head>\n",
       "<body>\n",
       "<div id=\"ggbApplet\"></div>\n",
       "\n",
       "<script>\n",
       "var parameters = {\n",
       "\"id\": \"ggbApplet\",\n",
       "\"width\":1550,\n",
       "\"height\":800,\n",
       "\"showMenuBar\":false,\n",
       "\"showAlgebraInput\":false,\n",
       "\"showToolBar\":false,\n",
       "\"customToolBar\":\"0 73 62 | 1 501 67 , 5 19 , 72 75 76 | 2 15 45 , 18 65 , 7 37 | 4 3 8 9 , 13 44 , 58 , 47 | 16 51 64 , 70 | 10 34 53 11 , 24  20 22 , 21 23 | 55 56 57 , 12 | 36 46 , 38 49  50 , 71  14  68 | 30 29 54 32 31 33 | 25 17 26 60 52 61 | 40 41 42 , 27 28 35 , 6\",\n",
       "\"showToolBarHelp\":false,\n",
       "\"showResetIcon\":true,\n",
       "\"enableLabelDrags\":false,\n",
       "\"enableShiftDragZoom\":true,\n",
       "\"enableRightClick\":false,\n",
       "\"errorDialogsActive\":false,\n",
       "\"useBrowserForJS\":false,\n",
       "\"allowStyleBar\":false,\n",
       "\"preventFocus\":false,\n",
       "\"showZoomButtons\":true,\n",
       "\"capturingThreshold\":3,\n",
       "// add code here to run when the applet starts\n",
       "\"appletOnLoad\":function(api){ /* api.evalCommand('Segment((1,2),(3,4))');*/ },\n",
       "\"showFullscreenButton\":true,\n",
       "\"scale\":1,\n",
       "\"disableAutoScale\":false,\n",
       "\"allowUpscale\":false,\n",
       "\"clickToLoad\":false,\n",
       "\"appName\":\"classic\",\n",
       "\"buttonRounding\":0.7,\n",
       "\"buttonShadows\":false,\n",
       "\"language\":\"nb\",\n",
       "// use this instead of ggbBase64 to load a material from geogebra.org\n",
       "// \"material_id\":\"RHYH3UQ8\",\n",
       "// use this instead of ggbBase64 to load a .ggb file\n",
       "// \"filename\":\"myfile.ggb\",\n",
       "\"ggbBase64\":\"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\",\n",
       "};\n",
       "// is3D=is 3D applet using 3D view, AV=Algebra View, SV=Spreadsheet View, CV=CAS View, EV2=Graphics View 2, CP=Construction Protocol, PC=Probability Calculator DA=Data Analysis, FI=Function Inspector, macro=Macros\n",
       "var views = {'is3D': 1,'AV': 0,'SV': 0,'CV': 0,'EV2': 1,'CP': 0,'PC': 0,'DA': 0,'FI': 0,'macro': 0};\n",
       "var applet = new GGBApplet(parameters, '5.0', views);\n",
       "window.onload = function() {applet.inject('ggbApplet')};\n",
       "applet.setPreviewImage('data:image/gif;base64,R0lGODlhAQABAAAAADs=','https://www.geogebra.org/images/GeoGebra_loading.png','https://www.geogebra.org/images/applet_play.png');\n",
       "</script>\n",
       "</body>\n",
       "</html>\n"
      ],
      "text/plain": [
       "<IPython.core.display.HTML object>"
      ]
     },
     "metadata": {},
     "output_type": "display_data"
    }
   ],
   "source": [
    "%%html\n",
    "\n",
    "<!DOCTYPE html>\n",
    "<html>\n",
    "<head>\n",
    "<meta name=viewport content=\"width=device-width,initial-scale=1\">\n",
    "<meta charset=\"utf-8\"/>\n",
    "<script src=\"https://cdn.geogebra.org/apps/deployggb.js\"></script>\n",
    "\n",
    "</head>\n",
    "<body>\n",
    "<div id=\"ggbApplet\"></div>\n",
    "\n",
    "<script>\n",
    "var parameters = {\n",
    "\"id\": \"ggbApplet\",\n",
    "\"width\":1550,\n",
    "\"height\":800,\n",
    "\"showMenuBar\":false,\n",
    "\"showAlgebraInput\":false,\n",
    "\"showToolBar\":false,\n",
    "\"customToolBar\":\"0 73 62 | 1 501 67 , 5 19 , 72 75 76 | 2 15 45 , 18 65 , 7 37 | 4 3 8 9 , 13 44 , 58 , 47 | 16 51 64 , 70 | 10 34 53 11 , 24  20 22 , 21 23 | 55 56 57 , 12 | 36 46 , 38 49  50 , 71  14  68 | 30 29 54 32 31 33 | 25 17 26 60 52 61 | 40 41 42 , 27 28 35 , 6\",\n",
    "\"showToolBarHelp\":false,\n",
    "\"showResetIcon\":true,\n",
    "\"enableLabelDrags\":false,\n",
    "\"enableShiftDragZoom\":true,\n",
    "\"enableRightClick\":false,\n",
    "\"errorDialogsActive\":false,\n",
    "\"useBrowserForJS\":false,\n",
    "\"allowStyleBar\":false,\n",
    "\"preventFocus\":false,\n",
    "\"showZoomButtons\":true,\n",
    "\"capturingThreshold\":3,\n",
    "// add code here to run when the applet starts\n",
    "\"appletOnLoad\":function(api){ /* api.evalCommand('Segment((1,2),(3,4))');*/ },\n",
    "\"showFullscreenButton\":true,\n",
    "\"scale\":1,\n",
    "\"disableAutoScale\":false,\n",
    "\"allowUpscale\":false,\n",
    "\"clickToLoad\":false,\n",
    "\"appName\":\"classic\",\n",
    "\"buttonRounding\":0.7,\n",
    "\"buttonShadows\":false,\n",
    "\"language\":\"nb\",\n",
    "// use this instead of ggbBase64 to load a material from geogebra.org\n",
    "// \"material_id\":\"RHYH3UQ8\",\n",
    "// use this instead of ggbBase64 to load a .ggb file\n",
    "// \"filename\":\"myfile.ggb\",\n",
    "\"ggbBase64\":\"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\",\n",
    "};\n",
    "// is3D=is 3D applet using 3D view, AV=Algebra View, SV=Spreadsheet View, CV=CAS View, EV2=Graphics View 2, CP=Construction Protocol, PC=Probability Calculator DA=Data Analysis, FI=Function Inspector, macro=Macros\n",
    "var views = {'is3D': 1,'AV': 0,'SV': 0,'CV': 0,'EV2': 1,'CP': 0,'PC': 0,'DA': 0,'FI': 0,'macro': 0};\n",
    "var applet = new GGBApplet(parameters, '5.0', views);\n",
    "window.onload = function() {applet.inject('ggbApplet')};\n",
    "applet.setPreviewImage('data:image/gif;base64,R0lGODlhAQABAAAAADs=','https://www.geogebra.org/images/GeoGebra_loading.png','https://www.geogebra.org/images/applet_play.png');\n",
    "</script>\n",
    "</body>\n",
    "</html>\n"
   ]
  }
 ],
 "metadata": {
  "kernelspec": {
   "display_name": "Python37",
   "language": "python",
   "name": "python3"
  },
  "language_info": {
   "codemirror_mode": {
    "name": "ipython",
    "version": 3
   },
   "file_extension": ".py",
   "mimetype": "text/x-python",
   "name": "python",
   "nbconvert_exporter": "python",
   "pygments_lexer": "ipython3",
   "version": "3.7.15"
  },
  "orig_nbformat": 4,
  "vscode": {
   "interpreter": {
    "hash": "6fbbe1ff1dbaaf20226355198eb8fd50bda93b517708eea3a794f0f516b66309"
   }
  }
 },
 "nbformat": 4,
 "nbformat_minor": 2
}

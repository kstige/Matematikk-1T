{
 "cells": [
  {
   "attachments": {},
   "cell_type": "markdown",
   "metadata": {},
   "source": [
    "# Polynomdivisjon\n",
    "\n",
    "På barneskolen har de fleste lært (en form av) divisjonsalgoritmen under\n",
    "\n",
    "```{figure} ./bilder/divisjon.png\n",
    "---\n",
    "scale: 50%\n",
    "---\n",
    "```\n",
    "\n",
    "Noe tilsvarende kan brukes for å utføre divisjon med polynomuttrykk. Det ønsker vi å gjøre for å\n",
    " * forenkle brøkuttrykk av typen $\\frac{x^3+6x^2+11x+6}{x+2}$\n",
    " * faktorisere polynomuttrykk av tredjegrad og oppover\n",
    " * løse likninger med polynomer\n",
    "\n",
    "Siden brøk forkortes ved å stryke felles faktor, faktorisering gjøres ved hjelp av nullpunkt og alle likninger kan omformes til å handle om å finne nullpunkt, så vil de tre punktene over egentlig gå ut på det samme.\n",
    "\n",
    "La oss se på tredjegradsuttrykket $P(x)=x^3+6x^2+11x+6$ og undersøke om -2 er et nullpunkt i uttrykket.\n",
    "\n",
    "$$P(-2)=(-2)^3+6\\cdot (-2)^2+11\\cdot(-2)+6=-8+24-22+6=0$$\n",
    "\n",
    "Vi ser at -2 er et nullpunkt og vet derfor at $x+2$ må være en faktor i $P(x)$. Det vil si at vi kan skrive $P(x)=(x+2)\\cdot f(x)$, der $f(x)$ er det uttrykket vi står igjen med når vi har trukket ut faktoren $x+2$. Problemet vårt blir å finne ut hva $f(x)$ er.\n",
    "\n",
    "$$\\frac{P(x)}{x+2}=\\frac{(x+2)\\cdot f(x)}{x+2}=f(x)$$\n",
    "\n",
    "Vi ser at vi kan finne $f(x)$ ved å dele $P(x)$ på $x+2$. Det kan gjøres ved hjelp av det vi kaller polynomdivisjon, og er en divisjonsalgoritme (framgangsmåte) som likner mye på divisjon med tall som vi startet med på denne siden. Vi viser algoritmen med et eksempel.\n",
    "\n",
    "```{admonition} Eksempel: Polynomdivisjon\n",
    ":class: eksempel"
   ]
  }
 ],
 "metadata": {
  "kernelspec": {
   "display_name": "Python37",
   "language": "python",
   "name": "python3"
  },
  "language_info": {
   "name": "python",
   "version": "3.7.15 (default, Nov 24 2022, 18:44:54) [MSC v.1916 64 bit (AMD64)]"
  },
  "orig_nbformat": 4,
  "vscode": {
   "interpreter": {
    "hash": "6fbbe1ff1dbaaf20226355198eb8fd50bda93b517708eea3a794f0f516b66309"
   }
  }
 },
 "nbformat": 4,
 "nbformat_minor": 2
}

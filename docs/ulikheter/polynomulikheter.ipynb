{
 "cells": [
  {
   "attachments": {},
   "cell_type": "markdown",
   "metadata": {},
   "source": [
    "# Polynomulikheter\n",
    "\n",
    "Når vi skal løse polynomulikheter får vi nytte av faktorisering og fortegnslinjer. Vi vil hovedsaklig se på andregradsuttrykk, men vil starte med å repetere litt om fortegnslinjer.\n",
    "\n",
    "## Fortegnslinjer\n",
    "\n",
    "Ei fortegnslinje viser hvor et funksjonsuttrykk er negativt, positivt og null. Vi har tidligere tegnet fortegnslinjer for funksjoner ved å se på grafen. Nå skal vi se på hvordan vi kan lage fortegnslinjer fra funksjonsuttrykk.\n",
    "\n",
    "`````{admonition} Eksempel: Lineær funksjon\n",
    ":class: eksempel\n",
    "\n",
    "Vi ser på funksjonen $f(x)=x-5$ og skal tegne fortegnslinje for den. Funksjonen har bare en faktor $(x-5)$ og den er null for $x=5$. Der setter vi av et nullpunkt. Dersom vi sjekker en verdi $x<5$ ser vi at funksjonsverdien blir negativ. Dersom vi sjekker en verdi $x>5$ ser vi at funksjonsverdien blir positiv. Det kan vi tegne opp i ei fortegnslinje slik.\n",
    "\n",
    "```{figure} ./bilder/fortegnslinjelinear.png\n",
    "---\n",
    "scale: 50%\n",
    "---\n",
    "```\n",
    "\n",
    "Her har vi først tegnet fortegnslinje for faktoren, og så for hele funksjonen. I dette tilfellet er de helt like.\n",
    "\n",
    "`````\n",
    "\n",
    "`````{admonition} Eksempel: Andregradsfunksjon\n",
    ":class: eksempel\n",
    "\n",
    "Vi ser på funksjonen $f(x)=x^2-x-6$ og skal tegne fortegnslinje for den. Vi starter med å finne nullpunktene $x=-2$ og $x=3$. Det bruker vi til å faktorisere $f(x)=(x+2)(x-3)$.\n",
    "\n",
    "Når vi skal tegne fortegnslinja for funksjonen starter vi med å sette opp fortegnslinje for hver faktor på tilsvarende måte som vi gjorde for den ene faktoren i forrige eksempel.\n",
    "\n",
    "Til slutt multipliserer vi sammen fortegn nedover. Der begge faktorene har samme fortegn vil funksjonsverdien bli positiv ($-\\cdot - = +$ og $+\\cdot + = +$). Der en av faktorene er negativ og den andre er positiv blir funksjonsverdien negativ ($-\\cdot + = .$). Og så setter vi av nullpunktene der faktorene har nullpunkt. \n",
    "\n",
    "Det vi gjør her har sammenheng med produktregelen som vi har sett på tidligere. Fortegnet til funksjonsuttrykket må ha samme fortegn som produktet av fortegnet til faktorene.\n",
    "\n",
    "```{figure} ./bilder/fortegnslinjeandregrad.png\n",
    "---\n",
    "scale: 50%\n",
    "---\n",
    "```\n",
    "\n",
    "`````\n"
   ]
  },
  {
   "attachments": {},
   "cell_type": "markdown",
   "metadata": {},
   "source": [
    "## Løse polynomulikheter\n",
    "\n",
    "For å løse en polynomulikhet trenger vi ikke mye mer enn det vi så på i eksemplene over.\n",
    "\n",
    "`````{admonition} Eksempel: Andregradsulikhet\n",
    ":class: eksempel\n",
    "\n",
    "Vi skal løse ulikheten $x^2-2x+1<x+5$.\n",
    "\n",
    "Tilsvarende som med andregradslikninger starter vi med å flytte alt over til venstre side slik at vi får $x^2-3x-4<0$. Så løser vi den tilsvarende andregradslikninga og får $x=-1 \\vee x=4$ som gir faktoriseringen $x^2-3x-4=(x+1)(x-4)$. Så setter i opp fortegnsskjema ut fra disse faktorene.\n",
    "\n",
    "```{figure} ./bilder/eksempel2gradulikhet.png\n",
    "---\n",
    "scale: 50%\n",
    "---\n",
    "```\n",
    "Ut fra fortegnslinja ser vi at løsninga av ulikheten er $L=\\langle -1, 4 \\rangle$.\n",
    "`````\n",
    "\n",
    "`````{admonition} Eksempel: Andregradsulikhet 2\n",
    ":class: eksempel\n",
    "\n",
    "Vi skal løse ulikheten $x^2+3x+13\\leq 3-4x$.\n",
    "\n",
    "Vi starter med å flytte alt over til venstre side slik at vi får $x^2+7x+10\\leq 0$. Så løser vi den tilsvarende andregradslikninga og får $x=-5 \\vee x=-2$ som gir faktoriseringen $x^2+7x+10=(x+5)(x-2)$. Så setter i opp fortegnsskjema ut fra disse faktorene.\n",
    "\n",
    "```{figure} ./bilder/eksempel2gradulikhet.png\n",
    "---\n",
    "scale: 50%\n",
    "---\n",
    "```\n",
    "Ut fra fortegnslinja ser vi at løsninga av ulikheten er $L=\\langle \\leftarrow, -5] \\cup [-2, \\rightarrow \\rangle$.\n",
    "`````\n",
    "\n"
   ]
  }
 ],
 "metadata": {
  "kernelspec": {
   "display_name": "Python37",
   "language": "python",
   "name": "python3"
  },
  "language_info": {
   "name": "python",
   "version": "3.7.15 (default, Nov 24 2022, 18:44:54) [MSC v.1916 64 bit (AMD64)]"
  },
  "orig_nbformat": 4,
  "vscode": {
   "interpreter": {
    "hash": "6fbbe1ff1dbaaf20226355198eb8fd50bda93b517708eea3a794f0f516b66309"
   }
  }
 },
 "nbformat": 4,
 "nbformat_minor": 2
}

{
 "cells": [
  {
   "attachments": {},
   "cell_type": "markdown",
   "metadata": {},
   "source": [
    "# Metoder for løsning av likningssett\n",
    "\n",
    "\n",
    "## Introduksjon\n",
    "\n",
    "Fram til nå har vi sett på likninger med en variabel. Eksempler på det er \n",
    "\n",
    " * $3x+6=0$\n",
    " * $x^2+x=6$\n",
    "\n",
    "og tilsvarende. \n",
    "\n",
    "Nå skal vi se på likninger med flere ukjente størrelser. Et eksempel kan være $2x - y = 4$. For å løse denne likningen må vi finne verdier både for $x$ og $y$ som gjør at høyre side blir lik venstre side. Vi kan tenke oss at vi prøver å løse for $y$ først. Da ender vi opp med $y=2x-4$. Det her er likningen for ei rett linje, og vi ser at det er mange (faktisk uendelig mange) løsninger. Lar vi $x=1$ får vi $y=-2$. Dersom $x=2,5$ får vi $y=1$, og slik kunne vi fortsatt. Alle par av verdier for $x$ og $y$ som passer i likningen er løsninger. Vi kan også tegne likningen som en graf i et koordinatsystem.\n",
    "\n",
    "```{figure} ./bilder/enlikning.png\n",
    "---\n",
    "scale: 20%\n",
    "---\n",
    "```\n",
    "\n",
    "Det her viser oss at en likning ikke er nok for å kunne bestemme verdiene av $x$ og $y$. For å kunne finne en bestemt verdi for de to ukjente størrelsene trenger vi to likninger. Generelt trenger vi like mange likninger som vi har ukjente størrelser for å kunne avgjøre en bestemt verdi for alle størrelsene.\n",
    "\n",
    "Vi skal her i innledningen se på metoder for å løse lineære likningssett med to ukjente. Det er et sett med to likninger der begge varibalene er av første grad. Metodene vi bruker her kan enkelt overføres til likningssett som er ikke-lineære eller som har flere variabler.\n",
    "\n",
    "I alle eksemplene under skal vi se på likningssettet\n",
    "\n",
    "$$\n",
    "2x - y = 4 \\\n",
    "x + y = 5\n",
    "$$\n",
    "\n",
    "Når vi skal løse likningssett må vi finne et par av verdier for $x$ og $y$ som passer med begge likningene. Løsningen av dette likningssettet viser seg å være $x=3 \\land y=2$. Symbolet $\\land$ kalles konjunksjon og betryr \"og\"."
   ]
  },
  {
   "attachments": {},
   "cell_type": "markdown",
   "metadata": {},
   "source": [
    "## Grafisk metode\n",
    "\n",
    "I innledningen tegnet vi opp likningen $2x-y=4$ i et koordinatsystem. Den grafiske metoden går ut på å tegne inn begge likningene i det samme koordinatystemet og finne skjæringspunktet mellom dem.\n",
    "\n",
    "`````{admonition} Grafisk metode\n",
    "Skriver inn begge likningene i GeoGebra. Vi ser at begge likningene hver for seg har uendelig mange løsninger, men en av løsningene passer i begge likningene. Det er den vi er ute etter. Vi bruker \"Skjæring mellom to objekt\" for å finne skjæringspunktet $(3,2)$.\n",
    "\n",
    "```{figure} ./bilder/grafiskmetode.png\n",
    "---\n",
    "scale: 20%\n",
    "---\n",
    "```\n",
    "\n",
    "Det betyr at løsningen av likningssettet er $x=3 \\wedge y = 2$. Siden løsningen er et par av verdier som tilsvarer et punkt i et koordinatsystem kan vi også skrive løsningen som $L=\\{(3,2)\\}$."
   ]
  }
 ],
 "metadata": {
  "kernelspec": {
   "display_name": "Python37",
   "language": "python",
   "name": "python3"
  },
  "language_info": {
   "name": "python",
   "version": "3.7.15 (default, Nov 24 2022, 18:44:54) [MSC v.1916 64 bit (AMD64)]"
  },
  "orig_nbformat": 4,
  "vscode": {
   "interpreter": {
    "hash": "6fbbe1ff1dbaaf20226355198eb8fd50bda93b517708eea3a794f0f516b66309"
   }
  }
 },
 "nbformat": 4,
 "nbformat_minor": 2
}

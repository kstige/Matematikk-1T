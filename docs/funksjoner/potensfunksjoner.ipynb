{
 "cells": [
  {
   "attachments": {},
   "cell_type": "markdown",
   "metadata": {},
   "source": [
    "# Potensfunksjoner\n",
    "\n",
    "I polynomfunksjoner kan eksponenten kun være et heltall større eller lik 0. Det er imidlertid ingenting i veien for å ha negative tall eller desimaltall i en eksponent.\n",
    "\n",
    "```{admonition} Definisjon av potensfunksjoner\n",
    ":class: def\n",
    "Potensfunksjoner er funksjoner på formen $f(x) = a\\cdot x^b$, der $a$, $b \\in \\mathbf{R}\\backslash\\{0\\}$.\n",
    "\n",
    "Dersom $b$ ikke er et heltall, så vil potensfunksjonen kun være definert for positive verdier av $x$.\n",
    "\n",
    "Dersom $b$ er negativ, så vil potensfunksjonen ikke være definert $x=0$.\n",
    "```\n",
    "\n",
    "Det er viktig å legge merke til at potensfunksjoner i motsetning til polynomfunksjoner kun inneholder ett ledd. Polynomfunksjoner med ett ledd er også potensfunksjoner.\n",
    "\n",
    "```{admonition} Eksempel på potensfunksjoner\n",
    ":class: eksempel\n",
    "Formen på en potensfunksjon avhenger av størrelsene $a$ og $b$. Under er funksjonen $f(x)=2x^b$ tegnet inn (for positive $x$-verdier) for noen forskjellige verdier av $b$.\n",
    "\n",
    "```{figure} ./bilder/potensfunksjon.png\n",
    "---\n",
    "scale: 20%\n",
    "---\n",
    "```\n",
    "\n"
   ]
  },
  {
   "cell_type": "markdown",
   "metadata": {},
   "source": []
  }
 ],
 "metadata": {
  "kernelspec": {
   "display_name": "Python37",
   "language": "python",
   "name": "python3"
  },
  "language_info": {
   "name": "python",
   "version": "3.7.15 (default, Nov 24 2022, 18:44:54) [MSC v.1916 64 bit (AMD64)]"
  },
  "orig_nbformat": 4,
  "vscode": {
   "interpreter": {
    "hash": "6fbbe1ff1dbaaf20226355198eb8fd50bda93b517708eea3a794f0f516b66309"
   }
  }
 },
 "nbformat": 4,
 "nbformat_minor": 2
}

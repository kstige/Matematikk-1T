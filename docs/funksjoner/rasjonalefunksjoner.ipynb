{
 "cells": [
  {
   "attachments": {},
   "cell_type": "markdown",
   "metadata": {},
   "source": [
    "# Rasjonale funksjoner\n",
    "\n",
    "Vi husker at et rasjonalt tall er et tall som kan skrives som en brøk med heltall i teller og nevner. Tilsvarende vil vi definere rasjonale funksjoner på følgende måte.\n",
    "\n",
    "```{admonition} Definisjon av rasjonale funksjoner\n",
    ":class: def\n",
    "En brøkfunksjon som har polynomfunksjoner i både teller og nevner kalles en rasjonal funksjon.\n",
    "```\n",
    "\n",
    "Rasjonale funksjoner skiller seg blant annet fra polynomfunksjoner ved at noen $x$-verdier ikke er med i definisjonsmengden. Det er de verdiene for $x$ som gjør at nevneren blir 0. Slike verdier gir grafen loddrette asymptoter. Det er loddrette linjer som grafen beveger seg mot, men aldri vil krysse. I tillegg vil rasjonale funksjoner også ha vannrette (eller skrå asymptoter).\n",
    "\n",
    "```{admonition} Loddrett/vertikal asymptote\n",
    ":class: def\n",
    "En rasjonal funksjon har loddrette asymptoter for de $x$-verdiene der nevneren har nullpunkt. Om $x=a$ er et nullpunkt vil $x=a$ også være en asymptote.\\\n",
    "Dersom telleren har nullpunkt for samme $x$-verdi må funksjonen undersøkes nærmere for å kunne si om det er en loddrett asymptote.\n",
    "```\n",
    "\n",
    "```{admonition} Vannrett/horisontal asymptote\n",
    ":class: def\n",
    "En rasjonal funksjon har vannrett asymptote for $y=b$ dersom grafen nærmer seg $b$ når $x$ går mot $\\pm \\infty$. \n",
    "```\n",
    "\n",
    "`````{admonition} Eksempel: Rasjonal funksjon og asymptoter\n",
    ":class: eksempel, dropdown\n",
    "\n",
    "Under er et bilde av grafen til den rasjonale funksjonen $f(x)=\\frac{2x+1}{x-3}$. Det er også tegnet inn en loddrett asymptote for $x=3$ og en vannrett asymptote for $y=2$. Vi ser at grafen nærmer seg disse linjene fra begge sider uten å krysse dem.\n",
    "\n",
    "```{figure} ./bilder/rasjonalfunksjon.png\n",
    "---\n",
    "scale: 20%\n",
    "---\n",
    "```\n",
    "For å finne den loddrette asymptoten finner vi nullpunktet til nevneren. Siden nevneren er $x-3$ ser vi at nullpunktet og dermed den loddrette asymptoten er $x=3$. Det vil si at definisjonsmengden til funksjonen blir $D_f = \\mathbf{R} \\backslash \\{3\\}$\n",
    "\n",
    "For å finne den vannrette asymptoten tenker vi oss at vi lar $x\\rightarrow \\infty$ ($x$ går mot uendelig). Da vil alle ledd i brøken som ikke inneholder $x$ bli veldig små i forhold til leddene som inneholder $x$. \n",
    "\n",
    "$$\n",
    "f(x)=\\frac{2x+1}{x-3} \\approx \\frac{2x}{x}=2\n",
    "$$\n",
    "\n",
    "når $x$ blir stor. Det vil si at $y=2$ er en vannrett asymptote. Vi ser av grafen at funksjonen aldri krysser denne linja, så verdimengden til funksjonen blir $V_f=\\mathbf{R} \\backslash \\{2\\}$.\n",
    "`````"
   ]
  },
  {
   "attachments": {},
   "cell_type": "markdown",
   "metadata": {},
   "source": [
    "`````{admonition} Eksempel: Skisser rasjonal funksjon\n",
    ":class: eksempel, dropdown\n",
    "\n",
    "En rasjonal funksjon er gitt ved $g(x)=\\frac{3x}{2x+2}$. Vi skal finne asymptotene og skissere grafen.\n",
    "\n",
    "Den loddrette asymptoten finner vi der nevneren er 0. Det er når $x=-1$.\n",
    "\n",
    "Den vannrette asymptoten finner vi ved å la $x$ bli veldig stor. Da vil $g(x)\\approx \\frac{3x}{2x}=\\frac{3}{2}$. Vi har altså en vannrett asymptote for $y=\\frac{3}{2}$.\n",
    "\n",
    "Disse to asymptotene vil dele opp grafen vår. For å kunne skissere litt nøyere regner vi ut en verditabell med noen $x$-verdier på hver side av den loddrette asymptoten. Det er også greit å se at telleren (og dermed funksjonen) har nullpunkt for $x=0$.\n",
    "\n",
    "```{figure} ./bilder/rasjonaltabell.png\n",
    "---\n",
    "scale: 100%\n",
    "---\n",
    "```\n",
    "\n",
    "Vi starter med å tegne inn asymptotene og punktene vi har funnet. Så trekker vi ei kurve gjennom punktene og lar kurven nærme seg asymptotene når $x$ går mot $-1$ og når $x$ går mot $\\pm \\infty$.\n",
    "\n",
    "```{figure} ./bilder/rasjonaleksempel.png\n",
    "---\n",
    "scale: 20%\n",
    "---\n",
    "```\n",
    "`````"
   ]
  },
  {
   "attachments": {},
   "cell_type": "markdown",
   "metadata": {},
   "source": [
    "## Videoer\n",
    "Her kan du se videoer for en del av innholdet på denne siden:\n",
    "\n",
    "````{tab-set} \n",
    "```{tab-item} Introduksjon og eksempel\n",
    "<iframe width=\"800\" height=\"600\" src=\"https://www.youtube.com/embed/as-JDL1HFIY\" title=\"YouTube video player\" frameborder=\"0\" allow=\"accelerometer; autoplay; clipboard-write; encrypted-media; gyroscope; picture-in-picture; web-share\" allowfullscreen></iframe>\n",
    "```\n",
    "\n",
    "````"
   ]
  }
 ],
 "metadata": {
  "kernelspec": {
   "display_name": "Python37",
   "language": "python",
   "name": "python3"
  },
  "language_info": {
   "codemirror_mode": {
    "name": "ipython",
    "version": 3
   },
   "file_extension": ".py",
   "mimetype": "text/x-python",
   "name": "python",
   "nbconvert_exporter": "python",
   "pygments_lexer": "ipython3",
   "version": "3.7.15 (default, Nov 24 2022, 18:44:54) [MSC v.1916 64 bit (AMD64)]"
  },
  "orig_nbformat": 4,
  "vscode": {
   "interpreter": {
    "hash": "6fbbe1ff1dbaaf20226355198eb8fd50bda93b517708eea3a794f0f516b66309"
   }
  }
 },
 "nbformat": 4,
 "nbformat_minor": 2
}

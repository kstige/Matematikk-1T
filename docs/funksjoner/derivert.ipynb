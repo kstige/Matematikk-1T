{
 "cells": [
  {
   "cell_type": "markdown",
   "metadata": {},
   "source": [
    "# Den deriverte\n",
    "\n",
    "Den momentane vekstfarten er en viktig størrelse fordi den leder oss mot et av de viktigste resultatene i 1T.\n",
    "\n",
    "```{admonition} Eksempel\n",
    ":class: eksempel\n",
    "Bruk GeoGebra-appen over til å finne den momentane vekstfarten (MV) til $f(x)=x^2$ for $x\\in\\{-4,-3,-2,-1,0,1,2,3,4\\}$. Verdiene fyller vi inn i en tabell.\n",
    "| **x**    | -4 | -3 | -2 | -1 | 0 | 1 | 2 | 3 | 4 |\n",
    "|----------|---|---|---|----|---|---|---|---|---|\n",
    "| **MV**| -8 | -6 | -4 | -2 | 0 | 2 | 4 | 6 | 8 |\n",
    "\n",
    "```\n",
    "\n",
    "I eksempelet over ser vi at for hver verdi vi har av $x$, så får vi en verdi for den momentane vekstfarten. Det vil si at den momentane vekstfarten oppfyller kravet til å være en funksjon. Denne funksjonen gir vi et eget navn: Vi kaller den for \"den deriverte av $f(x)$\", og vi bruker skrivemåten $f'(x)$.\n",
    "\n",
    "```{admonition} Definisjon: Den deriverte\n",
    "$f'(x)$ (leses \"f derivert av x\") er en funksjon som har funksjonsverdi lik stigningstallet til tangenten til $f(x)$ i punktet $(x, f(x))$.\n",
    "\n",
    "Den deriverte i et punkt har samme verdi som den momentane vekstfarten i punktet.\n",
    "```"
   ]
  }
 ],
 "metadata": {
  "kernelspec": {
   "display_name": "Python37",
   "language": "python",
   "name": "python3"
  },
  "language_info": {
   "name": "python",
   "version": "3.7.15 (default, Nov 24 2022, 18:44:54) [MSC v.1916 64 bit (AMD64)]"
  },
  "orig_nbformat": 4,
  "vscode": {
   "interpreter": {
    "hash": "6fbbe1ff1dbaaf20226355198eb8fd50bda93b517708eea3a794f0f516b66309"
   }
  }
 },
 "nbformat": 4,
 "nbformat_minor": 2
}

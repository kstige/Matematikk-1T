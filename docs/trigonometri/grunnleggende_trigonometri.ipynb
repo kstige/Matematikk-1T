{
 "cells": [
  {
   "attachments": {},
   "cell_type": "markdown",
   "metadata": {},
   "source": [
    "# Grunnleggende trigonometri\n",
    "\n",
    "Ordet trigonometri betyr *trekantmåling*. Trigonometrien er den delen av geometrien som omhandler egenskaper til trekanter. Dette er et viktig matematisk felt som brukes i for eksempel astronomi, landmåling, mekanikk og regning på bølger.\n",
    "\n",
    "Selv om ordet trigonometri ikke har vært brukt, så har dere sett mye på trigonometri i ungdomsskolen.\n",
    "\n",
    "```{admonition} Areal\n",
    "Arealet av en trekant er gitt ved\n",
    "\n",
    "$$A=\\frac{gh}{2}$$\n",
    "\n",
    "der $g$ er grunnlinjen og $h$ er høyden. Høyden er den lengden til det kortete linjestykket mellom grunnlinjen og motstående hjørne.\n",
    "```\n",
    "\n",
    "`````{admonition} Vinkler\n",
    "Vi navngir hjørnene i en trekant med store bokstaver og følger vanligvis alfabetet og går mot klokka rundt trekanten. Dersom hjørnene i en trekant er $A$, $B$ og $C$, så kan vinkelen til hjørne $A$ navngis på tre måter:\n",
    "\n",
    "```{figure} ./bilder/trekantvinkler.png\n",
    "---\n",
    "scale: 40%\n",
    "align: right\n",
    "---\n",
    "``` \n",
    "\n",
    "\n",
    " * $\\angle A$\n",
    " * $\\angle CAB$\n",
    " * $\\angle BAC$\n",
    "\n",
    "Vi velger den første varianten hvis det ikke er tvetydig.\n",
    "\n",
    "Vinkelsummen i en trekant er $180^{\\circ}$. Det betyr at $\\angle A + \\angle B + \\angle C = 180^{\\circ}$.\n",
    "`````\n",
    "\n",
    "`````{admonition} Lengder og sider\n",
    "```{figure} ./bilder/trekantsider.png\n",
    "---\n",
    "scale: 40%\n",
    "align: right\n",
    "---\n",
    "``` \n",
    "\n",
    "\n",
    "Sidene i en trekant kan navngis ved å bruke hjørnene siden går mellom. For eksempel vil siden mellom $B$ og $C$ være gitt ved $BC$. Det er også vanlig å navngi motstående side til en vinkel med samme navn med små bokstaver. Vi kan derfor skrive:\n",
    "\n",
    " * $BC = a$\n",
    " * $AC = b$\n",
    " * $AB = c$\n",
    "`````\n",
    "\n",
    "```{admonition} Spesielle trekanter\n",
    "\n",
    "**Rettvinklet trekant**\n",
    "Trekant der en vinkel er $90^{\\circ}$. I slike trekanter kalles de to korteste sidene for *katet* og den lengste siden for *hypotenus*.\n",
    "\n",
    "**Likesidet trekant**\n",
    "Trekant der alle sidene er like lange. Da vil alle vinklene være $60^{\\circ}$.\n",
    "\n",
    "**30-60-90 trekant (halvt likesidet trekant)**\n",
    "Trekant der vinklene er $30^{\\circ}$, $60^{\\circ}$ og $90^{\\circ}$. I disse trekantene vil alltid hypotenusen være dobbelt så lang som den korteste kateten.\n",
    "\n",
    "**Likebeint trekant**\n",
    "Trekant der to sider er like lange. Vinklene i motstående hjørne til disse sidene vil også være like lange.\n",
    "\n",
    "\n",
    "\n"
   ]
  }
 ],
 "metadata": {
  "kernelspec": {
   "display_name": "Python37",
   "language": "python",
   "name": "python3"
  },
  "language_info": {
   "name": "python",
   "version": "3.7.15 (default, Nov 24 2022, 18:44:54) [MSC v.1916 64 bit (AMD64)]"
  },
  "orig_nbformat": 4,
  "vscode": {
   "interpreter": {
    "hash": "6fbbe1ff1dbaaf20226355198eb8fd50bda93b517708eea3a794f0f516b66309"
   }
  }
 },
 "nbformat": 4,
 "nbformat_minor": 2
}

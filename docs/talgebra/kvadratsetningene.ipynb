{
 "cells": [
  {
   "attachments": {},
   "cell_type": "markdown",
   "metadata": {},
   "source": [
    "# Kvadratsetningene\n",
    "\n",
    "Vi har nå sett på hvordan vi trekker sammen algebrauttrykk og hvordan vi multipliserer ut parenteser. Noen former for parentesuttrykk dukker opp så ofte at vi har gitt dem egne navn.\n",
    "\n",
    "```{admonition} Kvadratsetningene\n",
    "\n",
    "**Første kvadratsetning:** $(a+b)^2=a^2+2ab+b^2$\n",
    "\n",
    "**Andre kvadratsetning:** $(a-b)^2=a^2-2ab+b^2$\n",
    "\n",
    "**Konjugatsetningen:** $(a+b)(a-b)=a^2-b^2$\n",
    "\n",
    "Konjugatsetningen blir av og til også kalt for *tredje kvadratsetning*.\n",
    "```\n",
    "\n",
    "Sammenhengene over kan enkelt bevises ved å skrive ut kvadratene og multiplisere sammen parentesene. Det viser vi for første kvadratsetning i eksempelet under.\n",
    "\n",
    "```{admonition} Eksempel: Første kvadratsetning\n",
    ":class: eksempel\n",
    "\n",
    "Vi skal regne ut $(x+4)^2$ med og uten første kvadratsetning.\n",
    "\n",
    "**Uten**\n",
    "\n",
    "$(x+4)^2=(x+4)\\cdot (x+4)=x^2+4x+4x+16=x^2+8x+16$\n",
    "\n",
    "**Med**\n",
    "\n",
    "$(x+4)^2=x^2+2\\cdot 4x +4^2=x^2+8x+16$\n",
    "```\n",
    "\n",
    "Eksempelet over viser at det i enkle tilfeller ikke er så mye tid å spare på å bruke kvadratsetningene. Fordelen kommer når uttrykkene i parentesene blir mer sammensatte. I tillegg vil den største nytten komme i å bruke kvadratsetningene baklengs, det vil si til faktorisering.\n",
    "\n",
    "```{admonition} Eksempel: Sammensatte kvadrater\n",
    ":class: eksempel\n",
    "\n",
    "$(2a+3)^2=(2a)^2+2\\cdot 2a\\cdot 3+3^2=4a^2+12a+9$\n",
    "\n",
    "$\\displaystyle{\\left(\\frac{x}{3}-3y\\right)^2 = \\left(\\frac{x}{3}\\right)^2-2\\cdot\\frac{x}{3}\\cdot 3y+(3y)^2=\\frac{x^2}{9}-2xy+9y^2}$\n",
    "\n",
    "$(\\sqrt{5}+2)(\\sqrt{5}-2)=(\\sqrt{5})^2-2^2=5-4=1$\n",
    "```"
   ]
  },
  {
   "attachments": {},
   "cell_type": "markdown",
   "metadata": {},
   "source": [
    "## Illustrasjon av første kvadratsetning\n",
    "\n",
    "Vi kan bruke figuren under for å både bevise og illustrere første kvadratsetning.\n",
    "\n",
    "```{figure} ./bilder/1kvadratsetning.png\n",
    "---\n",
    "scale: 50%\n",
    "---\n",
    "```\n",
    "\n",
    "Sidene i kvadratet er $a+b$, så arealet av kvadratet er $(a+b)^2$. Vi kan imidlertid også skrive arealet ved hjelp av firkantene som den er delt opp i.\n",
    "\n",
    "Blå firkant: $a^2$\n",
    "\n",
    "Grønne firkatner: $2ab$\n",
    "\n",
    "Rødbrun firkant: $b^2$\n",
    "\n",
    "Vi ser da at $(a+b)^2=a^2+2ab+b^2$.\n",
    "\n",
    "Tilsvarende illustrasjoner og bevis kan gjøres også for andre kvadratsetning og konjugatsetningen.\n",
    "\n",
    "## Øving på kvadratsetningene\n",
    "I appen under kan du øve på oppgaver om kvadratsetningene."
   ]
  },
  {
   "cell_type": "code",
   "execution_count": 5,
   "metadata": {
    "tags": [
     "remove-input"
    ]
   },
   "outputs": [
    {
     "data": {
      "text/html": [
       "\n",
       "<meta name=viewport content=\"width=device-width,initial-scale=1\">\n",
       "<meta charset=\"utf-8\"/>\n",
       "<script src=\"https://cdn.geogebra.org/apps/deployggb.js\"></script>\n",
       "\n",
       "<script>\n",
       "var views = {'is3D': 1,'AV': 0,'SV': 0,'CV': 0,'EV2': 1,'CP': 0,'PC': 0,'DA': 0,'FI': 0,'macro': 0};\n",
       "var parameters1 = {\n",
       "   \"width\":800, \"height\":400, \n",
       "   \"bordercolor\": \"#be8322\", \n",
       "   \"showResetIcon\":true,\n",
       "   \"enableLabelDrags\":false,\n",
       "   \"enableRightClick\":false,\n",
       "   \"errorDialogsActive\":false,\n",
       "   \"useBrowserForJS\":false,\n",
       "   \"showZoomButtons\":true,\n",
       "   \"appletOnLoad\":function(api){ /* api.evalCommand('Segment((1,2),(3,4))');*/ },\n",
       "   \"showFullscreenButton\":true,  \n",
       "   \"disableAutoScale\":false,\n",
       "   \"allowUpscale\":false,\n",
       "   \"clickToLoad\":false,\n",
       "   \"appName\":\"classic\",\n",
       "   \"buttonRounding\":0.7,\n",
       "   \"buttonShadows\":false,\n",
       "   \"language\":\"nb\",\n",
       "   \"ggbBase64\":\"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\",\n",
       "    };\n",
       "var applet1 = new GGBApplet(parameters1, '5.0', views);\n",
       "\n",
       "window.addEventListener(\"load\", function() {\n",
       "                    applet1.inject('applet_container1');\n",
       "                 });\n",
       "\n",
       "applet.setPreviewImage('data:image/gif;base64,R0lGODlhAQABAAAAADs=','https://www.geogebra.org/images/GeoGebra_loading.png','https://www.geogebra.org/images/applet_play.png');\n",
       "</script>\n",
       "\n",
       "<div id=\"applet_container1\"></div>\n"
      ],
      "text/plain": [
       "<IPython.core.display.HTML object>"
      ]
     },
     "metadata": {},
     "output_type": "display_data"
    }
   ],
   "source": [
    "%%html\n",
    "\n",
    "<meta name=viewport content=\"width=device-width,initial-scale=1\">\n",
    "<meta charset=\"utf-8\"/>\n",
    "<script src=\"https://cdn.geogebra.org/apps/deployggb.js\"></script>\n",
    "\n",
    "<script>\n",
    "var views = {'is3D': 1,'AV': 0,'SV': 0,'CV': 0,'EV2': 1,'CP': 0,'PC': 0,'DA': 0,'FI': 0,'macro': 0};\n",
    "var parameters1 = {\n",
    "   \"width\":800, \"height\":400, \n",
    "   \"bordercolor\": \"#be8322\", \n",
    "   \"showResetIcon\":true,\n",
    "   \"enableLabelDrags\":false,\n",
    "   \"enableRightClick\":false,\n",
    "   \"errorDialogsActive\":false,\n",
    "   \"useBrowserForJS\":false,\n",
    "   \"showZoomButtons\":true,\n",
    "   \"appletOnLoad\":function(api){ /* api.evalCommand('Segment((1,2),(3,4))');*/ },\n",
    "   \"showFullscreenButton\":true,  \n",
    "   \"disableAutoScale\":false,\n",
    "   \"allowUpscale\":false,\n",
    "   \"clickToLoad\":false,\n",
    "   \"appName\":\"classic\",\n",
    "   \"buttonRounding\":0.7,\n",
    "   \"buttonShadows\":false,\n",
    "   \"language\":\"nb\",\n",
    "   \"ggbBase64\":\"UEsDBBQAAAAIABxzW1ad5Ps3IQUAAC8mAAAXAAAAZ2VvZ2VicmFfZGVmYXVsdHMyZC54bWztWl9v4jgQf779FJGf7h4KCRCgVdNVd6XTVep2V9fqdK8mmOCrsXOxU0I//Y7/kIQC3ZY/LUjtQ8049sTz+43HYzvnn4sJ8x5IJqngEQoaPvIIj8WQ8iRCuRqd9NHni0/nCREJGWTYG4lsglWEQt2y7AdSo9f1dR1O0wjFDEtJY+SlDCvdJUJiNGKUE+R5haRnXNzgCZEpjsltPCYTfC1irIyusVLpWbM5nU4b87c2RJY0QbFsFnLYTBLVgBJ5MHQuI+R+nIHehd7TtunX8v2g+e+3a/ueE8qlwjyGgYBZQzLCOVMSfhJGJoQrT81SEqFUUK6Qx/CAsAj90JL3+ygj5A/kuU6Alo8uPv12Lsdi6onBfySGOpXloNr1M0JTt4HHXwUTmZdFqNdDHoCri0GEWmEIoLF0jCPk28YMz0jmPWDQ4GpwrkRs+pvaEWbSKTZv+iaGxD7puPacAksApycVAT78RoA8mRIyhFEjZyP8AHpmhumaRmP6LX10GsN6rZoxV+0GFguRDaVXROgG3yBv5spHW0KT86YD9mUQD0lK+BAaLeAcbIRzt29w1gXgrIsDhtlpfFeYu0cC865Bhnm8B5S/8zq2rY2wDVoQHMAkU34EiwV8r/jfJIFR11FuHw/KR4Hxog93NkIXcgKwB/4fov8auCyKUv+H1EVMUkaKt4XeZkYOxmsjlLC3Nssy6rDrtOw9QIf3rgJdW2vhU2Ma33MiIYsDxyg76R9/0SEsUEaZgDSRKsAz6PWtBvI/XyCNAmcU2mxNxCjnsbaqBPdrnj3U2Wh3/Pfgo9K5cXTZExnrsZQk0VKJy+1crlx7s8TujV37LR1b5IpptVdcwd4KAIFhyKVx3xOS3oGq7/wuw1zqDdZTN4FNTlaPUQ5zN324i3nLj7aYOxmePcd1+MH1nrjeQbzjDzgrmaiztllGtXbNb4AbvDN1rwj+dSC2T36O2X23cqLuZlO/5XdWo9foHbATPYB5ooLhHydWCcRRpHNvGQdX5OCwdhFJMd/BnobNktqM/jGXSz56lo/tzVjPaA2thW1n2DakhqDuiYMHvv0LOqd+EHTh9OBg/V0jvLB90RDbigpjm+ftE+ODmDUv3wStxzMWXB+cz7cfViqR7HxEj1dtBQlNCLchGQKIb3TMoADNj1rSNxZFYOQZFPD0URdQbbqDVRktvEvb49I2vGzZom2Lji1Ch94vmE0htNWy5CeLQ2ezDdExRZL9c76zvPqQnIfnE5LVAsPNXC59J7ShAWzIF8+lJKNDIHtCAc4TwHmCYSXVOflACpYruICDey1eXcBZh5vSoRrrJAzGN6KFJtai541FRh8FVyVYnvbXS2au6haOKlYR3Xoux3xR1Frn0+s9uOar2wVnzBNWTcZLK1UM2EN+02j5ePB5YmAghpduo9VvB/2w7feC3mnY776Qp6Bf8WQfbEfTuvkI9C3PR5zF1SEpJLhrmATedsqlW3P9oNcJ263TVhicnnbgB4x91zvBP8uKaldziOeAxgOWmu7tiI+JOJfVwbWVSoTAJTdKjA82W8F5QRnF2Wz5TXuDWJGiShjujFD7AOEA08H1pgDsSTW0KyvVbvmtMSMKKHL4OgTOEMxLKP+C4/skEzl3rl0bwW5Md4vPIe6vBkIwAjvhuVlf5nLtbnlp5V8HkFvB33OvAF/hxPcDUSwsVr+4HJPVDLg2Qu3Gd8UMeLmVyyvSyd5cYY83ZKbPq+4qV+YodQqatU+jmvPvsC5+AlBLAwQUAAAACAAcc1tWtWuS73kDAAA9EQAAFwAAAGdlb2dlYnJhX2RlZmF1bHRzM2QueG1s7VjNctMwED7DU2h0J7YT26k7dZkMHGAGmDJcuKq2kggcyUhKHPfVeAeeiZVWbR1ogXRCmXbwwasf76707aeV5JPn21VDNlwboWRJk1FMCZeVqoVclHRt58+O6PPTpycLrhb8XDMyV3rFbEkz9+WVHtRG0zx2baxtS1o1zBhRUdI2zDqVkqr5vBGSU0K2RhxL9Y6tuGlZxT9US75ib1TFrLe1tLY9jqKu60aXXkdKLyIwbKKtqaPFwo5AUgJDl6akoXAMdne0u4nXG8dxEn18+wb9PBPSWCYrGAhMq+Zztm6sgSJv+IpLS2zfcpiAkqKagI+GnfOmpK+lhbnyyg2RVGu9Af2gXNJJksX09OmTk0opXRuitiUFJFSP4gJFB/ACZNi3wb4N9nXY2GFj5xsjZ9AsVUfU+SdwXFKr1+A1DMhX/DfQ/UI1ShNd0jF4gLglMchzkMUYAtK0SwYWR0mMT5IWcZLkyRj1G9ZzTTYMjAavbG1V5U361jlrTPDlnb9VNceeNHwvBXDCIWMsh+iDc9NyXvsS4gnTAir0nlVDe8CID7ZvOLFLUX2W3EA8s4GSK7wSdc0dOVGHf5GoYty7pC3TQCWrgW7YLxZcbgAxpQ3Zxn4QPQiwduFqjqTbxNd7ENB74QQ0e3WYiRZbMkONGX44G6OYoEhRZAGxkyiQ5ycasa0wk5dXQZuF6oA58cQzZ99Ag3tAEt4QZbfoQoz/VkSBPP8qpiSUOcz629dfw+0XZsW05UYwOVi+L1zHj8jnDwH5v4n77UCCfckH+J35+g5+kFbvhF9ReADHCUiA0MurFJUdCsY5cztYMAHkvR2hAMxtzAwpHRM05ueQs3+7+FvV9EteayWvcRw0XUM5CVDeZeXsC3+STTz+Ge4QAwaP0rA/ZEUep3l6sFjcldJ7ITvT1VKseM3ZLrSwy90XtOMEd9906qF14nFge9ZDBhaQDYa43h9lfYqAwReI6/jRcPZMC7PaRTW5R1RzTMSIagG1B4iq5PZqnu9ceZhVs/9ZdR8sv6xZ7U9cYarvL+tDTJGgh0yNeVq4Z5on2VGSwg3mQAAd4hwqVm0jKmH/6GZx473CNeLloUdxASJ42/eqQWY5iimKIxTFb08iZq3ncNO+6WQcunaDnN4tyKB349l4NP1T1l8bvpfT8VDpl6fjaPCjILr8K3H6HVBLAwQUAAAACAAcc1tWRczeXRoAAAAYAAAAFgAAAGdlb2dlYnJhX2phdmFzY3JpcHQuanNLK81LLsnMz1NIT0/yz/PMyyzR0FSoruUCAFBLAwQUAAAACAAcc1tWdSVAzisQAAB/UAAADAAAAGdlb2dlYnJhLnhtbOVc2XLjxhV9dr6iw1S5JFuksC+2ZNfYcSVOZmzXaOxyRR6nQBKkYIEATYAS6bHfk6/IU6rynCc/x3/iL8m53Y0dJAFpNtdoRgOgl3v7Lt339DZnH24WIbvxV0kQR+cDdaQMmB9N4mkQzc8H63Q2dAYffvC7s7kfz/3xymOzeLXw0vOBSSXzevga2ZZCad5yeT6YhF6SBJMBW4ZeSlXOB/FsFgaRP2DB9Hygm47qWbox1FxHHRpTRxl6ysQbupPx2HQ8e6aOnQFjmyR4L4o/8xZ+svQm/sXkyl94D+OJl3KuV2m6fO/09Pb2dpS1bxSv5qdoQnK6Saan8/l4hOeAQcgoOR/Il/dAt1L7Vuf1NEVRT79+9FDwGQZRknrRBE0mBayDD3731tltEE3jW3YbTNMrqMs0IfGVH8yvoBLLRJtPqdQSeln6kzS48RPULX1y6dPFcsCLeRHlvyXeWJgLNmDT4CaY+qvzAXRqGaZqqZqr6JpmOoo1YPEq8KNUFlYl09OM3NlN4N8KuvTGWZqqNmBpHIdjj4iyH5nKTAW/THXZCbNspGhMNZmBFAcpNtMpzVQNpjMqourMMPA0KFm1kEPZ+Bc6YKqKHKYpTNOYpjJNx6dpMhPFbKqroazlcnoKfqk0WoRfndJ0Hb88TTfwq9EbCJmCDNph6hZ/M/m/DtUBFxP8fmQ8C2mGC3aUYNoq09ESfNsKA12QR4u5NIbC6K/KDGKi2UxzGKfK6SvQ0U2QBOPQPx/MvDAhb41mK/hf/p2k29DnSpQJhdXUE/xBieAHFDcVeIbwFuQoygn9Wvg1KIMMVrKOUbUNTKFANjRQgZj8AQVSKixGnwopBg8uhKKQWfAwRRkISJ8Qkj9EGW46PPQ+EqardV3ATDy9j3joFrl4KEeOgwf5BB46o2bjBc2nhyE/LfHJvU2B14hUsj0ecCU41D2tBV3cQRioIOcqFNSHacaSROrOs5df1q2Wi2no0Fjqjc8HDx7+6ZOPHj/oIfQ9dZ2LTeNlxtRUTvhf/ttgqd9L6LtwtCrd8KULrGroJ8+Dp+F05mkorv1c1OxqUF7uTapmn6iWfmITW9JAja2NpJYBTzwxPPDny7H/2WkWLc9ki1hyRWVl3079BYCDwmydWXzE4mET8RLxQsROW2O2yWwar7IIiojnMIueMoxSEHUqYdSkIFuKpRYlIl7R8MZ4GBRBVTOyuIp3Hlkp6lYjK0KgUURBNJBIqYwhdjOLRkwZDtEKLQ+IGpqP+GcxBE1TYxaNyjtiI2BcnAS5Yq/8EBBPmoDrMIiW67Sit8mCcA5/TWOU9kIOz2T5aTy5/ijXtKTkewlAVEEWgKbATQLgVGDVW2ehN/aBKecX5AaM3Xgh9VvOYRZHKctcwKK0s1MO4c789SQMpoEXfQW7Z2jps/Vi7K/gb3iNSUhOhKqzHOtp1K1yrKcYoswkjlfTi20CP2Gbv/kr1B6qijPSLVc3HMNWbU2z0ce2Is/QlJEJsGPYwHOm6WomHHXikY+76ghlDdN2LcPQQAOV2rNMW/D2by78NIUCEuZtfLipVN58RZ2s9PFp8lEcFknLOIjSj71lul5xmI8IsSKxHkTz0OfK5HYGCp5cj+PNBdeiBjcgWk+2S3wNpYrG84/jMF4xdEHNhCygxp8IMvTkZahteSkduiCWeKAMHrwIEc6LqC66PsrwJwrRk5ei+YOwtRAXbRSiSqN7myDh4wsMVXEt7igEq9dRkD7MPtJgcl1ISxWEG4Ay99wqTVnk/jTPTmsueCY7R+aQi3jqC2eWSp7EYegtE39acvGz00qts2t/FfkhlV4nfqL/URQt5JigQwTROl4nIkdIwbNQ4QsvvXoQTR/7c3TyLzwaZFM0uk5k6k+CBSqKdGkVj7zmSyhBpE79+crPlCeaKGwm286S5cr3psmV76MfScuJXlQuxkXMhDoDagl9Hj4WAQYhUFl4G0Et9TG8iPLJZBUsqT+wMSLBtV94/DRIiEKeQKWhkQSiYTiJI9gtJZtd33jTlZcmfhqBDCaz6/QqhkuCgpciH9O2M38DATC7RS3pA2GAVqATIed88Cz5fpUeaccnjL/o2YuJF5WdMk08dPEw82IiS1YufZj84yfeZD/0F5j4sZT3QWKb+6FsAykzHn+X9yVoiHoSRTv0JJqeh8srj6aVSOM/quEqKs0vM2vCwlwlUrMj8uOlT7rDm+AMOpjYb/ngUXKkon+mV+gHmI3C7TEY5JXo5c/BdOrzQCKmyjQW0QgjDC+HDJFa8wfpas3kZLsYx2EwKbmrCCBSX9zYi4UXTVnE4cNjvMaLT0Qu15mIYJ6SK5ITjtdpnqyPhU9KSg1rROuFv6Ilj8wgqMDDixeus+48snVNMRVHsU3LcWxb6nxH+9ss2dGOZdF3+CuMyf31wv9+jRUf/zI4YfiL4AXPVJ6yb9gz5Sehx0Nup97f7V6N69zDQ2Qbyh6i9vUQVKh5yMtxiP2t8m/8sOG5sl0IW4BJfAyG//AxGP+IKswbJ3G4TrFMhwAQFct0ov0SRmGdAqtweNqw7hZrA+6AzYJNaazGgBv8gGhViE5h9IEIJeVoVLM/JtS7XYlm2/t8iVgwaBfoMp9MCH0U/O6sfEKqW4KXJX/k1B/lkd5tH327j70TwDmqx6l9Ftz88u/9Dp51+5pvB5BFFQ+NM/X0vGeVfZ26gHSsXe7eHCe0N2uc+As4XD4Tkp+wo6F4O/7paVOd2nLRd/DgVWrdVIr2YoePngOlNFxF2t6yvu6S9jO119/UXl0BQzn/fF00sNPWvYVtiJoN0a+TpG0Asa+kqNAAiIaK+b1uWppu64prvmail9wc8xfp5nqrm+v93ZxXqbu5NtJ0S7Fs17YN17VlnHyZCvl0VncAgjvs13/+i1F8RLSkB6Llp7PLIgvDAFz5hFUSoTTemWvJRltZzAy5RmrJFiXXE22e+JT/NEzR0wy7ut+r6GVtILuvV6HCqx9PDvuQiOftfqSO2/2onkx+pNcTuR/VE8mLtHoi96LxDi/qGbJfh4C9R+k6+/Uf/2El0YURPtlgD316eeSxd9jmmL3LjsZ42x4/bTGMUSMBPXuoAaU2qECnDX3O/v5MFYs6O3U6W0d8cSq68Va5YkW9DlMW5t/QxnJDudgE3qFezMi6TVb2TbT2YvEXaKthb1sNW2yFtHZbyQW43rZCvTfJVg1FVwKkGO8vVewuNZUc9Rtgoh1LJy9ghWS8TtM4Kjhv4+Vy7t2IqXPfhYO2XZK8ZY09FRwT4KUdsV2CXaG8cL69ssMFPp/NsIxNSy0WaGClxZaYtd1B+BpMfb3fW2+CMPBW23oGDlaJxXaR8eWSlsc/Li2oXz59+w8b733sT31FJjpK0C9mfpiesLe/X8fp++Lf47a1iy3L9Fvs5CWw/azY9sVc/hE/FZFv8Imt4IPTddHdaRV/4iWPvCUxQDkIeO1DRdlocKQesw0GbhyHq/wc/++/GF54Mzff0jI9IoSWjfISVrSQ46TuXHfYUhejXYe6OlXeliofuVSJKHASR5agQcMmCG0pYycxvlvBtWKUKfItDbMgC6kcXjJrHd98PUCxtNFRbW8L9aOisGQim39kIsmgL162K1to8yBLruxiawbMK4wptzNT8XaQpZanFXzycgeYldWZsawpNtNVq16la5XZdtSrnvPTmyKWnC+TkCdVOVFSB06FZC2capKJUnfhlOlkr5PWLHc3rxwqI8eyFA1HFHXbMQzd5eOPqjqKrrvYLDJcxy1xtXTsI+ma5biW5jiujrMBhmPplq4bOJ9ySofk9v3s1m1tyNvfCgM8i8m55aqmqziGa+OMDA6rHGjFzjZopG6touOaRZ2qjjvol4ZCrW0c5ZSJisRfO8bvZl3Jt0Nds60ujvnIyjgDIqBPHpIKaHXE8f7R5gSSHhfjcwk3Ycv6DtCUajXgS/Vkw15kqtJZWb50L89o0PPO6LQVfNwPsjZ3PQmCyD1PehU6Zefsw4xkpqiWrfZWHXKC91FihgUdAQXvg+9fgAaryOmJv0lngR8SeCo7KFdC3ScztLffMdOcZFmjvN5z3JLrdE6pP6jGSiSBas12nh+qruDgR+swDZZYBkM71ul7dwbDe9Zc6EwQzHFB9BqZoR/N0yu5YiZHqJ2bicECLZ1tdwLrrMAeaE1xmrIAd+tZ9TG7iXgL+gJrM4mb+9WkGlSTKPSpKXE2oxfA6LxuFW63w+uCShlgC4BCX0N87QSKaFYTXrdRrGKXgjri0FDmZZl7mB3CMjs5c4xdlqlI3cduD65uY5Uh6zKjLC1nw82MMu8IQ+ON2O5jsAtNs1qOYFZRYRkaSgeg0k20UBWniqKFOJQmOFDaXnHcQ+qqYmc5r2inX0PTMMoB5NzUW5v/lfN2e+Adna8blG4rRmNPrVjWmCEAbvHjOCZO8FoqHci1bN1274C4SzbpgLmbhfY1Viu31rknLC8amgFzdE2Op0u2qjpJJzsJSC4cV2sMuPs6iaghBvn+NeF3vKbZqNkViUM6vrYrcXkTk0sQ2ROTo9YbhslT/zpJs5OIYk3wcXCdBvPfi48WKE6osdCHqN9ZaxKsAfhM+X0GfrTsc1kJWwaR2JLD0VsYhr/DKOWvGy9buW5RPF+ub0Of99L5bswHbtmNnwbmS71V+gUdceJgdaTiQo2r4EKCqdq2K47e6SMdgwNuKCh0LBUjw4D90Mlq8pR0xWzfhP4sPRLvNKg/9J74X1/yPvOUJrmyFL9ncPytJs3bcry0Yt+MU18Dd54X3MsyQcKl7G6wPSC9/fAkX75HWVhLFXclDlgmjr5bz+9jmm8m0zjdWUNrqdHVlFnT3mhbostyWzYmVLttiYOwOFx70J4X69WUJumXOAdS2Ch7tpTDTmcf67fTH/Yi39NVuORvtLvIrq916Pq4zct95Ii2V0eY0UjN8nOuLXFUpBe174M86IIbFE2P9i3NrrrudPsEL20noHsd8+UXjhLSsdgchcbao19zFay2AHbooEHZmfmBmxxjZDl4E2EORw/4djlMSdvlQuV0AFu+GXS1Fk8zF6OEOUubpvuX3HKT9tjGfqEd7CX1JWFo1eX++1wPpU36HV2Y1I8uyI353+Ypz97XolrOrSsjvfbz6u/B5Pdaam2VN1bLV2GGGDv4XRh+PKPzLZg7XntpnYPR/+7S9XpLy8D+wu+3yHaUxvcu11p6X1/hyEOgDH4HpoR+An4yrHG3JTdzw7cplbt+n2suRaV7qL3lPsyLPu31vG/JNPEJ/heo69CjC+dCP/K2bMlim3fH4uXpCSsle3vSt20Zf5VxFce2Vtvra7YAfPOjLMiu4pTBRtDjePXLz9ddCaRxTuCXn1Ncji4T8Vc7G9ife1GtG8/DlzTrqn/zXPMOd4Sf0IXxFrxX6uJ8OGn4NQ0uwjQ/hjfFMlZlcOHrVgfuzzUXusT9uVc6GeqN1fL/iIXf1e8G1Qyxt6qbDai2P2QXpkB0zhx9/y3WPHTTlOWVRO5eN1N/m6EbLl6cDKXv7H/r++D/UEsBAhQAFAAAAAgAHHNbVp3k+zchBQAALyYAABcAAAAAAAAAAAAAAAAAAAAAAGdlb2dlYnJhX2RlZmF1bHRzMmQueG1sUEsBAhQAFAAAAAgAHHNbVrVrku95AwAAPREAABcAAAAAAAAAAAAAAAAAVgUAAGdlb2dlYnJhX2RlZmF1bHRzM2QueG1sUEsBAhQAFAAAAAgAHHNbVkXM3l0aAAAAGAAAABYAAAAAAAAAAAAAAAAABAkAAGdlb2dlYnJhX2phdmFzY3JpcHQuanNQSwECFAAUAAAACAAcc1tWdSVAzisQAAB/UAAADAAAAAAAAAAAAAAAAABSCQAAZ2VvZ2VicmEueG1sUEsFBgAAAAAEAAQACAEAAKcZAAAAAA==\",\n",
    "    };\n",
    "var applet1 = new GGBApplet(parameters1, '5.0', views);\n",
    "\n",
    "window.addEventListener(\"load\", function() {\n",
    "                    applet1.inject('applet_container1');\n",
    "                 });\n",
    "\n",
    "applet.setPreviewImage('data:image/gif;base64,R0lGODlhAQABAAAAADs=','https://www.geogebra.org/images/GeoGebra_loading.png','https://www.geogebra.org/images/applet_play.png');\n",
    "</script>\n",
    "\n",
    "<div id=\"applet_container1\"></div>"
   ]
  }
 ],
 "metadata": {
  "kernelspec": {
   "display_name": "Python37",
   "language": "python",
   "name": "python3"
  },
  "language_info": {
   "codemirror_mode": {
    "name": "ipython",
    "version": 3
   },
   "file_extension": ".py",
   "mimetype": "text/x-python",
   "name": "python",
   "nbconvert_exporter": "python",
   "pygments_lexer": "ipython3",
   "version": "3.7.15 (default, Nov 24 2022, 18:44:54) [MSC v.1916 64 bit (AMD64)]"
  },
  "orig_nbformat": 4,
  "vscode": {
   "interpreter": {
    "hash": "6fbbe1ff1dbaaf20226355198eb8fd50bda93b517708eea3a794f0f516b66309"
   }
  }
 },
 "nbformat": 4,
 "nbformat_minor": 2
}
